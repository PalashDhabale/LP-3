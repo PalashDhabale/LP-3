{
  "nbformat": 4,
  "nbformat_minor": 0,
  "metadata": {
    "colab": {
      "provenance": []
    },
    "kernelspec": {
      "name": "python3",
      "display_name": "Python 3"
    },
    "language_info": {
      "name": "python"
    }
  },
  "cells": [
    {
      "cell_type": "code",
      "execution_count": null,
      "metadata": {
        "id": "9wGLfKhlWPtP"
      },
      "outputs": [],
      "source": [
        "import pandas as pd"
      ]
    },
    {
      "cell_type": "code",
      "source": [
        "import numpy as np"
      ],
      "metadata": {
        "id": "wZFaE0h_Wopp"
      },
      "execution_count": null,
      "outputs": []
    },
    {
      "cell_type": "code",
      "source": [
        "import matplotlib.pyplot as plt"
      ],
      "metadata": {
        "id": "jfK8IUi2WqMh"
      },
      "execution_count": null,
      "outputs": []
    },
    {
      "cell_type": "code",
      "source": [
        "from sklearn.cluster import KMeans"
      ],
      "metadata": {
        "id": "3T_NGggVWup0"
      },
      "execution_count": null,
      "outputs": []
    },
    {
      "cell_type": "code",
      "source": [
        "df = pd.read_csv('sales_data_sample.csv', encoding=\"ISO-8859-1\")"
      ],
      "metadata": {
        "id": "tMppFDcaW5Yc"
      },
      "execution_count": null,
      "outputs": []
    },
    {
      "cell_type": "code",
      "source": [
        "df.describe()"
      ],
      "metadata": {
        "colab": {
          "base_uri": "https://localhost:8080/",
          "height": 320
        },
        "id": "h8lONRUJXguu",
        "outputId": "c9a884d3-6ccc-4aaf-9a2f-10f44513c860"
      },
      "execution_count": null,
      "outputs": [
        {
          "output_type": "execute_result",
          "data": {
            "text/plain": [
              "        ORDERNUMBER  QUANTITYORDERED    PRICEEACH  ORDERLINENUMBER  \\\n",
              "count   2823.000000      2823.000000  2823.000000      2823.000000   \n",
              "mean   10258.725115        35.092809    83.658544         6.466171   \n",
              "std       92.085478         9.741443    20.174277         4.225841   \n",
              "min    10100.000000         6.000000    26.880000         1.000000   \n",
              "25%    10180.000000        27.000000    68.860000         3.000000   \n",
              "50%    10262.000000        35.000000    95.700000         6.000000   \n",
              "75%    10333.500000        43.000000   100.000000         9.000000   \n",
              "max    10425.000000        97.000000   100.000000        18.000000   \n",
              "\n",
              "              SALES       QTR_ID     MONTH_ID     YEAR_ID         MSRP  \n",
              "count   2823.000000  2823.000000  2823.000000  2823.00000  2823.000000  \n",
              "mean    3553.889072     2.717676     7.092455  2003.81509   100.715551  \n",
              "std     1841.865106     1.203878     3.656633     0.69967    40.187912  \n",
              "min      482.130000     1.000000     1.000000  2003.00000    33.000000  \n",
              "25%     2203.430000     2.000000     4.000000  2003.00000    68.000000  \n",
              "50%     3184.800000     3.000000     8.000000  2004.00000    99.000000  \n",
              "75%     4508.000000     4.000000    11.000000  2004.00000   124.000000  \n",
              "max    14082.800000     4.000000    12.000000  2005.00000   214.000000  "
            ],
            "text/html": [
              "\n",
              "  <div id=\"df-5fe34263-ffd7-462e-9077-81315107a75a\" class=\"colab-df-container\">\n",
              "    <div>\n",
              "<style scoped>\n",
              "    .dataframe tbody tr th:only-of-type {\n",
              "        vertical-align: middle;\n",
              "    }\n",
              "\n",
              "    .dataframe tbody tr th {\n",
              "        vertical-align: top;\n",
              "    }\n",
              "\n",
              "    .dataframe thead th {\n",
              "        text-align: right;\n",
              "    }\n",
              "</style>\n",
              "<table border=\"1\" class=\"dataframe\">\n",
              "  <thead>\n",
              "    <tr style=\"text-align: right;\">\n",
              "      <th></th>\n",
              "      <th>ORDERNUMBER</th>\n",
              "      <th>QUANTITYORDERED</th>\n",
              "      <th>PRICEEACH</th>\n",
              "      <th>ORDERLINENUMBER</th>\n",
              "      <th>SALES</th>\n",
              "      <th>QTR_ID</th>\n",
              "      <th>MONTH_ID</th>\n",
              "      <th>YEAR_ID</th>\n",
              "      <th>MSRP</th>\n",
              "    </tr>\n",
              "  </thead>\n",
              "  <tbody>\n",
              "    <tr>\n",
              "      <th>count</th>\n",
              "      <td>2823.000000</td>\n",
              "      <td>2823.000000</td>\n",
              "      <td>2823.000000</td>\n",
              "      <td>2823.000000</td>\n",
              "      <td>2823.000000</td>\n",
              "      <td>2823.000000</td>\n",
              "      <td>2823.000000</td>\n",
              "      <td>2823.00000</td>\n",
              "      <td>2823.000000</td>\n",
              "    </tr>\n",
              "    <tr>\n",
              "      <th>mean</th>\n",
              "      <td>10258.725115</td>\n",
              "      <td>35.092809</td>\n",
              "      <td>83.658544</td>\n",
              "      <td>6.466171</td>\n",
              "      <td>3553.889072</td>\n",
              "      <td>2.717676</td>\n",
              "      <td>7.092455</td>\n",
              "      <td>2003.81509</td>\n",
              "      <td>100.715551</td>\n",
              "    </tr>\n",
              "    <tr>\n",
              "      <th>std</th>\n",
              "      <td>92.085478</td>\n",
              "      <td>9.741443</td>\n",
              "      <td>20.174277</td>\n",
              "      <td>4.225841</td>\n",
              "      <td>1841.865106</td>\n",
              "      <td>1.203878</td>\n",
              "      <td>3.656633</td>\n",
              "      <td>0.69967</td>\n",
              "      <td>40.187912</td>\n",
              "    </tr>\n",
              "    <tr>\n",
              "      <th>min</th>\n",
              "      <td>10100.000000</td>\n",
              "      <td>6.000000</td>\n",
              "      <td>26.880000</td>\n",
              "      <td>1.000000</td>\n",
              "      <td>482.130000</td>\n",
              "      <td>1.000000</td>\n",
              "      <td>1.000000</td>\n",
              "      <td>2003.00000</td>\n",
              "      <td>33.000000</td>\n",
              "    </tr>\n",
              "    <tr>\n",
              "      <th>25%</th>\n",
              "      <td>10180.000000</td>\n",
              "      <td>27.000000</td>\n",
              "      <td>68.860000</td>\n",
              "      <td>3.000000</td>\n",
              "      <td>2203.430000</td>\n",
              "      <td>2.000000</td>\n",
              "      <td>4.000000</td>\n",
              "      <td>2003.00000</td>\n",
              "      <td>68.000000</td>\n",
              "    </tr>\n",
              "    <tr>\n",
              "      <th>50%</th>\n",
              "      <td>10262.000000</td>\n",
              "      <td>35.000000</td>\n",
              "      <td>95.700000</td>\n",
              "      <td>6.000000</td>\n",
              "      <td>3184.800000</td>\n",
              "      <td>3.000000</td>\n",
              "      <td>8.000000</td>\n",
              "      <td>2004.00000</td>\n",
              "      <td>99.000000</td>\n",
              "    </tr>\n",
              "    <tr>\n",
              "      <th>75%</th>\n",
              "      <td>10333.500000</td>\n",
              "      <td>43.000000</td>\n",
              "      <td>100.000000</td>\n",
              "      <td>9.000000</td>\n",
              "      <td>4508.000000</td>\n",
              "      <td>4.000000</td>\n",
              "      <td>11.000000</td>\n",
              "      <td>2004.00000</td>\n",
              "      <td>124.000000</td>\n",
              "    </tr>\n",
              "    <tr>\n",
              "      <th>max</th>\n",
              "      <td>10425.000000</td>\n",
              "      <td>97.000000</td>\n",
              "      <td>100.000000</td>\n",
              "      <td>18.000000</td>\n",
              "      <td>14082.800000</td>\n",
              "      <td>4.000000</td>\n",
              "      <td>12.000000</td>\n",
              "      <td>2005.00000</td>\n",
              "      <td>214.000000</td>\n",
              "    </tr>\n",
              "  </tbody>\n",
              "</table>\n",
              "</div>\n",
              "    <div class=\"colab-df-buttons\">\n",
              "\n",
              "  <div class=\"colab-df-container\">\n",
              "    <button class=\"colab-df-convert\" onclick=\"convertToInteractive('df-5fe34263-ffd7-462e-9077-81315107a75a')\"\n",
              "            title=\"Convert this dataframe to an interactive table.\"\n",
              "            style=\"display:none;\">\n",
              "\n",
              "  <svg xmlns=\"http://www.w3.org/2000/svg\" height=\"24px\" viewBox=\"0 -960 960 960\">\n",
              "    <path d=\"M120-120v-720h720v720H120Zm60-500h600v-160H180v160Zm220 220h160v-160H400v160Zm0 220h160v-160H400v160ZM180-400h160v-160H180v160Zm440 0h160v-160H620v160ZM180-180h160v-160H180v160Zm440 0h160v-160H620v160Z\"/>\n",
              "  </svg>\n",
              "    </button>\n",
              "\n",
              "  <style>\n",
              "    .colab-df-container {\n",
              "      display:flex;\n",
              "      gap: 12px;\n",
              "    }\n",
              "\n",
              "    .colab-df-convert {\n",
              "      background-color: #E8F0FE;\n",
              "      border: none;\n",
              "      border-radius: 50%;\n",
              "      cursor: pointer;\n",
              "      display: none;\n",
              "      fill: #1967D2;\n",
              "      height: 32px;\n",
              "      padding: 0 0 0 0;\n",
              "      width: 32px;\n",
              "    }\n",
              "\n",
              "    .colab-df-convert:hover {\n",
              "      background-color: #E2EBFA;\n",
              "      box-shadow: 0px 1px 2px rgba(60, 64, 67, 0.3), 0px 1px 3px 1px rgba(60, 64, 67, 0.15);\n",
              "      fill: #174EA6;\n",
              "    }\n",
              "\n",
              "    .colab-df-buttons div {\n",
              "      margin-bottom: 4px;\n",
              "    }\n",
              "\n",
              "    [theme=dark] .colab-df-convert {\n",
              "      background-color: #3B4455;\n",
              "      fill: #D2E3FC;\n",
              "    }\n",
              "\n",
              "    [theme=dark] .colab-df-convert:hover {\n",
              "      background-color: #434B5C;\n",
              "      box-shadow: 0px 1px 3px 1px rgba(0, 0, 0, 0.15);\n",
              "      filter: drop-shadow(0px 1px 2px rgba(0, 0, 0, 0.3));\n",
              "      fill: #FFFFFF;\n",
              "    }\n",
              "  </style>\n",
              "\n",
              "    <script>\n",
              "      const buttonEl =\n",
              "        document.querySelector('#df-5fe34263-ffd7-462e-9077-81315107a75a button.colab-df-convert');\n",
              "      buttonEl.style.display =\n",
              "        google.colab.kernel.accessAllowed ? 'block' : 'none';\n",
              "\n",
              "      async function convertToInteractive(key) {\n",
              "        const element = document.querySelector('#df-5fe34263-ffd7-462e-9077-81315107a75a');\n",
              "        const dataTable =\n",
              "          await google.colab.kernel.invokeFunction('convertToInteractive',\n",
              "                                                    [key], {});\n",
              "        if (!dataTable) return;\n",
              "\n",
              "        const docLinkHtml = 'Like what you see? Visit the ' +\n",
              "          '<a target=\"_blank\" href=https://colab.research.google.com/notebooks/data_table.ipynb>data table notebook</a>'\n",
              "          + ' to learn more about interactive tables.';\n",
              "        element.innerHTML = '';\n",
              "        dataTable['output_type'] = 'display_data';\n",
              "        await google.colab.output.renderOutput(dataTable, element);\n",
              "        const docLink = document.createElement('div');\n",
              "        docLink.innerHTML = docLinkHtml;\n",
              "        element.appendChild(docLink);\n",
              "      }\n",
              "    </script>\n",
              "  </div>\n",
              "\n",
              "\n",
              "<div id=\"df-385e1b14-da6b-48f8-960c-4954b189ea1d\">\n",
              "  <button class=\"colab-df-quickchart\" onclick=\"quickchart('df-385e1b14-da6b-48f8-960c-4954b189ea1d')\"\n",
              "            title=\"Suggest charts\"\n",
              "            style=\"display:none;\">\n",
              "\n",
              "<svg xmlns=\"http://www.w3.org/2000/svg\" height=\"24px\"viewBox=\"0 0 24 24\"\n",
              "     width=\"24px\">\n",
              "    <g>\n",
              "        <path d=\"M19 3H5c-1.1 0-2 .9-2 2v14c0 1.1.9 2 2 2h14c1.1 0 2-.9 2-2V5c0-1.1-.9-2-2-2zM9 17H7v-7h2v7zm4 0h-2V7h2v10zm4 0h-2v-4h2v4z\"/>\n",
              "    </g>\n",
              "</svg>\n",
              "  </button>\n",
              "\n",
              "<style>\n",
              "  .colab-df-quickchart {\n",
              "      --bg-color: #E8F0FE;\n",
              "      --fill-color: #1967D2;\n",
              "      --hover-bg-color: #E2EBFA;\n",
              "      --hover-fill-color: #174EA6;\n",
              "      --disabled-fill-color: #AAA;\n",
              "      --disabled-bg-color: #DDD;\n",
              "  }\n",
              "\n",
              "  [theme=dark] .colab-df-quickchart {\n",
              "      --bg-color: #3B4455;\n",
              "      --fill-color: #D2E3FC;\n",
              "      --hover-bg-color: #434B5C;\n",
              "      --hover-fill-color: #FFFFFF;\n",
              "      --disabled-bg-color: #3B4455;\n",
              "      --disabled-fill-color: #666;\n",
              "  }\n",
              "\n",
              "  .colab-df-quickchart {\n",
              "    background-color: var(--bg-color);\n",
              "    border: none;\n",
              "    border-radius: 50%;\n",
              "    cursor: pointer;\n",
              "    display: none;\n",
              "    fill: var(--fill-color);\n",
              "    height: 32px;\n",
              "    padding: 0;\n",
              "    width: 32px;\n",
              "  }\n",
              "\n",
              "  .colab-df-quickchart:hover {\n",
              "    background-color: var(--hover-bg-color);\n",
              "    box-shadow: 0 1px 2px rgba(60, 64, 67, 0.3), 0 1px 3px 1px rgba(60, 64, 67, 0.15);\n",
              "    fill: var(--button-hover-fill-color);\n",
              "  }\n",
              "\n",
              "  .colab-df-quickchart-complete:disabled,\n",
              "  .colab-df-quickchart-complete:disabled:hover {\n",
              "    background-color: var(--disabled-bg-color);\n",
              "    fill: var(--disabled-fill-color);\n",
              "    box-shadow: none;\n",
              "  }\n",
              "\n",
              "  .colab-df-spinner {\n",
              "    border: 2px solid var(--fill-color);\n",
              "    border-color: transparent;\n",
              "    border-bottom-color: var(--fill-color);\n",
              "    animation:\n",
              "      spin 1s steps(1) infinite;\n",
              "  }\n",
              "\n",
              "  @keyframes spin {\n",
              "    0% {\n",
              "      border-color: transparent;\n",
              "      border-bottom-color: var(--fill-color);\n",
              "      border-left-color: var(--fill-color);\n",
              "    }\n",
              "    20% {\n",
              "      border-color: transparent;\n",
              "      border-left-color: var(--fill-color);\n",
              "      border-top-color: var(--fill-color);\n",
              "    }\n",
              "    30% {\n",
              "      border-color: transparent;\n",
              "      border-left-color: var(--fill-color);\n",
              "      border-top-color: var(--fill-color);\n",
              "      border-right-color: var(--fill-color);\n",
              "    }\n",
              "    40% {\n",
              "      border-color: transparent;\n",
              "      border-right-color: var(--fill-color);\n",
              "      border-top-color: var(--fill-color);\n",
              "    }\n",
              "    60% {\n",
              "      border-color: transparent;\n",
              "      border-right-color: var(--fill-color);\n",
              "    }\n",
              "    80% {\n",
              "      border-color: transparent;\n",
              "      border-right-color: var(--fill-color);\n",
              "      border-bottom-color: var(--fill-color);\n",
              "    }\n",
              "    90% {\n",
              "      border-color: transparent;\n",
              "      border-bottom-color: var(--fill-color);\n",
              "    }\n",
              "  }\n",
              "</style>\n",
              "\n",
              "  <script>\n",
              "    async function quickchart(key) {\n",
              "      const quickchartButtonEl =\n",
              "        document.querySelector('#' + key + ' button');\n",
              "      quickchartButtonEl.disabled = true;  // To prevent multiple clicks.\n",
              "      quickchartButtonEl.classList.add('colab-df-spinner');\n",
              "      try {\n",
              "        const charts = await google.colab.kernel.invokeFunction(\n",
              "            'suggestCharts', [key], {});\n",
              "      } catch (error) {\n",
              "        console.error('Error during call to suggestCharts:', error);\n",
              "      }\n",
              "      quickchartButtonEl.classList.remove('colab-df-spinner');\n",
              "      quickchartButtonEl.classList.add('colab-df-quickchart-complete');\n",
              "    }\n",
              "    (() => {\n",
              "      let quickchartButtonEl =\n",
              "        document.querySelector('#df-385e1b14-da6b-48f8-960c-4954b189ea1d button');\n",
              "      quickchartButtonEl.style.display =\n",
              "        google.colab.kernel.accessAllowed ? 'block' : 'none';\n",
              "    })();\n",
              "  </script>\n",
              "</div>\n",
              "\n",
              "    </div>\n",
              "  </div>\n"
            ],
            "application/vnd.google.colaboratory.intrinsic+json": {
              "type": "dataframe",
              "summary": "{\n  \"name\": \"df\",\n  \"rows\": 8,\n  \"fields\": [\n    {\n      \"column\": \"ORDERNUMBER\",\n      \"properties\": {\n        \"dtype\": \"number\",\n        \"std\": 4140.6529880487,\n        \"min\": 92.08547759571952,\n        \"max\": 10425.0,\n        \"num_unique_values\": 8,\n        \"samples\": [\n          10258.725115125753,\n          10262.0,\n          2823.0\n        ],\n        \"semantic_type\": \"\",\n        \"description\": \"\"\n      }\n    },\n    {\n      \"column\": \"QUANTITYORDERED\",\n      \"properties\": {\n        \"dtype\": \"number\",\n        \"std\": 985.7056107814681,\n        \"min\": 6.0,\n        \"max\": 2823.0,\n        \"num_unique_values\": 8,\n        \"samples\": [\n          35.09280906836698,\n          35.0,\n          2823.0\n        ],\n        \"semantic_type\": \"\",\n        \"description\": \"\"\n      }\n    },\n    {\n      \"column\": \"PRICEEACH\",\n      \"properties\": {\n        \"dtype\": \"number\",\n        \"std\": 973.578866378971,\n        \"min\": 20.174276527840703,\n        \"max\": 2823.0,\n        \"num_unique_values\": 7,\n        \"samples\": [\n          2823.0,\n          83.65854410201914,\n          95.7\n        ],\n        \"semantic_type\": \"\",\n        \"description\": \"\"\n      }\n    },\n    {\n      \"column\": \"ORDERLINENUMBER\",\n      \"properties\": {\n        \"dtype\": \"number\",\n        \"std\": 995.6857357647336,\n        \"min\": 1.0,\n        \"max\": 2823.0,\n        \"num_unique_values\": 8,\n        \"samples\": [\n          6.466170740347148,\n          6.0,\n          2823.0\n        ],\n        \"semantic_type\": \"\",\n        \"description\": \"\"\n      }\n    },\n    {\n      \"column\": \"SALES\",\n      \"properties\": {\n        \"dtype\": \"number\",\n        \"std\": 4215.153763551263,\n        \"min\": 482.13,\n        \"max\": 14082.8,\n        \"num_unique_values\": 8,\n        \"samples\": [\n          3553.889071909316,\n          3184.8,\n          2823.0\n        ],\n        \"semantic_type\": \"\",\n        \"description\": \"\"\n      }\n    },\n    {\n      \"column\": \"QTR_ID\",\n      \"properties\": {\n        \"dtype\": \"number\",\n        \"std\": 997.1766876939749,\n        \"min\": 1.0,\n        \"max\": 2823.0,\n        \"num_unique_values\": 7,\n        \"samples\": [\n          2823.0,\n          2.7176762309599716,\n          3.0\n        ],\n        \"semantic_type\": \"\",\n        \"description\": \"\"\n      }\n    },\n    {\n      \"column\": \"MONTH_ID\",\n      \"properties\": {\n        \"dtype\": \"number\",\n        \"std\": 995.7270276587267,\n        \"min\": 1.0,\n        \"max\": 2823.0,\n        \"num_unique_values\": 8,\n        \"samples\": [\n          7.0924548352816155,\n          8.0,\n          2823.0\n        ],\n        \"semantic_type\": \"\",\n        \"description\": \"\"\n      }\n    },\n    {\n      \"column\": \"YEAR_ID\",\n      \"properties\": {\n        \"dtype\": \"number\",\n        \"std\": 802.5231940674222,\n        \"min\": 0.6996701541300782,\n        \"max\": 2823.0,\n        \"num_unique_values\": 6,\n        \"samples\": [\n          2823.0,\n          2003.8150903294368,\n          2005.0\n        ],\n        \"semantic_type\": \"\",\n        \"description\": \"\"\n      }\n    },\n    {\n      \"column\": \"MSRP\",\n      \"properties\": {\n        \"dtype\": \"number\",\n        \"std\": 965.4649292907184,\n        \"min\": 33.0,\n        \"max\": 2823.0,\n        \"num_unique_values\": 8,\n        \"samples\": [\n          100.71555083244775,\n          99.0,\n          2823.0\n        ],\n        \"semantic_type\": \"\",\n        \"description\": \"\"\n      }\n    }\n  ]\n}"
            }
          },
          "metadata": {},
          "execution_count": 10
        }
      ]
    },
    {
      "cell_type": "code",
      "source": [
        "df.info()"
      ],
      "metadata": {
        "colab": {
          "base_uri": "https://localhost:8080/"
        },
        "id": "RtU-v0Eebj6b",
        "outputId": "573bd07a-4b2f-421f-fd9d-39e4b73bfc18"
      },
      "execution_count": null,
      "outputs": [
        {
          "output_type": "stream",
          "name": "stdout",
          "text": [
            "<class 'pandas.core.frame.DataFrame'>\n",
            "RangeIndex: 2823 entries, 0 to 2822\n",
            "Data columns (total 25 columns):\n",
            " #   Column            Non-Null Count  Dtype  \n",
            "---  ------            --------------  -----  \n",
            " 0   ORDERNUMBER       2823 non-null   int64  \n",
            " 1   QUANTITYORDERED   2823 non-null   int64  \n",
            " 2   PRICEEACH         2823 non-null   float64\n",
            " 3   ORDERLINENUMBER   2823 non-null   int64  \n",
            " 4   SALES             2823 non-null   float64\n",
            " 5   ORDERDATE         2823 non-null   object \n",
            " 6   STATUS            2823 non-null   object \n",
            " 7   QTR_ID            2823 non-null   int64  \n",
            " 8   MONTH_ID          2823 non-null   int64  \n",
            " 9   YEAR_ID           2823 non-null   int64  \n",
            " 10  PRODUCTLINE       2823 non-null   object \n",
            " 11  MSRP              2823 non-null   int64  \n",
            " 12  PRODUCTCODE       2823 non-null   object \n",
            " 13  CUSTOMERNAME      2823 non-null   object \n",
            " 14  PHONE             2823 non-null   object \n",
            " 15  ADDRESSLINE1      2823 non-null   object \n",
            " 16  ADDRESSLINE2      302 non-null    object \n",
            " 17  CITY              2823 non-null   object \n",
            " 18  STATE             1337 non-null   object \n",
            " 19  POSTALCODE        2747 non-null   object \n",
            " 20  COUNTRY           2823 non-null   object \n",
            " 21  TERRITORY         1749 non-null   object \n",
            " 22  CONTACTLASTNAME   2823 non-null   object \n",
            " 23  CONTACTFIRSTNAME  2823 non-null   object \n",
            " 24  DEALSIZE          2823 non-null   object \n",
            "dtypes: float64(2), int64(7), object(16)\n",
            "memory usage: 551.5+ KB\n"
          ]
        }
      ]
    },
    {
      "cell_type": "code",
      "source": [
        "df.isnull().sum()"
      ],
      "metadata": {
        "colab": {
          "base_uri": "https://localhost:8080/",
          "height": 867
        },
        "id": "SnTSWbpFbrVJ",
        "outputId": "290b1686-e532-4b2c-b5f7-ecfb95de1aed"
      },
      "execution_count": null,
      "outputs": [
        {
          "output_type": "execute_result",
          "data": {
            "text/plain": [
              "ORDERNUMBER            0\n",
              "QUANTITYORDERED        0\n",
              "PRICEEACH              0\n",
              "ORDERLINENUMBER        0\n",
              "SALES                  0\n",
              "ORDERDATE              0\n",
              "STATUS                 0\n",
              "QTR_ID                 0\n",
              "MONTH_ID               0\n",
              "YEAR_ID                0\n",
              "PRODUCTLINE            0\n",
              "MSRP                   0\n",
              "PRODUCTCODE            0\n",
              "CUSTOMERNAME           0\n",
              "PHONE                  0\n",
              "ADDRESSLINE1           0\n",
              "ADDRESSLINE2        2521\n",
              "CITY                   0\n",
              "STATE               1486\n",
              "POSTALCODE            76\n",
              "COUNTRY                0\n",
              "TERRITORY           1074\n",
              "CONTACTLASTNAME        0\n",
              "CONTACTFIRSTNAME       0\n",
              "DEALSIZE               0\n",
              "dtype: int64"
            ],
            "text/html": [
              "<div>\n",
              "<style scoped>\n",
              "    .dataframe tbody tr th:only-of-type {\n",
              "        vertical-align: middle;\n",
              "    }\n",
              "\n",
              "    .dataframe tbody tr th {\n",
              "        vertical-align: top;\n",
              "    }\n",
              "\n",
              "    .dataframe thead th {\n",
              "        text-align: right;\n",
              "    }\n",
              "</style>\n",
              "<table border=\"1\" class=\"dataframe\">\n",
              "  <thead>\n",
              "    <tr style=\"text-align: right;\">\n",
              "      <th></th>\n",
              "      <th>0</th>\n",
              "    </tr>\n",
              "  </thead>\n",
              "  <tbody>\n",
              "    <tr>\n",
              "      <th>ORDERNUMBER</th>\n",
              "      <td>0</td>\n",
              "    </tr>\n",
              "    <tr>\n",
              "      <th>QUANTITYORDERED</th>\n",
              "      <td>0</td>\n",
              "    </tr>\n",
              "    <tr>\n",
              "      <th>PRICEEACH</th>\n",
              "      <td>0</td>\n",
              "    </tr>\n",
              "    <tr>\n",
              "      <th>ORDERLINENUMBER</th>\n",
              "      <td>0</td>\n",
              "    </tr>\n",
              "    <tr>\n",
              "      <th>SALES</th>\n",
              "      <td>0</td>\n",
              "    </tr>\n",
              "    <tr>\n",
              "      <th>ORDERDATE</th>\n",
              "      <td>0</td>\n",
              "    </tr>\n",
              "    <tr>\n",
              "      <th>STATUS</th>\n",
              "      <td>0</td>\n",
              "    </tr>\n",
              "    <tr>\n",
              "      <th>QTR_ID</th>\n",
              "      <td>0</td>\n",
              "    </tr>\n",
              "    <tr>\n",
              "      <th>MONTH_ID</th>\n",
              "      <td>0</td>\n",
              "    </tr>\n",
              "    <tr>\n",
              "      <th>YEAR_ID</th>\n",
              "      <td>0</td>\n",
              "    </tr>\n",
              "    <tr>\n",
              "      <th>PRODUCTLINE</th>\n",
              "      <td>0</td>\n",
              "    </tr>\n",
              "    <tr>\n",
              "      <th>MSRP</th>\n",
              "      <td>0</td>\n",
              "    </tr>\n",
              "    <tr>\n",
              "      <th>PRODUCTCODE</th>\n",
              "      <td>0</td>\n",
              "    </tr>\n",
              "    <tr>\n",
              "      <th>CUSTOMERNAME</th>\n",
              "      <td>0</td>\n",
              "    </tr>\n",
              "    <tr>\n",
              "      <th>PHONE</th>\n",
              "      <td>0</td>\n",
              "    </tr>\n",
              "    <tr>\n",
              "      <th>ADDRESSLINE1</th>\n",
              "      <td>0</td>\n",
              "    </tr>\n",
              "    <tr>\n",
              "      <th>ADDRESSLINE2</th>\n",
              "      <td>2521</td>\n",
              "    </tr>\n",
              "    <tr>\n",
              "      <th>CITY</th>\n",
              "      <td>0</td>\n",
              "    </tr>\n",
              "    <tr>\n",
              "      <th>STATE</th>\n",
              "      <td>1486</td>\n",
              "    </tr>\n",
              "    <tr>\n",
              "      <th>POSTALCODE</th>\n",
              "      <td>76</td>\n",
              "    </tr>\n",
              "    <tr>\n",
              "      <th>COUNTRY</th>\n",
              "      <td>0</td>\n",
              "    </tr>\n",
              "    <tr>\n",
              "      <th>TERRITORY</th>\n",
              "      <td>1074</td>\n",
              "    </tr>\n",
              "    <tr>\n",
              "      <th>CONTACTLASTNAME</th>\n",
              "      <td>0</td>\n",
              "    </tr>\n",
              "    <tr>\n",
              "      <th>CONTACTFIRSTNAME</th>\n",
              "      <td>0</td>\n",
              "    </tr>\n",
              "    <tr>\n",
              "      <th>DEALSIZE</th>\n",
              "      <td>0</td>\n",
              "    </tr>\n",
              "  </tbody>\n",
              "</table>\n",
              "</div><br><label><b>dtype:</b> int64</label>"
            ]
          },
          "metadata": {},
          "execution_count": 13
        }
      ]
    },
    {
      "cell_type": "code",
      "source": [
        "#selecting relevent features"
      ],
      "metadata": {
        "id": "v9NJasGRbvbs"
      },
      "execution_count": null,
      "outputs": []
    },
    {
      "cell_type": "code",
      "source": [
        "data = df[['SALES', 'QUANTITYORDERED', 'PRICEEACH']].copy()"
      ],
      "metadata": {
        "id": "JuNEtLQXb5Zw"
      },
      "execution_count": null,
      "outputs": []
    },
    {
      "cell_type": "code",
      "source": [
        "import plotly.express as px"
      ],
      "metadata": {
        "id": "2XT3_6hlcNwI"
      },
      "execution_count": null,
      "outputs": []
    },
    {
      "cell_type": "code",
      "source": [
        "fig = px.scatter_3d(data,x='SALES', y='QUANTITYORDERED', z='PRICEEACH')\n",
        "fig.show()"
      ],
      "metadata": {
        "colab": {
          "base_uri": "https://localhost:8080/",
          "height": 542
        },
        "id": "Qz_BEg72dVDQ",
        "outputId": "7bba367f-2694-4d7d-c576-9db3e375757f"
      },
      "execution_count": null,
      "outputs": [
        {
          "output_type": "display_data",
          "data": {
            "text/html": [
              "<html>\n",
              "<head><meta charset=\"utf-8\" /></head>\n",
              "<body>\n",
              "    <div>            <script src=\"https://cdnjs.cloudflare.com/ajax/libs/mathjax/2.7.5/MathJax.js?config=TeX-AMS-MML_SVG\"></script><script type=\"text/javascript\">if (window.MathJax && window.MathJax.Hub && window.MathJax.Hub.Config) {window.MathJax.Hub.Config({SVG: {font: \"STIX-Web\"}});}</script>                <script type=\"text/javascript\">window.PlotlyConfig = {MathJaxConfig: 'local'};</script>\n",
              "        <script charset=\"utf-8\" src=\"https://cdn.plot.ly/plotly-2.35.2.min.js\"></script>                <div id=\"c3402440-355b-43f9-8065-985f5e073bd0\" class=\"plotly-graph-div\" style=\"height:525px; width:100%;\"></div>            <script type=\"text/javascript\">                                    window.PLOTLYENV=window.PLOTLYENV || {};                                    if (document.getElementById(\"c3402440-355b-43f9-8065-985f5e073bd0\")) {                    Plotly.newPlot(                        \"c3402440-355b-43f9-8065-985f5e073bd0\",                        [{\"hovertemplate\":\"SALES=%{x}\\u003cbr\\u003eQUANTITYORDERED=%{y}\\u003cbr\\u003ePRICEEACH=%{z}\\u003cextra\\u003e\\u003c\\u002fextra\\u003e\",\"legendgroup\":\"\",\"marker\":{\"color\":\"#636efa\",\"symbol\":\"circle\"},\"mode\":\"markers\",\"name\":\"\",\"scene\":\"scene\",\"showlegend\":false,\"x\":[2871.0,2765.9,3884.34,3746.7,5205.27,3479.76,2497.77,5512.32,2168.54,4708.44,3965.66,2333.12,3188.64,3676.76,4177.35,4099.68,2597.39,4394.38,4358.04,4396.14,7737.93,1451.0,733.11,3207.12,2434.56,7516.08,5404.62,7209.11,7329.06,7374.1,10993.5,4860.24,8014.82,5372.57,7290.36,9064.89,6075.3,6463.23,6120.34,7680.64,4905.39,8014.82,7136.19,10172.7,11623.7,6000.4,3003.0,3944.7,5691.84,4514.92,8254.8,2416.56,4140.23,12001.0,3896.49,2793.86,3307.77,5192.95,5016.83,3660.93,4695.6,3660.92,3025.92,3009.09,5422.39,2852.08,5756.52,4472.0,2904.44,6484.59,3757.26,4043.96,5566.5,3176.0,2756.8,1329.9,5288.01,2225.5,5833.8,5887.35,6065.55,9264.86,7023.98,5176.38,4132.7,4183.0,8892.9,8714.7,8065.89,6123.4,9774.03,7023.9,7078.23,8336.94,6901.92,5438.07,6683.34,4570.4,7667.14,5868.2,2990.13,3664.1,3834.38,1822.17,11886.6,9218.16,7208.0,5004.8,4398.24,5597.76,4526.08,5924.16,3492.48,3854.24,5324.4,5197.92,5997.6,2910.4,3378.24,3508.8,2992.0,3427.2,2692.8,4128.96,3051.71,1201.25,1962.22,2624.64,4046.25,4846.7,3370.56,9661.44,2764.88,5398.26,4305.28,3347.74,3188.12,3191.2,3536.82,5362.83,3433.36,4263.74,4076.19,7020.48,6426.5,4591.72,4033.38,4302.08,7020.64,3855.9,6680.78,6678.0,2851.54,3188.12,4428.0,5780.92,2297.05,6231.54,1735.3,4427.73,5894.94,5265.15,7599.9,8008.56,9245.76,8296.35,5019.9,5411.07,3840.9,3930.4,7498.9,4517.91,5774.72,3922.56,9160.36,9631.0,3432.24,5521.89,6934.62,6876.11,2930.27,3584.25,2817.87,3420.0,2575.04,1961.28,8690.36,6034.38,11279.2,8023.29,4904.0,8594.52,7474.5,3883.74,8887.7,8602.92,7181.44,8378.58,10606.2,5818.4,7071.27,8411.56,6570.76,7975.44,2688.0,1888.26,2513.28,4764.48,3560.64,3823.64,2280.96,8677.8,3394.98,3415.44,2439.57,4829.8,4100.1,6563.06,6817.22,6163.94,4933.92,4056.36,5759.42,3451.0,5920.4,6668.24,4094.72,2938.5,6387.8,6396.0,2669.1,4784.13,3273.93,3586.43,5960.36,8470.14,2952.0,2464.8,6232.0,7969.36,3036.6,8284.0,2711.2,8339.8,6238.84,4639.25,6747.6,4512.48,4029.0,4771.8,6087.94,4193.28,7552.28,6434.4,5181.5,6863.92,4157.04,4660.24,4111.8,3542.64,8118.55,3877.06,3867.08,5951.44,8648.64,3447.78,5958.5,5911.64,7366.44,4985.64,5393.64,4880.02,8378.69,4038.21,3807.12,3142.36,4713.6,7016.31,4381.25,4283.01,4364.82,4242.24,4982.7,6393.54,1466.91,4059.33,4801.52,2711.66,5862.0,4071.85,8236.75,6130.35,3693.34,6031.68,3494.94,5294.14,5464.69,2860.76,5590.0,2254.8,4946.76,2495.5,3167.38,2402.84,2454.54,5464.69,4756.5,3984.6,3100.32,4850.3,3846.98,4220.92,3288.82,3987.2,1809.5,1092.2,4566.05,5938.14,8138.76,9470.94,7036.89,5559.03,7872.5,7886.2,7232.16,3114.4,5045.22,6952.12,4157.73,7962.24,3778.8,8253.0,3633.4,6913.8,2583.6,3105.62,4408.56,3042.41,5941.5,3241.9,6109.29,3387.78,3485.82,2042.88,1800.24,1340.64,1762.08,2298.24,1628.0,1939.2,3651.56,2591.96,2864.17,1484.2,2254.25,2681.35,3184.02,2846.63,1685.42,3988.6,2789.96,3607.56,3368.16,2775.08,1627.92,2529.36,3065.78,4615.78,5723.78,2559.6,2140.11,3327.6,6825.6,3543.28,4516.22,6445.46,3384.36,4891.68,4521.96,5069.66,6541.2,3012.27,5247.18,2214.87,4773.18,6185.7,1517.88,6372.6,5232.96,2694.72,1749.79,2130.56,5951.34,4692.6,3731.04,2142.0,2838.81,3230.37,5182.0,4391.1,4477.32,3544.56,5195.85,4180.44,2684.43,1958.88,4910.57,4468.4,3127.88,2675.13,2807.61,2504.75,2984.88,2524.86,4136.0,4068.7,5182.0,5243.79,9048.16,3832.64,3920.0,4916.66,3857.0,4181.44,4641.0,3570.12,4480.32,2033.64,1960.14,3966.78,5152.0,3360.0,3451.0,5453.0,4164.12,2800.08,4687.94,4508.0,4181.44,2251.04,1167.25,2083.2,3822.0,3911.49,4704.0,2467.9,3213.0,7182.0,4379.18,5004.8,3644.75,2702.04,3764.88,4508.0,5418.16,3300.66,6182.4,4186.73,4529.28,5628.89,3054.48,2526.51,4667.86,6499.32,5917.78,6231.91,5803.14,6434.02,6454.4,4196.8,2611.8,5895.05,3375.72,8374.69,4464.24,4808.31,3288.78,3254.72,3184.94,5907.5,4389.12,5036.16,2183.25,3106.88,3735.72,2413.26,2953.75,4684.8,3248.7,5239.5,4567.98,3535.35,3843.34,3710.9,4375.98,1516.62,2509.0,9240.44,2515.32,5548.9,4873.05,2055.74,2354.88,2309.58,2113.37,1746.6,2304.45,2122.08,1742.4,2455.02,3053.28,1423.29,1504.12,1164.4,1500.75,1557.36,1345.68,1795.24,1105.25,2364.88,2427.03,1237.95,1593.02,3156.16,1320.75,4998.0,1293.75,5433.08,3073.72,4380.2,5848.68,6153.73,4965.24,5435.64,4258.36,4032.0,4492.36,4161.38,2508.66,3374.88,5196.6,2604.52,2936.8,3424.64,2923.2,4489.76,4849.24,5848.92,2758.7,1449.76,7048.14,5202.94,5279.4,6916.12,2781.66,5248.0,6531.44,5763.72,6490.68,6004.8,7483.98,5719.5,6954.08,8160.3,6567.96,6724.0,5747.85,5676.84,7379.97,3704.13,2804.75,5624.79,3881.28,1611.4,1364.25,4215.09,6433.82,4352.16,5151.0,6069.0,2856.0,5375.4,5176.5,3508.8,7554.8,3141.6,5890.5,5967.0,3712.8,7597.3,3668.6,5875.2,7310.0,8078.4,3257.76,7650.0,4703.81,5399.55,14082.8,5283.6,3130.82,3112.34,3806.88,2142.14,3364.9,1262.8,1626.24,4088.7,3846.15,1339.8,3039.96,3400.32,1930.39,2464.77,2634.94,3625.16,3788.4,1832.6,2905.98,2954.81,3599.75,3686.54,2100.56,3881.78,4509.12,3273.27,4432.7,4100.99,5274.72,4232.0,6145.44,4680.2,3286.08,7421.3,6432.64,4840.87,3892.08,5526.32,4459.62,6203.4,3754.05,3516.48,7488.04,3448.08,3734.0,974.1,3160.74,1746.63,4207.84,4352.76,1463.7,7169.28,4594.76,3457.92,7381.16,7146.9,5938.53,7110.91,5032.95,3667.6,7381.16,5128.11,7060.24,8448.64,7300.51,6549.2,5697.9,9169.0,3238.63,4554.94,3934.44,5776.26,7207.45,7460.74,6719.54,2428.0,2602.25,2200.0,6712.93,5318.04,3390.0,1608.0,2262.96,1496.64,1879.74,1495.26,2323.7,2491.86,1643.12,1322.16,1423.8,2397.45,1574.0,1729.0,2255.84,1834.5,3201.5,2276.4,8884.8,1331.1,3051.3,2288.52,3772.61,4164.42,6295.95,6287.66,5412.54,5984.14,5891.04,5984.14,3608.15,5752.54,3765.32,2159.96,3379.94,5093.5,5773.44,4528.86,4816.08,3416.78,1236.84,5814.86,5223.48,728.4,3949.0,3843.99,5498.08,3777.58,3782.0,3859.68,4431.84,4950.33,4299.7,4492.83,2212.0,4642.88,3206.32,3604.23,7017.76,6154.18,4750.8,3822.92,2440.8,4729.36,12536.5,2264.15,3928.2,3630.22,4196.07,4931.6,3068.69,785.64,4977.0,1189.98,3090.15,2795.86,2851.54,2701.92,2204.1,2840.48,2647.04,3172.05,2585.93,2148.3,1667.4,1859.7,1476.6,1732.0,1674.17,1500.98,2192.68,1797.58,2142.35,2086.92,6834.5,2541.59,2130.92,1701.7,1694.0,2913.53,935.18,3073.26,2082.49,3394.23,2559.6,1490.16,3844.0,4724.91,1824.72,2668.68,2843.61,3163.65,2226.11,2069.75,2235.33,3116.43,4781.7,2810.7,3515.67,2909.34,1570.17,2613.92,3193.26,1482.6,2055.23,2674.9,1853.4,1490.1,2162.16,2814.28,1605.0,2093.44,1944.3,1986.8,1695.96,1281.56,1774.22,1997.5,2353.2,981.2,1550.72,1771.06,2213.4,5266.04,1864.8,1142.41,1172.6,6981.0,3064.6,2202.48,3773.38,5074.39,6483.46,7956.46,4230.62,7209.12,3452.68,3047.73,3675.32,7492.4,9534.5,5579.02,5950.34,3726.0,4455.0,8272.34,3577.6,3881.25,5797.44,1264.08,4815.3,4462.2,3033.28,990.78,2030.86,5433.75,3157.44,5161.2,4346.76,3528.36,3187.8,6023.16,3884.76,4965.84,4169.88,4910.4,3231.36,6853.44,5177.04,2824.8,4324.32,5052.96,3223.44,5278.68,2851.2,1687.4,1308.0,6144.6,5127.2,6386.16,7695.6,2242.89,2539.89,2795.27,5545.76,4285.46,3329.09,5592.22,3298.55,2609.88,3336.29,5510.05,2504.4,3525.6,4407.0,2983.44,5126.24,5713.79,4613.8,3711.1,3524.73,2795.27,4814.4,3572.33,4581.36,4319.76,1448.0,881.4,2011.1,1801.24,3390.2,1424.0,1499.1,3358.08,1504.16,2655.12,1244.16,1888.88,1820.01,2866.95,1394.16,2632.28,2018.56,2954.53,1871.83,1559.04,1880.2,1224.67,2979.08,2208.64,3458.42,1237.88,2723.2,2218.52,1665.32,3421.04,1878.66,3853.6,3442.64,3482.16,3363.52,3350.52,2862.72,4036.04,2817.92,4636.38,1553.58,2697.6,3334.04,2059.26,2023.14,2586.64,1987.02,1146.5,2312.24,2793.71,1908.28,3441.37,2023.28,2245.2,3255.12,2539.5,4818.15,2921.7,1801.2,2804.36,4900.8,2759.31,2488.2,2769.89,3581.4,5285.14,3181.53,3340.51,3138.34,4775.08,3006.43,2866.26,2232.62,4457.02,2257.92,1592.0,4948.2,5160.76,1978.62,4288.2,2520.68,1781.22,3065.04,3551.34,5544.02,6034.33,3641.57,6930.74,3675.63,3442.04,6893.81,2622.48,4417.38,3606.02,3802.56,5026.4,6695.53,2819.28,3759.04,2731.8,1658.88,5778.24,5191.12,3862.88,1476.48,5273.73,4872.03,4556.99,8257.0,8209.44,3598.5,3837.24,8331.61,4836.5,5418.88,3734.01,3996.4,8754.69,5481.45,4419.89,6324.75,4409.72,3918.46,7620.5,8291.04,3937.25,5554.4,6407.86,4172.52,7083.37,7132.68,6773.6,3657.69,4812.55,3928.6,6401.22,4191.25,5852.52,2844.87,4011.66,7455.87,8940.96,4572.25,5700.09,3155.49,4170.69,2878.8,5029.5,7396.8,2991.68,6275.72,1534.95,7264.53,6869.05,3353.02,8289.05,11887.8,5926.9,3793.16,4330.1,2011.8,4837.18,2151.82,2573.46,5344.5,3070.52,3952.83,3564.75,5614.56,1855.41,4598.4,5082.42,5450.59,4174.92,2418.24,3670.4,2481.7,3807.68,2230.41,3814.64,2117.75,3340.48,2154.0,5808.48,1777.1,1536.57,3510.0,3097.44,1705.41,2264.32,2484.6,3415.68,2839.32,2730.0,3540.53,2999.97,1527.8,3907.8,2658.48,3042.68,3861.2,2171.07,3403.08,2245.8,1668.5,2773.8,2464.0,5491.6,4791.82,4178.85,3128.92,3095.4,3958.5,4991.44,2761.96,2848.23,2539.84,2444.4,4555.92,3666.96,3035.88,2321.54,3474.46,2501.98,3958.46,3535.95,3011.91,11336.7,2656.94,2604.25,3288.6,8935.5,4035.96,1875.09,4049.56,2469.39,5432.7,4405.22,3638.0,4444.92,3395.48,3414.58,5127.04,3745.28,4564.08,6554.24,6749.83,8427.02,3924.6,6761.6,3786.49,6266.12,3491.0,4405.22,6548.3,3177.91,4142.64,4149.07,7397.0,6241.6,5331.88,5124.3,3639.44,5544.0,5493.12,5785.26,5340.6,5735.8,6357.6,7343.9,5959.22,4029.38,5035.14,4116.8,4310.55,6446.7,3616.64,4232.76,1765.66,3734.72,4808.38,2266.56,10468.9,5589.14,2914.11,1740.9,2266.2,3155.58,1357.86,2598.82,1057.56,3127.82,2488.14,2220.72,1357.72,1638.04,2626.08,1661.88,2173.6,2182.05,2819.88,2598.64,2019.27,1454.7,1657.57,2851.84,4609.64,5079.96,1879.92,4774.86,2687.04,3423.75,3455.76,3622.97,3599.58,5386.56,4918.78,2538.8,2498.6,3858.75,5600.5,4103.46,4287.5,5795.54,1863.4,4166.88,4080.07,3815.48,5526.45,3374.6,3024.5,1266.1,4811.85,7307.42,6209.25,5348.5,2780.58,3447.0,3791.52,4524.1,3337.6,5532.12,5096.91,4537.08,6146.8,8258.0,7238.28,6756.0,3734.0,4674.8,7140.76,3600.65,4206.74,5379.71,5679.36,4394.84,2528.25,7031.52,5340.9,6376.58,6896.75,1903.22,2499.56,3081.24,3598.22,3912.09,1584.66,3942.72,2341.2,2482.11,3602.02,3566.94,3787.98,3704.05,2834.65,3392.26,3358.31,7310.0,2203.11,2696.96,3376.64,541.14,6134.7,3382.5,2240.66,3962.88,1685.28,1834.36,1916.98,2611.0,3630.28,5090.5,3949.65,3491.67,2059.19,3170.16,1790.6,2345.97,3580.88,4946.06,3525.6,3602.16,4300.5,4498.19,3023.1,3562.49,1640.24,4739.4,1207.68,4228.2,4815.45,7083.0,4601.2,6467.02,5012.55,5121.59,2441.04,4262.08,6658.02,4509.08,4716.23,2390.22,4666.62,5383.08,2482.25,5288.64,2184.38,2881.76,6203.06,6763.47,5884.65,3559.64,1668.37,4890.6,5235.72,4325.16,1938.89,2490.5,2314.69,1254.83,1282.8,1345.75,2194.22,1972.0,1835.98,1119.93,2082.88,1569.75,2694.15,1257.27,2567.84,2634.28,1502.78,1676.2,2217.15,6832.02,1916.64,7110.8,5302.8,2730.0,7827.3,2095.45,1556.62,5565.12,3583.16,4705.18,4444.54,4618.88,4910.4,5565.12,4237.76,5673.58,5260.15,6350.96,3559.4,2410.6,5713.92,4300.32,7947.31,5356.8,7901.1,6101.0,6276.46,4203.5,1629.04,3289.86,6862.94,2574.18,1327.79,2356.25,2013.5,2807.22,3072.96,1906.5,3431.7,2084.75,2136.01,2009.7,2719.8,1575.08,1688.43,1672.1,1674.75,3472.98,1649.18,3751.0,4536.0,4421.34,2078.28,3069.0,1713.8,1506.5,2692.12,2422.08,3488.34,2583.34,1249.4,3374.71,1265.46,1681.46,3204.0,2398.72,2381.04,1944.54,2273.7,2116.5,1307.32,1726.37,1267.77,3441.82,1987.18,3880.2,1942.15,3259.92,1213.8,1086.6,1632.75,1734.0,1857.06,1863.41,2924.68,2294.18,1457.82,1955.88,2314.4,1310.96,2913.3,1357.78,2150.0,2783.25,2339.92,1729.0,5972.4,2275.2,2673.44,2431.75,2018.72,1558.99,1104.6,2575.1,2845.75,3431.75,3273.9,4119.4,5355.68,5747.5,5355.36,2535.75,4351.23,2254.0,2921.28,2299.0,2637.18,4307.52,2153.76,3716.88,5455.76,2650.62,6437.28,2633.4,2278.53,4846.0,4197.1,4597.65,5287.7,3550.05,1721.73,2993.5,1295.06,2671.95,1226.59,1453.84,1830.22,2530.01,2241.45,2399.85,1557.72,845.25,1352.4,1584.8,2616.0,1129.04,2218.5,2028.48,1759.2,977.67,1463.0,3970.56,2576.0,2233.69,2481.64,4651.53,3858.1,3501.6,6433.7,2658.96,3608.76,2214.67,2747.53,3310.92,2380.0,2310.88,4061.76,3493.7,2872.25,4114.38,1063.65,2008.44,4328.6,1376.43,5552.16,3659.02,4165.61,1404.0,710.2,1702.8,1194.84,1007.14,977.43,1436.76,759.46,1189.44,683.8,1226.82,974.82,577.6,1106.93,694.6,1152.06,2624.0,3685.95,703.6,9720.0,834.67,2257.92,8344.71,1801.94,1209.6,3155.14,2848.86,3570.29,3902.41,1474.66,2186.89,1919.4,3656.0,1847.0,1851.0,2633.78,3153.6,2803.2,2311.02,2399.4,2733.12,2096.32,2971.34,2257.58,3493.91,4398.9,3595.62,2443.29,3988.6,5168.4,2803.2,6341.21,5189.78,6027.75,3366.0,5456.4,3812.16,6083.0,3170.7,4534.6,4301.15,6804.63,5652.94,6960.48,4512.6,2784.76,5316.36,2941.89,3207.4,4215.05,4333.29,2087.13,1711.22,3910.53,2255.12,5720.75,3335.23,2472.96,1729.65,995.5,2414.72,1560.47,1112.94,1138.94,1012.4,913.92,2349.06,1161.12,1764.75,1690.9,2137.05,2177.1,1734.48,865.49,3500.1,2223.52,2311.68,828.36,856.52,1845.45,4042.08,1828.0,3680.28,2925.09,3415.77,5105.14,5098.8,4661.76,2969.96,3496.32,5760.93,6819.04,3148.88,5704.32,3520.6,5285.62,5605.05,2779.5,5398.08,3189.6,5581.8,3820.44,5528.04,5981.42,5684.65,3449.4,2654.4,8498.0,5510.54,2060.45,2460.16,1787.56,1645.65,2169.18,2816.18,2521.05,3199.98,1338.12,2972.58,2070.9,3092.6,2408.7,3472.54,2263.28,2194.17,1346.4,2533.63,3403.26,3307.2,2896.65,2632.89,2046.0,2279.55,2150.55,3360.45,2326.4,1545.6,2144.6,1639.22,2649.6,3845.6,4527.04,3966.3,4142.58,4441.5,3315.12,3918.53,2830.45,5298.86,2620.8,2181.0,3382.08,2876.75,4107.2,1350.0,7182.0,3933.93,1742.4,721.44,1489.41,891.03,1209.3,859.14,1151.44,1336.44,905.28,1247.4,846.51,1085.04,1767.43,1030.44,1585.36,813.2,1172.34,1510.56,1448.07,3338.1,1225.29,1336.68,2985.84,5545.8,6089.6,1789.4,1082.1,1030.44,3659.32,2443.6,2349.9,1646.19,1670.26,1467.48,2748.56,1522.4,3255.36,3535.03,2608.96,1356.4,1611.36,2603.2,2219.7,1496.25,1884.0,2166.14,2828.16,6214.45,1867.0,2676.72,2182.44,1611.4,1479.84,1424.22,5942.28,2348.75,4392.12,2759.75,2728.03,2395.8,3052.33,4242.0,2790.45,4340.49,2762.2,4645.72,5580.96,6539.04,5548.95,4595.41,1859.44,2093.76,4223.13,1596.76,5820.35,5296.5,930.9,1207.44,717.4,1066.75,1554.0,1277.64,1578.79,917.7,777.0,1476.28,1538.46,891.2,1706.8,1373.6,1205.59,1427.4,1649.28,1383.03,1229.51,1140.48,1575.6,1386.72,5018.4,5856.85,4894.73,2094.32,640.05,3193.52,3066.7,3883.11,4814.25,2826.27,1593.2,3266.1,2453.55,3910.4,1788.0,3328.07,3788.4,3053.7,2005.74,2796.12,3159.96,3908.62,2606.48,2081.76,3519.85,10758.0,3021.0,1891.56,4208.41,2246.4,6107.4,1987.74,4068.96,2282.22,1541.0,1951.92,3107.61,2328.64,3184.8,2149.74,3184.8,2114.58,4256.56,2344.98,2328.66,3575.04,2076.0,3305.25,1538.55,3325.92,3662.52,3478.64,1057.29,3385.9,1892.1,1707.14,1785.51,2057.4,3490.0,1707.14,1506.96,2880.48,2206.6,2351.04,1205.04,2935.15,1263.84,2935.15,1224.6,1359.4,1822.18,2163.72,1591.98,3078.5,2997.6,2747.8,2447.76,1910.84,2430.64,2896.3,1630.6,1459.6,1716.22,2560.47,1900.26,2019.84,1988.28,1449.84,1935.09,2793.24,3025.05,1742.5,3236.1,1735.92,2795.13,1671.52,1576.74,3615.71,1459.6,2891.01,2598.44,3871.92,3036.0,2231.6,2436.78,2173.6,1254.6,3724.42,5203.0,3469.5,3148.2,2167.22,6244.07,5566.0,4368.96,4039.26,4420.32,2341.71,5110.98,6168.0,4873.26,2120.14,4236.14,1888.95,1152.58,2492.88,1991.6,3953.18,3729.39,2617.16,3983.5,3169.95,3899.5,1851.73,2513.41,2431.94,1514.52,3079.44,1900.36,1974.06,3703.46,1755.13,4273.29,3984.96,2407.68,1697.3,2011.02,2306.25,1845.0,2493.12,1508.5,2394.3,3164.98,3351.09,3064.32,3891.81,5448.8,5494.97,6336.07,2906.97,4767.7,3819.56,3861.75,6319.35,6996.42,6949.67,4550.0,4479.63,5148.0,2932.08,3159.75,4297.32,7723.5,5497.65,4052.88,3135.93,5013.54,5302.72,2931.98,1757.91,6763.05,11739.7,9240.0,3241.5,1968.12,4094.5,1853.32,3392.84,1971.54,2169.9,2846.17,2018.4,2718.72,1981.65,3002.4,2948.16,3357.49,1175.16,2292.8,3286.49,2333.7,2675.05,4361.4,2018.58,3710.98,2847.0,3006.12,2797.84,3843.2,1351.08,1689.03,1654.56,1528.58,1013.48,1442.26,1163.05,971.98,902.66,1295.97,1534.72,1185.3,1698.78,1381.05,1340.46,965.04,1093.99,3166.84,2143.68,1717.64,4086.29,553.95,652.35,2921.62,5568.64,1939.8,3784.8,2802.09,2384.64,2915.66,5795.72,3699.88,2980.6,5032.74,4737.15,6311.2,3070.54,4797.39,3832.38,4641.48,4000.26,5325.76,4618.69,3182.97,2603.04,1408.96,1972.11,5207.75,4253.2,2873.0,2253.68,3576.12,3276.13,1811.4,3845.1,2571.14,5035.11,2279.0,3213.87,3532.23,3406.59,3467.2,3628.94,4674.72,1656.69,5171.4,3342.57,4884.88,6267.69,4424.16,1962.09,6847.0,3476.8,4592.61,2208.92,1657.76,2479.21,3565.92,2797.41,3756.0,2840.0,1716.26,3245.6,2760.94,1808.4,1682.37,1491.0,1666.35,3666.08,2916.2,2616.98,3390.8,3146.5,1561.5,10039.6,3167.0,3521.25,4219.28,3581.76,2130.01,2063.06,2008.13,2004.77,1543.3,2269.92,1991.92,2916.76,2027.52,3235.18,2062.94,3317.78,3913.69,3608.64,3524.8,2586.88,4753.49,3684.67,5715.4,3098.7,2670.92,5154.41,4894.17,2472.6,3224.31,3667.52,4141.33,2829.58,3068.55,2634.96,2436.72,4607.36,3598.99,3964.1,2244.9,2793.0,4133.64,3900.6,2743.04,2402.07,2178.54,3155.04,2366.28,1963.6,4746.28,6386.94,4428.0,4044.04,2708.42,2904.72,3553.88,1858.0,2461.36,2642.01,3098.7,3244.36,4351.16,3675.86,2475.27,4177.49,3282.28,2477.21,1883.93,3658.93,2856.88,1917.84,5305.36,2875.95,6482.85,3733.82,6576.5,6353.27,4175.6,4992.61,4764.6,1173.15,1384.46,1327.59,1109.8,1239.0,1035.58,1545.64,1517.54,1731.84,1695.49,1045.98,1738.08,651.8,988.47,1518.11,1013.76,1549.8,1108.38,4102.56,3713.16,1513.54,2317.44,3298.4,1826.96,1206.9,1666.7,1560.44,2337.75,1103.76,2617.85,2207.52,3165.5,2071.41,1385.28,1621.62,1931.65,1244.53,1704.5,1753.2,1666.7,1710.89,2326.5,2316.0,1727.1,8844.12,2424.0,1535.49,6358.68,1329.4,1701.76,2259.72,925.3,482.13,3227.63,1711.26,2054.36,3131.94,1681.35,2351.36,1408.0,2445.6,1804.44,2544.75,1056.4,2801.4,1988.4,2908.35,2147.4,2099.63,2315.18,2327.15,5377.4,2626.01,4406.4,4301.22,2986.5,1587.08,1808.4,1193.04,3403.35,1575.96,1630.2,1701.28,2850.82,2692.06,2174.42,3167.36,2142.66,2117.52,2419.95,2191.2,3043.04,1228.2,1330.35,2792.52,2296.0,2629.44,1912.16,8209.44,2431.77,3139.99,5669.64,3160.25,6799.68,1867.32,2702.04,2406.36,2094.67,2797.9,1637.2,2281.91,2307.24,1320.8,2642.82,3061.0,3164.4,1791.16,4093.0,2234.4,3037.84,1419.84,1948.08,2307.24,1780.4,3544.17,3619.44,3918.95,1483.02,4819.26,1591.72,3669.78,2168.5,2694.0,3251.34,2347.15,3920.88,2514.6,3600.24,4040.03,3336.9,3113.64,2832.0,3330.98,4304.64,2600.26,4382.16,4235.0,2626.8,5026.56,2201.62,4326.8,3425.18,4701.88,2204.1,5189.4,1565.85,2480.38,1355.13,1246.44,820.4,2492.64,1113.6,1763.86,1896.66,1449.35,1869.48,1860.53,1724.82,1713.69,1259.44,2051.08,1617.38,1765.62,2024.8,3288.4,2725.47,3224.2,3211.38,1796.34,1979.6,1921.41,3705.24,2843.91,6176.42,5500.44,3220.1,4556.16,3114.89,4948.2,5161.17,2657.76,3983.05,3974.94,2928.42,3054.57,3345.26,4310.72,4983.14,4618.32,3403.12,5190.42,3141.57,2213.4,4896.7,2714.4,3087.05,5692.96,3460.86,1895.94,1705.92,1033.41,3179.52,2091.18,1779.71,2537.64,2448.72,972.4,2856.14,1968.3,2056.2,2242.02,3128.65,2443.26,2470.86,1927.45,2051.56,2337.38,5932.96,2296.77,6490.88,1623.25,1405.92,2282.28,8977.05,3256.35,2821.66,3293.4,4224.0,3091.68,2219.6,3866.4,1964.76,2668.8,3222.0,3864.5,1366.8,3475.68,4206.5,1486.38,3077.88,3544.2,2483.04,3478.05,3657.8,4682.36,3937.7,4984.32,5406.66,3491.18,2118.54,2897.47,1916.75,1860.0,2624.0,2780.81,3239.62,1824.0,1134.0,1487.41,2837.46,1942.77,2544.12,2568.24,2108.0,1372.14,3540.15,1958.84,2700.0,2542.0,2340.0,2816.44,3526.82,4627.92,1933.5,2600.13,2639.58,3312.97,3863.87,1863.36,3945.96,4954.08,2762.2,3989.76,1649.55,2534.75,2580.25,2831.54,3361.2,2864.32,1994.88,4296.6,2224.95,2795.14,2762.1,2658.0,5043.87,1210.8,3029.19,10066.6,4121.43,1135.31,2100.82,2034.35,3027.84,3104.0,3612.43,2711.88,3013.97,2738.54,2832.0,4720.0,3222.0,2231.0,2296.84,4157.2,2146.2,3724.23,2084.81,3488.78,1753.06,3469.2,2530.8,2924.32,4496.8,6397.44,2577.6,3533.62,3177.3,2730.06,1891.78,2612.48,2925.76,2940.02,3293.24,2389.68,2172.48,2927.43,2659.54,3838.0,4142.16,2172.48,1882.8,3477.86,3323.84,4195.8,4156.58,3918.75,2352.67,1089.36,2701.12,2487.04,3910.32,4038.8,3070.4,3763.46,2584.8,4427.6,2152.02,2353.4,3431.39,1930.5,4774.56,2592.72,3246.75,3372.5,3909.15,2994.75,4472.52,4576.95,2441.04,3106.25,2706.41,4021.53,4826.25,4935.28,2754.7,3856.71,3102.08,1908.72,7543.75,2457.18,2038.87,2499.26,3838.05,2643.99,2315.88,3225.06,2451.84,2254.98,3939.5,3424.7,2914.2,2389.6,2428.48,3021.48,2610.72,3091.19,2576.2,3232.31,3573.6,2022.51,3717.5,2185.15,2883.53,5017.57,1463.0,2352.59,4460.82,4758.18,4597.2,4114.8,2104.0,3195.27,3611.16,2000.77,2314.26,3871.89,2728.0,5614.0,4628.8,3641.4,4048.0,2321.46,3256.96,4208.0,2973.9,4248.3,9558.8,2650.56,3761.37,4301.34,1864.56,3576.8,3722.32,3986.56,3417.12,2691.09,2752.6,4527.72,3957.05,2818.0,3199.86,2402.75,6055.72,5465.16,6378.72,5392.8,3986.5,4009.23,7119.0,4072.2,4094.51,3302.4,3186.48,1668.25,7154.5,2810.83,2018.31,5642.83,3273.6,3268.0,2688.0,3715.2,4608.0,3131.2,2678.4,1747.2,2944.0,2956.8,2052.0,3164.8,1740.0,1777.6,1831.2,3609.6,2112.0,3644.12,3523.85,5001.92,5208.72,3018.88,1902.4,7084.0,2620.8,3164.46,4219.2,3828.3,2334.99,4407.5,2812.8,4055.04,3891.66,2488.32,4447.4,4187.22,4615.68,3245.4,2203.75,3446.0,1939.3,3473.78,2884.8,2670.65,3440.0,2770.78,2397.54,3275.56,4143.6,5192.64,3029.04,2556.18,3753.9,2562.3,3245.58,2204.6,3003.0,2526.48,1747.9,3267.25,2818.53,2955.54,2885.05,3162.95,4071.5,2969.46,3396.44,4692.6,3515.7,3380.69,3204.57,2588.04,2854.75,4025.6,2864.4,3789.72,2439.99,2949.12,1539.72,2213.38,2919.58,3778.28,3233.49,3431.25,2546.8,2953.86,3183.29,2466.7,2363.22,2487.45,2249.05,2061.12,4071.14,2656.29,2736.36,3348.93,2893.0,1661.22,4277.35,2502.9,3801.6,3144.96,2031.4,2674.17,2526.72,1348.76,875.91,1874.05,1671.44,1668.4,2301.75,1459.92,1209.59,2145.12,1416.39,1843.52,1199.31,1875.2,2477.23,948.99,1823.42,1485.8,3789.72,2060.37,2579.36,2189.6,1624.25,4357.5,1367.48,1122.4,2419.62,1419.5,2184.0,2079.04,1724.97,3003.0,1846.42,2009.2,1804.04,2109.66,2682.96,2280.24,1192.56,1506.96,1472.62,1696.82,1693.56,1921.92,2082.85,2227.6,3209.38,4080.72,2244.4,3978.51,5417.57,2116.16,3079.44],\"y\":[30,34,41,45,49,36,29,48,22,41,37,23,28,34,45,36,23,41,46,42,41,20,21,42,24,66,26,29,38,37,45,21,34,23,42,47,35,29,34,32,21,34,37,47,48,40,26,30,32,41,36,24,23,50,39,29,27,37,37,27,42,38,24,23,47,22,44,40,22,47,39,34,45,20,40,26,39,50,45,45,27,46,31,33,22,20,41,45,49,34,49,39,43,41,36,27,29,20,37,26,39,22,22,21,66,56,50,46,33,49,32,44,24,26,45,39,49,20,27,30,25,24,22,33,47,25,26,48,39,34,32,64,19,42,31,22,26,20,21,33,28,26,31,48,50,28,26,32,44,30,38,40,46,26,27,43,35,37,37,27,38,33,42,42,48,41,30,27,21,20,41,27,28,24,44,50,21,33,33,31,41,45,33,45,26,12,41,33,46,33,20,44,33,21,47,46,32,42,44,35,41,46,31,38,42,33,48,42,32,34,33,36,27,21,21,38,30,49,43,41,38,28,43,25,38,41,28,25,41,39,21,27,33,29,49,49,20,39,40,49,21,50,20,49,38,35,40,28,25,36,43,32,46,48,43,49,24,26,30,24,55,22,49,44,66,21,34,43,46,33,42,34,47,33,24,26,30,43,25,27,27,24,34,46,27,33,47,49,40,37,47,45,37,48,31,46,47,28,40,20,39,25,29,22,22,47,45,29,24,35,46,44,34,35,25,10,29,39,42,46,49,27,50,43,38,20,27,49,27,39,24,45,20,36,24,49,26,49,34,34,33,22,39,32,24,21,24,36,20,30,44,28,37,20,25,35,38,41,22,49,38,33,36,34,24,36,34,41,46,24,21,24,48,26,37,49,34,48,36,46,46,31,41,21,38,45,26,38,48,42,49,32,54,33,36,20,29,33,50,41,36,27,47,33,21,21,41,40,28,23,23,25,24,39,55,46,50,47,97,32,35,49,38,32,34,36,48,21,21,34,46,32,29,41,43,24,41,46,32,22,29,42,39,27,48,29,27,54,26,34,25,23,28,35,44,22,42,29,32,41,26,21,34,41,37,37,41,46,40,43,30,35,36,61,38,39,33,32,31,50,48,43,25,28,36,27,25,40,34,50,38,37,43,43,46,42,50,44,27,35,51,41,48,42,49,30,45,48,32,46,48,33,31,20,29,27,24,37,25,41,27,21,22,32,25,42,25,37,26,44,47,43,42,42,29,40,38,38,21,24,36,23,20,32,29,44,44,36,49,34,59,37,36,43,21,32,38,43,42,32,42,31,49,45,49,41,45,36,39,27,25,41,39,28,25,33,34,24,30,42,21,34,29,24,44,21,33,30,26,41,26,32,43,48,44,45,37,39,76,37,38,43,48,26,38,20,22,45,45,20,47,46,23,33,29,44,41,20,37,29,55,22,31,49,61,39,38,31,36,25,48,35,21,47,38,41,24,37,33,49,29,24,47,24,25,30,22,27,34,36,34,48,34,24,46,45,39,43,29,20,46,27,44,43,49,40,30,50,23,26,27,42,47,49,38,20,25,25,41,28,50,32,42,24,27,26,38,42,23,21,28,33,25,28,46,30,38,40,45,27,42,36,29,39,45,47,49,46,48,46,35,43,26,22,34,50,48,41,36,29,33,46,38,20,22,27,56,38,25,33,42,33,38,31,20,44,26,27,46,47,37,31,24,31,50,35,30,29,27,40,31,6,45,22,45,43,46,39,31,41,44,45,37,35,28,30,30,25,29,26,41,34,35,34,50,41,22,35,44,47,19,34,29,49,30,21,50,47,24,27,33,35,31,25,27,31,45,27,27,42,21,34,42,15,29,46,30,30,42,46,25,32,30,40,28,23,29,34,37,20,32,34,42,38,30,23,22,39,55,36,26,31,34,41,23,48,22,21,22,40,50,29,43,24,22,43,20,25,36,24,21,30,32,21,26,35,26,46,37,27,23,39,27,38,27,40,24,44,37,20,39,44,22,43,27,26,25,49,29,41,55,27,23,31,46,47,31,46,37,28,37,49,24,30,50,31,46,47,46,37,33,31,48,41,42,41,32,10,35,28,46,20,30,48,28,39,24,28,31,45,24,49,32,43,37,24,35,41,26,34,49,28,40,37,31,41,21,40,46,44,46,41,32,46,28,49,21,32,34,21,21,31,21,25,28,43,22,37,28,30,44,25,43,30,20,26,40,31,22,23,30,49,31,29,37,38,29,23,26,38,48,40,45,44,21,35,29,21,22,26,41,47,31,43,23,28,49,24,33,22,32,40,43,24,32,20,24,48,44,28,24,33,41,23,46,48,25,22,41,34,32,21,20,47,39,29,45,28,26,50,48,25,40,43,22,47,36,40,27,29,20,42,25,36,21,23,37,48,25,33,27,27,20,30,48,32,34,27,39,47,22,55,60,35,28,38,21,41,22,29,50,29,49,35,48,23,48,42,47,36,22,40,23,32,21,41,25,26,24,48,26,21,45,36,21,32,30,36,33,35,37,41,20,45,38,43,49,27,46,38,25,46,22,40,46,39,38,30,42,43,29,33,32,28,41,33,36,26,34,26,38,33,33,46,26,25,45,50,36,21,29,21,42,37,25,36,22,23,32,28,27,49,41,49,30,40,23,49,25,37,55,23,24,43,50,47,34,31,28,36,48,39,45,35,45,46,37,31,33,31,27,39,32,28,26,44,46,32,65,43,43,35,45,47,21,38,21,43,46,38,26,31,48,33,38,39,42,44,29,26,31,32,28,36,36,41,27,33,34,29,34,48,46,22,20,45,46,34,50,46,22,48,47,34,45,20,50,22,45,58,51,38,22,25,24,35,28,36,39,27,40,50,42,48,25,31,44,23,29,49,36,34,25,48,38,37,49,22,28,36,34,39,21,36,24,29,38,34,42,35,35,38,41,50,21,43,32,6,66,41,23,43,24,22,26,35,47,50,45,39,23,42,20,33,34,49,39,36,50,29,30,41,28,45,16,36,41,50,40,49,45,47,21,32,47,38,41,21,41,38,25,48,22,28,47,49,45,28,29,39,46,38,41,50,43,29,30,25,49,40,41,21,46,39,45,21,44,44,29,34,39,38,24,29,30,20,39,35,26,44,28,31,29,32,33,44,32,41,35,44,26,20,48,34,49,40,45,50,38,25,28,49,49,42,23,29,25,39,44,25,45,25,37,30,36,26,23,23,25,21,26,44,24,66,36,36,22,25,37,32,47,37,20,41,21,22,40,32,36,27,26,30,23,29,21,34,26,60,35,47,20,20,25,25,27,31,44,49,26,36,44,28,45,29,40,45,44,25,45,48,44,25,22,31,21,55,25,35,35,43,44,50,48,25,39,25,32,20,26,42,21,34,47,21,48,30,27,50,38,45,46,35,29,50,26,47,23,34,34,47,45,45,36,21,28,35,50,22,45,48,20,27,38,32,64,37,28,39,41,40,49,27,34,23,31,34,25,22,32,31,25,47,21,28,46,33,43,38,47,45,20,45,36,37,31,39,26,32,20,42,33,20,29,23,39,20,45,20,48,23,32,33,61,45,38,34,43,47,22,29,28,40,25,30,38,36,32,37,30,39,32,47,26,37,55,21,23,49,59,32,43,41,45,33,40,33,50,30,41,35,49,46,48,36,22,42,21,29,35,41,29,34,37,28,49,23,46,39,22,49,43,27,31,20,24,49,24,39,37,45,45,44,23,30,26,43,26,28,27,24,40,36,21,27,47,42,32,28,24,49,46,28,48,29,47,43,25,48,24,42,31,42,37,41,20,20,70,49,35,32,29,27,27,38,35,42,21,37,26,47,37,46,38,33,24,31,42,32,41,43,20,35,27,43,32,21,20,22,36,46,47,45,47,47,38,49,35,49,28,30,39,25,40,36,76,39,44,24,39,21,30,27,37,42,32,42,21,33,49,31,38,20,39,48,39,30,33,36,36,45,40,46,30,31,49,41,35,27,23,21,34,22,48,43,32,20,24,40,30,21,25,34,48,55,25,38,39,28,24,21,46,25,34,25,23,20,23,42,27,33,28,43,48,48,45,43,44,24,31,44,59,55,29,39,20,25,42,36,37,30,21,34,42,20,40,34,31,36,48,33,37,27,39,36,36,41,37,47,15,44,35,41,49,31,20,45,33,47,20,47,40,30,22,27,34,46,31,24,41,55,30,33,43,27,60,27,49,31,20,24,33,32,40,27,40,26,44,33,34,48,25,39,45,24,46,44,13,35,30,34,27,30,50,34,23,48,34,48,24,47,24,47,20,20,31,38,26,25,48,44,21,46,46,55,31,20,29,33,34,32,27,21,27,36,43,25,46,24,39,31,22,47,20,29,38,34,46,35,34,38,18,37,43,27,30,22,49,46,48,46,48,27,43,48,41,22,46,21,31,26,20,34,43,26,50,35,50,23,37,29,21,36,22,22,46,23,49,48,33,22,22,25,20,42,25,23,37,37,42,51,40,43,47,23,35,34,25,45,47,49,40,29,39,24,25,36,50,45,26,21,42,32,31,33,45,76,70,50,28,50,28,44,27,30,43,29,48,33,40,48,41,21,32,43,30,35,45,34,26,39,41,41,64,18,49,48,46,26,37,35,23,22,39,44,27,46,33,33,24,31,41,22,46,43,15,15,26,44,20,40,23,24,29,49,34,28,37,45,46,22,39,27,36,38,44,31,23,22,28,21,37,31,25,26,34,29,20,42,22,47,20,33,39,33,40,46,48,21,45,33,44,33,39,39,41,40,33,28,26,29,46,33,48,40,23,40,37,24,27,21,23,44,35,43,40,35,25,43,50,45,52,48,31,29,23,31,23,24,28,44,22,46,22,38,47,48,40,32,49,43,41,30,28,43,41,30,31,32,43,26,27,24,22,46,37,49,21,25,37,45,32,29,26,28,27,20,44,42,41,26,26,26,41,20,22,23,33,28,44,46,21,41,31,31,23,37,26,24,47,45,55,46,50,37,44,49,45,27,31,33,31,35,26,34,46,41,43,26,36,20,27,37,24,36,29,28,29,38,48,40,41,30,35,28,45,24,41,48,50,33,32,27,35,23,35,40,35,31,50,40,38,38,40,33,36,20,32,36,19,11,49,27,29,42,33,44,22,48,33,45,20,46,40,45,36,31,46,35,28,31,27,22,30,44,30,24,45,23,26,28,49,49,29,49,39,36,39,30,44,20,21,36,32,36,34,48,33,31,36,25,48,27,44,33,29,49,20,31,39,20,34,50,40,28,50,28,46,24,24,39,40,49,44,35,22,62,26,31,25,30,27,23,34,22,42,37,30,27,25,34,38,26,38,50,22,32,31,40,22,41,45,45,39,49,27,34,20,48,29,43,41,41,36,49,38,33,26,47,34,34,40,40,33,49,27,49,56,37,33,27,46,44,26,48,23,45,49,28,37,34,22,29,34,38,41,42,28,38,23,31,46,48,29,46,26,18,32,21,46,42,31,38,38,20,46,30,30,43,49,43,37,35,34,38,44,21,44,25,24,38,45,51,34,44,44,38,31,48,21,40,40,50,20,48,47,21,39,44,28,45,20,38,26,44,49,22,31,41,25,31,41,43,43,24,21,23,38,31,36,36,34,21,45,26,50,41,39,22,46,44,25,39,37,31,47,24,36,48,28,48,21,25,25,31,40,32,24,42,21,34,27,30,39,20,37,46,47,11,23,29,38,32,43,31,29,31,30,50,40,23,26,40,21,43,29,38,23,20,36,28,44,49,32,34,30,29,22,26,32,29,34,24,24,33,26,40,44,24,20,34,34,45,41,55,23,24,32,29,36,46,32,34,24,40,26,20,31,22,42,26,37,38,35,33,39,45,24,35,23,37,55,49,26,33,37,22,85,22,31,38,45,31,36,46,32,39,50,46,36,29,32,44,42,47,44,43,48,21,50,29,41,37,22,31,42,42,45,36,20,39,42,23,26,33,31,50,44,45,46,27,28,40,30,34,46,32,27,34,34,34,46,32,24,27,20,36,29,25,29,25,44,47,48,45,35,31,50,33,29,48,44,25,50,23,21,41,44,43,28,43,48,38,31,26,32,44,27,43,25,22,21,48,33,34,43,44,44,32,29,77,39,39,36,42,21,50,24,44,37,27,37,38,48,30,25,40,22,34,32,31,43,31,31,34,45,48,28,22,45,30,38,20,28,24,22,35,33,31,35,35,50,26,38,45,30,37,37,36,25,37,30,36,27,48,26,26,34,44,39,45,40,42,43,34,38,35,31,32,47,39,44,39,50,22,35,45,44,36,28,43,48,28,21,37,34,40,45,28,29,48,31,32,21,32,43,21,34,34,44,27,49,23,25,50,34,20,42,25,50,32,39,50,38,40,28,42,42,36,24,23,29,37,33,32,35,40,37,42,20,29,43,34,47],\"z\":[95.7,81.35,94.74,83.26,100.0,96.66,86.13,100.0,98.57,100.0,100.0,100.0,100.0,100.0,92.83,100.0,100.0,100.0,94.74,100.0,100.0,72.55,34.91,76.36,100.0,100.0,100.0,100.0,100.0,100.0,100.0,100.0,100.0,100.0,100.0,100.0,100.0,100.0,100.0,100.0,100.0,100.0,100.0,100.0,100.0,100.0,100.0,100.0,100.0,100.0,100.0,100.0,100.0,100.0,99.91,96.34,100.0,100.0,100.0,100.0,100.0,96.34,100.0,100.0,100.0,100.0,100.0,100.0,100.0,100.0,96.34,100.0,100.0,100.0,68.92,51.15,100.0,44.51,100.0,100.0,100.0,100.0,100.0,100.0,100.0,100.0,100.0,100.0,100.0,100.0,100.0,100.0,100.0,100.0,100.0,100.0,100.0,100.0,100.0,100.0,76.67,100.0,100.0,86.77,100.0,100.0,100.0,100.0,100.0,100.0,100.0,100.0,100.0,100.0,100.0,100.0,100.0,100.0,100.0,100.0,100.0,100.0,100.0,100.0,64.93,48.05,75.47,54.68,100.0,100.0,100.0,100.0,100.0,100.0,100.0,100.0,100.0,100.0,100.0,100.0,100.0,100.0,100.0,100.0,100.0,100.0,100.0,100.0,100.0,100.0,100.0,100.0,61.99,100.0,100.0,100.0,65.63,100.0,46.9,100.0,100.0,100.0,100.0,100.0,100.0,100.0,100.0,100.0,100.0,100.0,100.0,100.0,100.0,100.0,100.0,100.0,100.0,100.0,100.0,100.0,71.47,79.65,85.39,76.0,99.04,100.0,100.0,100.0,100.0,100.0,100.0,100.0,100.0,100.0,100.0,100.0,100.0,100.0,100.0,100.0,100.0,100.0,100.0,100.0,64.0,57.22,52.36,100.0,100.0,100.0,69.12,100.0,100.0,100.0,100.0,100.0,100.0,100.0,100.0,100.0,100.0,100.0,100.0,100.0,100.0,100.0,100.0,100.0,100.0,100.0,100.0,100.0,99.21,100.0,100.0,100.0,100.0,63.2,100.0,100.0,100.0,100.0,100.0,100.0,100.0,100.0,100.0,100.0,100.0,100.0,100.0,100.0,100.0,100.0,100.0,100.0,100.0,100.0,100.0,100.0,100.0,100.0,78.92,100.0,100.0,100.0,100.0,100.0,100.0,100.0,100.0,100.0,100.0,100.0,100.0,100.0,100.0,100.0,100.0,100.0,100.0,100.0,100.0,100.0,54.33,100.0,100.0,55.34,100.0,100.0,100.0,100.0,99.82,100.0,100.0,100.0,100.0,100.0,100.0,100.0,100.0,99.82,100.0,100.0,100.0,100.0,100.0,100.0,100.0,100.0,83.63,95.93,96.73,100.0,72.38,100.0,100.0,100.0,100.0,100.0,100.0,100.0,100.0,100.0,100.0,100.0,100.0,100.0,100.0,100.0,100.0,100.0,100.0,100.0,100.0,63.38,100.0,62.09,100.0,95.35,100.0,100.0,89.38,63.84,75.01,63.84,73.42,63.84,81.4,64.64,82.99,92.57,77.41,74.21,90.17,76.61,83.79,69.43,76.61,81.4,73.42,100.0,93.56,81.62,67.83,70.26,90.17,100.0,100.0,100.0,100.0,100.0,100.0,100.0,100.0,100.0,99.54,100.0,100.0,100.0,100.0,97.17,100.0,100.0,100.0,100.0,58.38,100.0,100.0,64.16,35.71,66.58,100.0,100.0,100.0,100.0,97.89,97.89,100.0,100.0,100.0,100.0,100.0,100.0,100.0,93.28,100.0,100.0,100.0,100.0,100.0,100.0,100.0,64.74,75.2,88.45,100.0,100.0,93.28,100.0,100.0,100.0,100.0,100.0,100.0,99.17,93.34,96.84,93.34,100.0,100.0,100.0,100.0,100.0,96.84,100.0,100.0,98.0,100.0,100.0,40.25,49.6,98.0,100.0,98.0,85.1,100.0,100.0,100.0,100.0,100.0,100.0,100.0,100.0,100.0,100.0,100.0,100.0,100.0,100.0,100.0,100.0,100.0,100.0,100.0,100.0,100.0,100.0,100.0,97.6,87.06,100.0,93.77,100.0,100.0,100.0,99.66,100.0,100.0,100.0,91.44,100.0,87.33,100.0,100.0,89.38,100.0,100.0,95.55,100.0,100.0,95.55,89.38,86.3,95.13,36.11,50.18,100.0,93.16,100.0,95.55,50.14,49.06,54.99,43.13,58.22,51.21,44.21,54.45,53.37,63.61,43.13,48.52,58.22,51.75,57.68,56.07,48.52,44.21,57.68,89.89,58.95,72.41,98.63,52.83,100.0,51.75,100.0,100.0,99.55,100.0,100.0,100.0,100.0,100.0,100.0,100.0,100.0,100.0,100.0,100.0,100.0,100.0,100.0,100.0,100.0,100.0,100.0,56.3,42.64,100.0,100.0,100.0,100.0,100.0,100.0,100.0,100.0,100.0,100.0,100.0,100.0,100.0,100.0,100.0,100.0,100.0,100.0,100.0,100.0,100.0,100.0,99.52,57.55,54.57,100.0,100.0,100.0,100.0,100.0,100.0,100.0,100.0,100.0,100.0,100.0,100.0,100.0,100.0,100.0,100.0,100.0,100.0,100.0,74.04,100.0,100.0,100.0,100.0,100.0,82.39,72.38,79.31,82.39,88.55,63.14,73.92,90.86,85.47,66.99,64.68,73.92,83.93,74.69,90.86,82.39,92.4,91.63,78.54,100.0,65.45,100.0,67.76,79.22,73.92,83.93,100.0,100.0,100.0,100.0,100.0,100.0,100.0,100.0,100.0,100.0,100.0,100.0,100.0,100.0,100.0,100.0,100.0,100.0,100.0,32.47,100.0,64.69,100.0,100.0,43.05,100.0,100.0,100.0,100.0,100.0,100.0,100.0,100.0,100.0,100.0,100.0,100.0,100.0,100.0,100.0,100.0,100.0,100.0,100.0,100.0,100.0,100.0,100.0,100.0,100.0,100.0,88.0,100.0,100.0,67.8,50.25,53.88,62.36,69.62,57.51,61.15,59.33,71.44,62.96,50.85,72.65,62.96,61.75,49.04,61.15,84.25,56.91,100.0,49.3,72.65,63.57,100.0,100.0,100.0,100.0,100.0,100.0,100.0,100.0,100.0,100.0,100.0,98.18,99.41,100.0,100.0,100.0,100.0,100.0,37.48,100.0,100.0,36.42,100.0,100.0,98.18,99.41,100.0,100.0,100.0,100.0,100.0,100.0,100.0,100.0,100.0,100.0,100.0,100.0,100.0,100.0,100.0,100.0,100.0,64.69,100.0,100.0,100.0,100.0,98.99,100.0,100.0,54.09,68.67,65.02,61.99,69.28,71.1,69.28,60.16,70.49,69.89,61.38,59.55,61.99,49.22,69.28,57.73,57.73,53.48,52.87,61.21,61.38,100.0,61.99,96.86,48.62,38.5,61.99,49.22,90.39,71.81,69.27,85.32,70.96,76.88,100.0,76.03,98.84,86.17,90.39,71.81,82.79,82.79,100.0,100.0,100.0,100.0,69.27,74.77,76.88,76.03,98.84,70.87,58.15,61.78,49.67,51.48,61.18,64.2,65.42,64.81,49.67,60.57,55.72,61.18,58.75,63.6,49.06,48.46,52.09,52.7,100.0,62.16,49.67,53.3,100.0,55.72,61.18,100.0,100.0,100.0,100.0,100.0,100.0,100.0,100.0,100.0,100.0,100.0,100.0,100.0,100.0,100.0,100.0,100.0,100.0,100.0,52.67,100.0,100.0,94.79,47.18,78.11,100.0,100.0,100.0,100.0,100.0,100.0,100.0,100.0,100.0,100.0,100.0,100.0,100.0,100.0,100.0,100.0,100.0,100.0,100.0,100.0,64.9,52.32,100.0,100.0,100.0,100.0,83.07,100.0,90.17,100.0,91.18,100.0,100.0,89.15,93.21,90.17,100.0,100.0,100.0,88.14,96.24,100.0,100.0,100.0,100.0,100.0,90.17,100.0,87.13,100.0,100.0,45.25,88.14,57.46,64.33,73.7,71.2,49.97,69.96,53.72,68.08,51.84,67.46,58.71,63.71,58.09,53.72,63.08,68.71,50.59,64.96,53.72,29.87,100.0,64.96,70.58,44.21,68.08,59.96,53.72,83.44,89.46,96.34,74.84,79.14,73.12,81.72,89.46,87.74,100.0,94.62,73.98,84.3,98.06,98.06,96.34,83.44,94.62,45.86,82.58,64.97,86.74,93.01,72.26,74.84,73.98,100.0,100.0,97.39,90.06,100.0,100.0,89.01,100.0,100.0,100.0,100.0,100.0,100.0,84.82,100.0,100.0,100.0,85.87,100.0,47.04,39.8,100.0,100.0,94.22,100.0,86.92,84.82,100.0,100.0,100.0,100.0,100.0,100.0,100.0,100.0,100.0,100.0,100.0,100.0,100.0,100.0,100.0,100.0,100.0,100.0,69.12,100.0,100.0,100.0,61.52,100.0,100.0,100.0,100.0,100.0,100.0,100.0,100.0,100.0,100.0,100.0,100.0,100.0,100.0,100.0,100.0,100.0,100.0,100.0,100.0,100.0,100.0,100.0,100.0,100.0,100.0,100.0,100.0,100.0,100.0,100.0,100.0,100.0,100.0,100.0,100.0,100.0,100.0,100.0,100.0,100.0,100.0,100.0,100.0,93.49,100.0,56.85,100.0,100.0,100.0,100.0,100.0,100.0,100.0,100.0,95.8,100.0,97.81,88.74,100.0,100.0,80.67,100.0,100.0,80.67,95.8,100.0,100.0,100.0,100.0,91.76,100.0,100.0,100.0,93.04,84.71,100.0,89.75,100.0,68.35,73.17,78.0,86.04,81.21,70.76,82.82,94.88,86.04,78.0,95.69,73.17,76.39,86.84,69.96,70.76,78.8,80.41,73.98,59.1,66.74,60.3,100.0,100.0,100.0,100.0,82.34,100.0,94.25,100.0,95.24,86.31,79.37,87.3,100.0,100.0,84.33,89.29,100.0,96.23,100.0,100.0,91.27,100.0,100.0,100.0,73.08,100.0,100.0,89.29,100.0,100.0,100.0,100.0,100.0,100.0,100.0,100.0,100.0,100.0,100.0,100.0,100.0,100.0,100.0,100.0,100.0,100.0,100.0,100.0,100.0,100.0,100.0,96.49,100.0,100.0,100.0,100.0,100.0,100.0,100.0,100.0,100.0,100.0,100.0,100.0,100.0,100.0,100.0,100.0,100.0,100.0,100.0,100.0,67.91,84.88,100.0,70.83,100.0,100.0,67.77,49.74,50.36,67.14,64.66,68.39,50.36,72.74,54.09,58.44,52.22,52.84,54.71,50.36,57.2,55.95,67.14,59.06,69.63,55.95,53.47,89.12,100.0,100.0,52.22,100.0,99.52,100.0,100.0,100.0,100.0,100.0,100.0,100.0,100.0,85.75,100.0,100.0,85.75,100.0,84.7,86.81,86.81,100.0,100.0,100.0,60.49,57.55,100.0,100.0,100.0,100.0,100.0,100.0,100.0,100.0,100.0,100.0,100.0,100.0,100.0,100.0,100.0,100.0,100.0,100.0,100.0,100.0,100.0,100.0,100.0,100.0,100.0,100.0,100.0,100.0,100.0,86.51,89.27,85.59,100.0,100.0,75.46,100.0,97.55,85.59,94.79,100.0,90.19,100.0,80.99,89.27,81.91,100.0,100.0,62.72,100.0,90.19,92.95,82.5,97.42,92.16,70.22,83.38,73.73,74.6,77.24,100.0,87.77,89.53,89.53,75.48,89.53,71.09,100.0,100.0,90.4,100.0,86.01,100.0,100.0,86.89,58.58,100.0,75.48,100.0,100.0,100.0,100.0,100.0,100.0,100.0,100.0,100.0,100.0,100.0,100.0,100.0,100.0,100.0,99.29,100.0,99.29,100.0,100.0,100.0,100.0,100.0,57.53,100.0,100.0,100.0,47.29,49.81,53.83,43.27,42.76,53.83,44.78,49.3,44.78,53.33,45.28,40.25,59.87,59.87,58.36,59.87,51.82,49.3,56.85,100.0,79.86,100.0,100.0,100.0,100.0,59.87,59.87,100.0,100.0,100.0,100.0,100.0,100.0,100.0,100.0,100.0,100.0,100.0,100.0,100.0,100.0,100.0,100.0,100.0,100.0,100.0,100.0,100.0,58.18,67.14,100.0,61.29,57.73,81.25,80.54,71.98,69.84,76.26,76.26,83.39,57.73,66.99,75.55,60.58,73.41,72.7,66.99,100.0,63.43,85.25,100.0,66.99,57.73,85.25,77.9,60.26,72.76,75.69,74.22,69.82,62.47,82.31,60.26,76.43,80.1,74.96,66.14,72.02,87.45,70.55,56.84,59.53,60.37,100.0,76.43,64.67,55.49,69.36,60.69,54.33,65.31,69.36,68.78,60.11,66.47,46.82,56.07,54.33,52.6,46.82,64.74,46.82,53.75,61.85,53.18,69.16,100.0,47.4,60.76,97.27,91.76,50.29,52.6,46.82,100.0,98.05,93.54,95.8,100.0,100.0,100.0,100.0,100.0,90.16,91.29,100.0,100.0,100.0,100.0,100.0,100.0,100.0,100.0,87.78,84.39,96.92,100.0,100.0,100.0,100.0,59.37,59.87,49.81,56.85,53.33,42.76,53.83,53.83,49.81,53.33,43.27,40.25,48.3,45.28,52.32,51.32,49.3,42.26,87.96,36.21,38.5,100.0,40.25,60.37,88.63,100.0,94.1,87.54,100.0,98.48,100.0,96.29,88.63,97.38,95.2,100.0,100.0,100.0,100.0,87.54,50.65,71.73,94.1,41.71,100.0,96.29,88.63,31.2,35.51,37.84,33.19,27.22,31.53,36.84,29.21,37.17,34.19,29.21,29.54,28.88,38.17,30.2,29.54,100.0,81.91,35.18,100.0,36.29,70.56,100.0,29.54,26.88,83.03,83.79,83.03,83.03,67.03,75.41,68.55,91.4,73.88,61.7,69.31,87.6,87.6,62.46,79.98,70.08,65.51,63.22,86.83,94.43,79.98,100.0,100.0,81.4,87.6,87.6,100.0,100.0,100.0,100.0,100.0,100.0,100.0,100.0,100.0,100.0,100.0,100.0,100.0,100.0,100.0,100.0,100.0,100.0,100.0,100.0,71.97,50.33,100.0,80.54,100.0,100.0,53.76,44.35,45.25,49.28,36.29,41.22,36.74,50.62,38.08,47.94,48.38,45.25,45.7,47.49,48.38,39.42,37.63,100.0,85.52,53.76,31.86,30.59,68.35,100.0,45.7,100.0,100.0,100.0,100.0,100.0,100.0,100.0,100.0,100.0,100.0,100.0,100.0,100.0,100.0,100.0,100.0,100.0,100.0,100.0,100.0,100.0,100.0,100.0,100.0,100.0,100.0,100.0,58.87,76.88,61.64,60.95,80.34,74.11,72.03,76.19,63.72,80.34,79.65,65.8,65.1,75.49,59.56,66.49,56.1,81.73,81.03,100.0,70.65,61.23,100.0,65.13,79.65,78.15,72.7,73.6,100.0,74.51,73.6,83.6,96.32,88.14,88.14,94.5,87.24,79.97,80.87,100.0,93.6,72.7,86.72,100.0,100.0,37.5,94.5,100.0,39.6,30.06,38.19,42.43,40.31,31.82,31.12,31.82,28.29,29.7,40.31,32.88,36.07,33.24,41.72,40.66,30.06,31.47,37.13,100.0,37.13,37.13,82.94,100.0,100.0,38.9,36.07,33.24,74.68,59.6,67.14,60.97,72.62,69.88,80.84,69.2,67.82,82.21,81.53,67.82,67.14,65.08,73.99,71.25,75.36,63.71,58.92,100.0,74.68,70.44,55.96,57.55,61.66,67.82,100.0,93.95,100.0,100.0,100.0,100.0,100.0,100.0,100.0,100.0,98.65,100.0,100.0,100.0,100.0,100.0,42.26,87.24,100.0,36.29,98.65,96.3,32.1,30.96,35.87,42.67,37.0,35.49,42.67,30.59,37.0,43.42,36.63,44.56,42.67,40.4,38.89,39.65,34.36,41.91,33.23,42.24,40.4,38.52,100.0,100.0,100.0,44.56,42.67,72.58,87.62,94.71,98.25,91.17,79.66,72.58,74.35,83.2,89.4,70.81,94.71,100.0,91.17,100.0,92.94,84.97,84.08,86.74,85.85,100.0,100.0,57.32,97.87,83.2,100.0,73.62,83.04,73.62,77.05,81.33,94.17,72.77,79.62,79.62,79.62,81.33,96.74,71.06,68.49,74.48,83.04,84.75,34.19,100.0,79.62,79.06,81.33,96.74,63.07,50.21,66.13,68.58,69.8,50.21,65.52,60.01,64.9,48.98,50.21,62.45,52.66,62.45,61.23,67.97,58.78,56.94,61.23,100.0,62.45,62.45,100.0,41.54,52.84,52.66,52.6,72.98,59.18,77.59,55.89,63.12,73.64,69.04,71.67,77.59,70.35,69.7,70.35,72.33,71.67,53.92,71.67,76.93,72.98,99.69,68.38,100.0,66.0,63.76,71.67,57.2,69.7,100.0,100.0,100.0,100.0,98.51,100.0,100.0,91.02,87.81,92.09,86.73,100.0,100.0,100.0,96.37,92.09,89.95,37.18,95.88,99.58,100.0,86.73,100.0,79.67,90.57,77.99,80.51,67.93,83.86,72.12,85.54,86.38,89.73,80.51,76.31,87.21,83.02,72.96,77.15,91.41,92.25,92.25,59.36,60.34,100.0,85.54,90.57,72.96,76.31,100.0,100.0,100.0,100.0,100.0,100.0,100.0,100.0,100.0,100.0,100.0,100.0,100.0,100.0,100.0,100.0,100.0,100.0,100.0,100.0,100.0,100.0,94.58,53.27,100.0,100.0,100.0,64.83,70.29,81.89,66.19,77.11,73.02,72.33,66.19,69.6,56.64,60.05,75.06,61.42,81.89,55.96,71.65,76.43,77.79,76.43,96.92,59.37,100.0,73.0,73.32,68.24,60.05,75.06,34.47,34.47,33.23,38.98,38.98,33.23,42.26,41.03,33.23,34.88,43.9,36.93,41.85,40.62,40.21,35.29,77.24,97.44,37.34,95.03,36.93,43.49,100.0,100.0,96.99,94.62,100.0,99.36,100.0,100.0,100.0,100.0,100.0,100.0,100.0,100.0,100.0,100.0,100.0,100.0,100.0,100.0,100.0,100.0,50.32,93.91,100.0,100.0,100.0,86.68,100.0,100.0,90.57,91.55,100.0,100.0,100.0,97.39,90.57,100.0,86.68,78.89,97.39,78.89,100.0,100.0,100.0,100.0,100.0,50.31,100.0,86.92,100.0,78.89,63.76,85.49,77.52,84.77,78.25,71.0,74.62,81.14,74.62,75.35,62.31,71.0,72.45,83.32,83.32,60.86,84.77,89.9,62.46,100.0,63.34,78.25,81.14,74.62,68.71,71.14,87.31,64.67,67.1,94.58,71.14,66.29,92.16,70.33,93.77,87.31,83.27,75.18,88.12,80.84,97.01,85.69,100.0,100.0,95.39,100.0,100.0,82.42,100.0,100.0,96.31,100.0,100.0,100.0,100.0,100.0,97.27,80.9,100.0,100.0,100.0,86.68,85.72,82.83,83.79,100.0,87.64,98.18,100.0,100.0,100.0,100.0,100.0,100.0,86.68,92.9,100.0,100.0,93.9,100.0,98.89,79.91,100.0,100.0,100.0,79.91,81.91,98.89,100.0,79.91,100.0,63.91,100.0,81.17,100.0,100.0,94.9,100.0,100.0,43.45,44.66,40.23,35.8,35.4,39.83,45.46,32.99,42.24,39.43,40.23,48.28,32.59,36.61,41.03,42.24,43.05,38.22,100.0,100.0,39.83,48.28,82.46,44.56,40.23,47.62,55.73,51.95,45.99,63.85,45.99,63.31,62.77,43.29,60.06,55.19,54.11,48.7,43.83,47.62,55.19,46.53,57.9,45.45,100.0,60.6,46.53,100.0,66.47,53.18,62.77,48.7,43.83,65.87,63.38,70.84,74.57,50.95,53.44,64.0,50.95,54.68,56.55,52.82,60.9,49.71,64.63,59.65,67.73,50.33,66.49,100.0,84.71,100.0,100.0,99.55,36.07,60.28,49.71,75.63,68.52,62.7,60.76,58.18,54.94,74.98,64.64,54.94,58.82,62.05,73.04,69.16,61.41,63.35,77.57,71.75,73.04,56.24,100.0,73.69,100.0,100.0,100.0,100.0,69.16,61.41,72.92,72.23,57.1,81.86,73.61,59.16,66.04,77.73,61.22,79.11,63.97,81.86,79.8,66.04,59.16,81.17,59.16,44.51,72.33,82.26,100.0,67.41,77.73,61.22,100.0,86.74,89.8,100.0,100.0,100.0,100.0,85.72,100.0,100.0,100.0,100.0,97.97,100.0,100.0,100.0,84.7,100.0,100.0,71.02,100.0,100.0,100.0,48.98,100.0,40.15,50.62,50.19,36.66,41.02,51.93,38.4,41.02,46.26,35.35,51.93,37.97,45.39,51.93,48.44,43.64,47.57,51.93,50.62,82.21,82.59,65.8,100.0,36.66,35.35,51.93,100.0,100.0,100.0,100.0,100.0,94.92,100.0,100.0,100.0,94.92,100.0,100.0,100.0,100.0,98.39,100.0,100.0,100.0,100.0,100.0,100.0,71.4,100.0,56.55,100.0,100.0,100.0,100.0,53.31,49.21,69.12,49.79,57.41,66.78,64.44,48.62,62.09,65.61,68.54,52.14,63.85,56.82,66.78,55.07,60.34,61.51,100.0,100.0,100.0,64.93,58.58,60.06,100.0,63.85,82.99,74.85,96.0,81.36,71.6,80.55,93.56,66.72,80.55,77.29,68.34,72.41,89.5,70.78,78.92,80.55,88.68,77.29,100.0,100.0,100.0,100.0,100.0,100.0,68.34,70.67,76.67,60.0,64.0,64.67,75.34,76.0,54.0,64.67,74.67,62.67,70.67,71.34,62.0,65.34,78.67,75.34,54.0,62.0,60.0,100.0,76.67,100.0,77.34,66.67,71.34,100.0,82.21,77.64,100.0,100.0,98.65,83.12,78.55,100.0,100.0,91.34,84.03,89.51,83.12,100.0,100.0,82.21,100.0,88.6,100.0,60.54,81.87,100.0,87.69,100.0,91.34,70.15,79.68,97.0,84.01,87.48,100.0,88.34,94.4,94.4,80.55,97.0,88.34,100.0,100.0,86.61,71.89,91.81,76.22,100.0,70.3,100.0,100.0,100.0,80.55,100.0,100.0,94.14,85.99,100.0,91.43,100.0,96.86,99.57,90.52,88.71,100.0,95.95,94.14,90.52,94.14,100.0,97.76,93.24,100.0,71.25,100.0,45.39,84.41,85.76,100.0,87.8,95.95,100.0,100.0,100.0,82.77,100.0,100.0,87.75,100.0,99.72,87.75,88.75,100.0,90.75,100.0,100.0,100.0,88.75,100.0,100.0,87.75,100.0,100.0,100.0,83.84,86.76,88.75,100.0,65.77,65.77,85.29,85.29,64.33,70.11,76.62,57.82,78.79,74.45,80.95,82.4,75.89,68.67,62.16,65.77,58.55,75.17,74.45,96.31,74.35,75.35,70.33,100.0,66.5,75.89,100.0,100.0,100.0,100.0,100.0,81.93,85.98,86.99,89.01,100.0,88.0,100.0,100.0,80.92,88.0,85.98,100.0,100.0,99.13,100.0,100.0,82.83,100.0,100.0,54.84,100.0,80.92,100.0,100.0,99.67,100.0,100.0,100.0,100.0,100.0,96.11,100.0,100.0,100.0,100.0,100.0,100.0,100.0,100.0,100.0,68.8,72.42,66.73,100.0,100.0,96.11,100.0,74.4,76.0,96.0,86.4,96.0,82.4,86.4,67.2,92.0,67.2,76.0,73.6,69.6,80.8,87.2,75.2,64.0,100.0,81.95,100.0,100.0,94.34,65.6,92.0,67.2,81.14,100.0,91.15,100.0,88.15,100.0,92.16,100.0,92.16,100.0,100.0,96.16,100.0,88.15,86.15,88.15,100.0,90.15,86.15,80.0,89.38,77.34,96.34,92.08,100.0,100.0,100.0,83.42,85.41,85.41,100.0,100.0,100.0,79.45,93.35,85.41,95.34,82.43,90.37,81.43,100.0,89.38,100.0,100.0,91.37,86.61,71.89,100.0,100.0,95.48,100.0,90.37,61.44,59.22,85.13,85.87,85.87,82.91,76.25,63.67,70.33,74.03,72.55,62.19,71.07,72.55,64.41,86.62,68.11,62.19,85.87,57.86,75.51,100.0,55.62,86.4,87.36,72.55,62.19,52.64,48.17,41.71,50.65,49.16,41.71,51.15,52.14,41.71,44.69,45.69,57.61,57.11,58.6,57.61,45.19,53.63,43.7,86.13,76.31,52.64,95.2,64.97,87.15,40.22,56.12,57.61,56.78,43.68,64.97,44.23,60.06,48.59,50.23,64.43,50.23,63.88,63.34,49.69,65.52,50.78,45.86,51.32,60.06,59.51,55.69,86.74,97.16,100.0,100.0,100.0,62.24,65.52],\"type\":\"scatter3d\"}],                        {\"template\":{\"data\":{\"histogram2dcontour\":[{\"type\":\"histogram2dcontour\",\"colorbar\":{\"outlinewidth\":0,\"ticks\":\"\"},\"colorscale\":[[0.0,\"#0d0887\"],[0.1111111111111111,\"#46039f\"],[0.2222222222222222,\"#7201a8\"],[0.3333333333333333,\"#9c179e\"],[0.4444444444444444,\"#bd3786\"],[0.5555555555555556,\"#d8576b\"],[0.6666666666666666,\"#ed7953\"],[0.7777777777777778,\"#fb9f3a\"],[0.8888888888888888,\"#fdca26\"],[1.0,\"#f0f921\"]]}],\"choropleth\":[{\"type\":\"choropleth\",\"colorbar\":{\"outlinewidth\":0,\"ticks\":\"\"}}],\"histogram2d\":[{\"type\":\"histogram2d\",\"colorbar\":{\"outlinewidth\":0,\"ticks\":\"\"},\"colorscale\":[[0.0,\"#0d0887\"],[0.1111111111111111,\"#46039f\"],[0.2222222222222222,\"#7201a8\"],[0.3333333333333333,\"#9c179e\"],[0.4444444444444444,\"#bd3786\"],[0.5555555555555556,\"#d8576b\"],[0.6666666666666666,\"#ed7953\"],[0.7777777777777778,\"#fb9f3a\"],[0.8888888888888888,\"#fdca26\"],[1.0,\"#f0f921\"]]}],\"heatmap\":[{\"type\":\"heatmap\",\"colorbar\":{\"outlinewidth\":0,\"ticks\":\"\"},\"colorscale\":[[0.0,\"#0d0887\"],[0.1111111111111111,\"#46039f\"],[0.2222222222222222,\"#7201a8\"],[0.3333333333333333,\"#9c179e\"],[0.4444444444444444,\"#bd3786\"],[0.5555555555555556,\"#d8576b\"],[0.6666666666666666,\"#ed7953\"],[0.7777777777777778,\"#fb9f3a\"],[0.8888888888888888,\"#fdca26\"],[1.0,\"#f0f921\"]]}],\"heatmapgl\":[{\"type\":\"heatmapgl\",\"colorbar\":{\"outlinewidth\":0,\"ticks\":\"\"},\"colorscale\":[[0.0,\"#0d0887\"],[0.1111111111111111,\"#46039f\"],[0.2222222222222222,\"#7201a8\"],[0.3333333333333333,\"#9c179e\"],[0.4444444444444444,\"#bd3786\"],[0.5555555555555556,\"#d8576b\"],[0.6666666666666666,\"#ed7953\"],[0.7777777777777778,\"#fb9f3a\"],[0.8888888888888888,\"#fdca26\"],[1.0,\"#f0f921\"]]}],\"contourcarpet\":[{\"type\":\"contourcarpet\",\"colorbar\":{\"outlinewidth\":0,\"ticks\":\"\"}}],\"contour\":[{\"type\":\"contour\",\"colorbar\":{\"outlinewidth\":0,\"ticks\":\"\"},\"colorscale\":[[0.0,\"#0d0887\"],[0.1111111111111111,\"#46039f\"],[0.2222222222222222,\"#7201a8\"],[0.3333333333333333,\"#9c179e\"],[0.4444444444444444,\"#bd3786\"],[0.5555555555555556,\"#d8576b\"],[0.6666666666666666,\"#ed7953\"],[0.7777777777777778,\"#fb9f3a\"],[0.8888888888888888,\"#fdca26\"],[1.0,\"#f0f921\"]]}],\"surface\":[{\"type\":\"surface\",\"colorbar\":{\"outlinewidth\":0,\"ticks\":\"\"},\"colorscale\":[[0.0,\"#0d0887\"],[0.1111111111111111,\"#46039f\"],[0.2222222222222222,\"#7201a8\"],[0.3333333333333333,\"#9c179e\"],[0.4444444444444444,\"#bd3786\"],[0.5555555555555556,\"#d8576b\"],[0.6666666666666666,\"#ed7953\"],[0.7777777777777778,\"#fb9f3a\"],[0.8888888888888888,\"#fdca26\"],[1.0,\"#f0f921\"]]}],\"mesh3d\":[{\"type\":\"mesh3d\",\"colorbar\":{\"outlinewidth\":0,\"ticks\":\"\"}}],\"scatter\":[{\"fillpattern\":{\"fillmode\":\"overlay\",\"size\":10,\"solidity\":0.2},\"type\":\"scatter\"}],\"parcoords\":[{\"type\":\"parcoords\",\"line\":{\"colorbar\":{\"outlinewidth\":0,\"ticks\":\"\"}}}],\"scatterpolargl\":[{\"type\":\"scatterpolargl\",\"marker\":{\"colorbar\":{\"outlinewidth\":0,\"ticks\":\"\"}}}],\"bar\":[{\"error_x\":{\"color\":\"#2a3f5f\"},\"error_y\":{\"color\":\"#2a3f5f\"},\"marker\":{\"line\":{\"color\":\"#E5ECF6\",\"width\":0.5},\"pattern\":{\"fillmode\":\"overlay\",\"size\":10,\"solidity\":0.2}},\"type\":\"bar\"}],\"scattergeo\":[{\"type\":\"scattergeo\",\"marker\":{\"colorbar\":{\"outlinewidth\":0,\"ticks\":\"\"}}}],\"scatterpolar\":[{\"type\":\"scatterpolar\",\"marker\":{\"colorbar\":{\"outlinewidth\":0,\"ticks\":\"\"}}}],\"histogram\":[{\"marker\":{\"pattern\":{\"fillmode\":\"overlay\",\"size\":10,\"solidity\":0.2}},\"type\":\"histogram\"}],\"scattergl\":[{\"type\":\"scattergl\",\"marker\":{\"colorbar\":{\"outlinewidth\":0,\"ticks\":\"\"}}}],\"scatter3d\":[{\"type\":\"scatter3d\",\"line\":{\"colorbar\":{\"outlinewidth\":0,\"ticks\":\"\"}},\"marker\":{\"colorbar\":{\"outlinewidth\":0,\"ticks\":\"\"}}}],\"scattermapbox\":[{\"type\":\"scattermapbox\",\"marker\":{\"colorbar\":{\"outlinewidth\":0,\"ticks\":\"\"}}}],\"scatterternary\":[{\"type\":\"scatterternary\",\"marker\":{\"colorbar\":{\"outlinewidth\":0,\"ticks\":\"\"}}}],\"scattercarpet\":[{\"type\":\"scattercarpet\",\"marker\":{\"colorbar\":{\"outlinewidth\":0,\"ticks\":\"\"}}}],\"carpet\":[{\"aaxis\":{\"endlinecolor\":\"#2a3f5f\",\"gridcolor\":\"white\",\"linecolor\":\"white\",\"minorgridcolor\":\"white\",\"startlinecolor\":\"#2a3f5f\"},\"baxis\":{\"endlinecolor\":\"#2a3f5f\",\"gridcolor\":\"white\",\"linecolor\":\"white\",\"minorgridcolor\":\"white\",\"startlinecolor\":\"#2a3f5f\"},\"type\":\"carpet\"}],\"table\":[{\"cells\":{\"fill\":{\"color\":\"#EBF0F8\"},\"line\":{\"color\":\"white\"}},\"header\":{\"fill\":{\"color\":\"#C8D4E3\"},\"line\":{\"color\":\"white\"}},\"type\":\"table\"}],\"barpolar\":[{\"marker\":{\"line\":{\"color\":\"#E5ECF6\",\"width\":0.5},\"pattern\":{\"fillmode\":\"overlay\",\"size\":10,\"solidity\":0.2}},\"type\":\"barpolar\"}],\"pie\":[{\"automargin\":true,\"type\":\"pie\"}]},\"layout\":{\"autotypenumbers\":\"strict\",\"colorway\":[\"#636efa\",\"#EF553B\",\"#00cc96\",\"#ab63fa\",\"#FFA15A\",\"#19d3f3\",\"#FF6692\",\"#B6E880\",\"#FF97FF\",\"#FECB52\"],\"font\":{\"color\":\"#2a3f5f\"},\"hovermode\":\"closest\",\"hoverlabel\":{\"align\":\"left\"},\"paper_bgcolor\":\"white\",\"plot_bgcolor\":\"#E5ECF6\",\"polar\":{\"bgcolor\":\"#E5ECF6\",\"angularaxis\":{\"gridcolor\":\"white\",\"linecolor\":\"white\",\"ticks\":\"\"},\"radialaxis\":{\"gridcolor\":\"white\",\"linecolor\":\"white\",\"ticks\":\"\"}},\"ternary\":{\"bgcolor\":\"#E5ECF6\",\"aaxis\":{\"gridcolor\":\"white\",\"linecolor\":\"white\",\"ticks\":\"\"},\"baxis\":{\"gridcolor\":\"white\",\"linecolor\":\"white\",\"ticks\":\"\"},\"caxis\":{\"gridcolor\":\"white\",\"linecolor\":\"white\",\"ticks\":\"\"}},\"coloraxis\":{\"colorbar\":{\"outlinewidth\":0,\"ticks\":\"\"}},\"colorscale\":{\"sequential\":[[0.0,\"#0d0887\"],[0.1111111111111111,\"#46039f\"],[0.2222222222222222,\"#7201a8\"],[0.3333333333333333,\"#9c179e\"],[0.4444444444444444,\"#bd3786\"],[0.5555555555555556,\"#d8576b\"],[0.6666666666666666,\"#ed7953\"],[0.7777777777777778,\"#fb9f3a\"],[0.8888888888888888,\"#fdca26\"],[1.0,\"#f0f921\"]],\"sequentialminus\":[[0.0,\"#0d0887\"],[0.1111111111111111,\"#46039f\"],[0.2222222222222222,\"#7201a8\"],[0.3333333333333333,\"#9c179e\"],[0.4444444444444444,\"#bd3786\"],[0.5555555555555556,\"#d8576b\"],[0.6666666666666666,\"#ed7953\"],[0.7777777777777778,\"#fb9f3a\"],[0.8888888888888888,\"#fdca26\"],[1.0,\"#f0f921\"]],\"diverging\":[[0,\"#8e0152\"],[0.1,\"#c51b7d\"],[0.2,\"#de77ae\"],[0.3,\"#f1b6da\"],[0.4,\"#fde0ef\"],[0.5,\"#f7f7f7\"],[0.6,\"#e6f5d0\"],[0.7,\"#b8e186\"],[0.8,\"#7fbc41\"],[0.9,\"#4d9221\"],[1,\"#276419\"]]},\"xaxis\":{\"gridcolor\":\"white\",\"linecolor\":\"white\",\"ticks\":\"\",\"title\":{\"standoff\":15},\"zerolinecolor\":\"white\",\"automargin\":true,\"zerolinewidth\":2},\"yaxis\":{\"gridcolor\":\"white\",\"linecolor\":\"white\",\"ticks\":\"\",\"title\":{\"standoff\":15},\"zerolinecolor\":\"white\",\"automargin\":true,\"zerolinewidth\":2},\"scene\":{\"xaxis\":{\"backgroundcolor\":\"#E5ECF6\",\"gridcolor\":\"white\",\"linecolor\":\"white\",\"showbackground\":true,\"ticks\":\"\",\"zerolinecolor\":\"white\",\"gridwidth\":2},\"yaxis\":{\"backgroundcolor\":\"#E5ECF6\",\"gridcolor\":\"white\",\"linecolor\":\"white\",\"showbackground\":true,\"ticks\":\"\",\"zerolinecolor\":\"white\",\"gridwidth\":2},\"zaxis\":{\"backgroundcolor\":\"#E5ECF6\",\"gridcolor\":\"white\",\"linecolor\":\"white\",\"showbackground\":true,\"ticks\":\"\",\"zerolinecolor\":\"white\",\"gridwidth\":2}},\"shapedefaults\":{\"line\":{\"color\":\"#2a3f5f\"}},\"annotationdefaults\":{\"arrowcolor\":\"#2a3f5f\",\"arrowhead\":0,\"arrowwidth\":1},\"geo\":{\"bgcolor\":\"white\",\"landcolor\":\"#E5ECF6\",\"subunitcolor\":\"white\",\"showland\":true,\"showlakes\":true,\"lakecolor\":\"white\"},\"title\":{\"x\":0.05},\"mapbox\":{\"style\":\"light\"}}},\"scene\":{\"domain\":{\"x\":[0.0,1.0],\"y\":[0.0,1.0]},\"xaxis\":{\"title\":{\"text\":\"SALES\"}},\"yaxis\":{\"title\":{\"text\":\"QUANTITYORDERED\"}},\"zaxis\":{\"title\":{\"text\":\"PRICEEACH\"}}},\"legend\":{\"tracegroupgap\":0},\"margin\":{\"t\":60}},                        {\"responsive\": true}                    ).then(function(){\n",
              "                            \n",
              "var gd = document.getElementById('c3402440-355b-43f9-8065-985f5e073bd0');\n",
              "var x = new MutationObserver(function (mutations, observer) {{\n",
              "        var display = window.getComputedStyle(gd).display;\n",
              "        if (!display || display === 'none') {{\n",
              "            console.log([gd, 'removed!']);\n",
              "            Plotly.purge(gd);\n",
              "            observer.disconnect();\n",
              "        }}\n",
              "}});\n",
              "\n",
              "// Listen for the removal of the full notebook cells\n",
              "var notebookContainer = gd.closest('#notebook-container');\n",
              "if (notebookContainer) {{\n",
              "    x.observe(notebookContainer, {childList: true});\n",
              "}}\n",
              "\n",
              "// Listen for the clearing of the current output cell\n",
              "var outputEl = gd.closest('.output');\n",
              "if (outputEl) {{\n",
              "    x.observe(outputEl, {childList: true});\n",
              "}}\n",
              "\n",
              "                        })                };                            </script>        </div>\n",
              "</body>\n",
              "</html>"
            ]
          },
          "metadata": {}
        }
      ]
    },
    {
      "cell_type": "code",
      "source": [
        "#using elbow curve to find number of clusters"
      ],
      "metadata": {
        "id": "huf2-dSkdcdX"
      },
      "execution_count": null,
      "outputs": []
    },
    {
      "cell_type": "code",
      "source": [
        "wcss = []\n",
        "\n",
        "for i in range(1,11):\n",
        "  km = KMeans(n_clusters=i);\n",
        "  km.fit_predict(data);\n",
        "  wcss.append(km.inertia_);"
      ],
      "metadata": {
        "id": "bhI5Nt0FeE23"
      },
      "execution_count": null,
      "outputs": []
    },
    {
      "cell_type": "code",
      "source": [
        "wcss"
      ],
      "metadata": {
        "colab": {
          "base_uri": "https://localhost:8080/"
        },
        "id": "wcRi9gwoenD7",
        "outputId": "c12c789f-dd6a-4f24-f8c4-af56bf52b97c"
      },
      "execution_count": null,
      "outputs": [
        {
          "output_type": "execute_result",
          "data": {
            "text/plain": [
              "[9574958418.900692,\n",
              " 3322523909.5389705,\n",
              " 1730804194.8014803,\n",
              " 1040556635.254254,\n",
              " 715152632.653464,\n",
              " 512064520.81275004,\n",
              " 384840199.6308937,\n",
              " 328118547.37488204,\n",
              " 236264615.14362064,\n",
              " 190898989.37919095]"
            ]
          },
          "metadata": {},
          "execution_count": 25
        }
      ]
    },
    {
      "cell_type": "code",
      "source": [
        "plt.plot(range(1,11),wcss)\n",
        "plt.title('The Elbow Method')\n",
        "plt.xlabel('Number of clusters')\n",
        "plt.ylabel('WCSS')\n",
        "plt.show"
      ],
      "metadata": {
        "colab": {
          "base_uri": "https://localhost:8080/",
          "height": 641
        },
        "id": "J4LodEGJeoVG",
        "outputId": "41c39669-eef3-43ee-9b08-410f57901546"
      },
      "execution_count": null,
      "outputs": [
        {
          "output_type": "execute_result",
          "data": {
            "text/plain": [
              "<function matplotlib.pyplot.show(close=None, block=None)>"
            ],
            "text/html": [
              "<div style=\"max-width:800px; border: 1px solid var(--colab-border-color);\"><style>\n",
              "      pre.function-repr-contents {\n",
              "        overflow-x: auto;\n",
              "        padding: 8px 12px;\n",
              "        max-height: 500px;\n",
              "      }\n",
              "\n",
              "      pre.function-repr-contents.function-repr-contents-collapsed {\n",
              "        cursor: pointer;\n",
              "        max-height: 100px;\n",
              "      }\n",
              "    </style>\n",
              "    <pre style=\"white-space: initial; background:\n",
              "         var(--colab-secondary-surface-color); padding: 8px 12px;\n",
              "         border-bottom: 1px solid var(--colab-border-color);\"><b>matplotlib.pyplot.show</b><br/>def show(*args, **kwargs)</pre><pre class=\"function-repr-contents function-repr-contents-collapsed\" style=\"\"><a class=\"filepath\" style=\"display:none\" href=\"#\">/usr/local/lib/python3.10/dist-packages/matplotlib/pyplot.py</a>Display all open figures.\n",
              "\n",
              "Parameters\n",
              "----------\n",
              "block : bool, optional\n",
              "    Whether to wait for all figures to be closed before returning.\n",
              "\n",
              "    If `True` block and run the GUI main loop until all figure windows\n",
              "    are closed.\n",
              "\n",
              "    If `False` ensure that all figure windows are displayed and return\n",
              "    immediately.  In this case, you are responsible for ensuring\n",
              "    that the event loop is running to have responsive figures.\n",
              "\n",
              "    Defaults to True in non-interactive mode and to False in interactive\n",
              "    mode (see `.pyplot.isinteractive`).\n",
              "\n",
              "See Also\n",
              "--------\n",
              "ion : Enable interactive mode, which shows / updates the figure after\n",
              "      every plotting command, so that calling ``show()`` is not necessary.\n",
              "ioff : Disable interactive mode.\n",
              "savefig : Save the figure to an image file instead of showing it on screen.\n",
              "\n",
              "Notes\n",
              "-----\n",
              "**Saving figures to file and showing a window at the same time**\n",
              "\n",
              "If you want an image file as well as a user interface window, use\n",
              "`.pyplot.savefig` before `.pyplot.show`. At the end of (a blocking)\n",
              "``show()`` the figure is closed and thus unregistered from pyplot. Calling\n",
              "`.pyplot.savefig` afterwards would save a new and thus empty figure. This\n",
              "limitation of command order does not apply if the show is non-blocking or\n",
              "if you keep a reference to the figure and use `.Figure.savefig`.\n",
              "\n",
              "**Auto-show in jupyter notebooks**\n",
              "\n",
              "The jupyter backends (activated via ``%matplotlib inline``,\n",
              "``%matplotlib notebook``, or ``%matplotlib widget``), call ``show()`` at\n",
              "the end of every cell by default. Thus, you usually don&#x27;t have to call it\n",
              "explicitly there.</pre>\n",
              "      <script>\n",
              "      if (google.colab.kernel.accessAllowed && google.colab.files && google.colab.files.view) {\n",
              "        for (const element of document.querySelectorAll('.filepath')) {\n",
              "          element.style.display = 'block'\n",
              "          element.onclick = (event) => {\n",
              "            event.preventDefault();\n",
              "            event.stopPropagation();\n",
              "            google.colab.files.view(element.textContent, 482);\n",
              "          };\n",
              "        }\n",
              "      }\n",
              "      for (const element of document.querySelectorAll('.function-repr-contents')) {\n",
              "        element.onclick = (event) => {\n",
              "          event.preventDefault();\n",
              "          event.stopPropagation();\n",
              "          element.classList.toggle('function-repr-contents-collapsed');\n",
              "        };\n",
              "      }\n",
              "      </script>\n",
              "      </div>"
            ]
          },
          "metadata": {},
          "execution_count": 26
        },
        {
          "output_type": "display_data",
          "data": {
            "text/plain": [
              "<Figure size 640x480 with 1 Axes>"
            ],
            "image/png": "[encoded data removed]"
          },
          "metadata": {}
        }
      ]
    },
    {
      "cell_type": "code",
      "source": [
        "#we can conclude the number of clusters to be 6"
      ],
      "metadata": {
        "id": "3V8ShUpTeyuG"
      },
      "execution_count": null,
      "outputs": []
    },
    {
      "cell_type": "code",
      "source": [
        "X = data.values"
      ],
      "metadata": {
        "id": "U-Bin82we-zm"
      },
      "execution_count": null,
      "outputs": []
    },
    {
      "cell_type": "code",
      "source": [
        "X"
      ],
      "metadata": {
        "colab": {
          "base_uri": "https://localhost:8080/"
        },
        "id": "xNWS879BfZz7",
        "outputId": "c5899723-d820-415a-fdfd-4a10299c22ef"
      },
      "execution_count": null,
      "outputs": [
        {
          "output_type": "execute_result",
          "data": {
            "text/plain": [
              "array([[2871.  ,   30.  ,   95.7 ],\n",
              "       [2765.9 ,   34.  ,   81.35],\n",
              "       [3884.34,   41.  ,   94.74],\n",
              "       ...,\n",
              "       [5417.57,   43.  ,  100.  ],\n",
              "       [2116.16,   34.  ,   62.24],\n",
              "       [3079.44,   47.  ,   65.52]])"
            ]
          },
          "metadata": {},
          "execution_count": 31
        }
      ]
    },
    {
      "cell_type": "code",
      "source": [
        "km = KMeans(n_clusters=6)\n",
        "y_pred = km.fit_predict(X)"
      ],
      "metadata": {
        "id": "yeI7FmuTfwHq"
      },
      "execution_count": null,
      "outputs": []
    },
    {
      "cell_type": "code",
      "source": [
        "df = pd.DataFrame()\n",
        "\n",
        "df['col1'] = X[:,0]\n",
        "df['col2'] = X[:,1]\n",
        "df['col3'] = X[:,2]\n",
        "df['label'] = y_pred"
      ],
      "metadata": {
        "id": "Vm-oPnv7gBxx"
      },
      "execution_count": null,
      "outputs": []
    },
    {
      "cell_type": "code",
      "source": [
        "fig = px.scatter_3d(df,x='col1', y='col2', z='col3',color='label')\n",
        "fig.show()\n"
      ],
      "metadata": {
        "colab": {
          "base_uri": "https://localhost:8080/",
          "height": 542
        },
        "id": "wzZ77oBFgE5L",
        "outputId": "bbe74f71-9942-4851-c7f9-6b83a4aa36dc"
      },
      "execution_count": null,
      "outputs": [
        {
          "output_type": "display_data",
          "data": {
            "text/html": [
              "<html>\n",
              "<head><meta charset=\"utf-8\" /></head>\n",
              "<body>\n",
              "    <div>            <script src=\"https://cdnjs.cloudflare.com/ajax/libs/mathjax/2.7.5/MathJax.js?config=TeX-AMS-MML_SVG\"></script><script type=\"text/javascript\">if (window.MathJax && window.MathJax.Hub && window.MathJax.Hub.Config) {window.MathJax.Hub.Config({SVG: {font: \"STIX-Web\"}});}</script>                <script type=\"text/javascript\">window.PlotlyConfig = {MathJaxConfig: 'local'};</script>\n",
              "        <script charset=\"utf-8\" src=\"https://cdn.plot.ly/plotly-2.35.2.min.js\"></script>                <div id=\"62bf7423-33f4-4d15-b7ba-651ecb42ed85\" class=\"plotly-graph-div\" style=\"height:525px; width:100%;\"></div>            <script type=\"text/javascript\">                                    window.PLOTLYENV=window.PLOTLYENV || {};                                    if (document.getElementById(\"62bf7423-33f4-4d15-b7ba-651ecb42ed85\")) {                    Plotly.newPlot(                        \"62bf7423-33f4-4d15-b7ba-651ecb42ed85\",                        [{\"hovertemplate\":\"col1=%{x}\\u003cbr\\u003ecol2=%{y}\\u003cbr\\u003ecol3=%{z}\\u003cbr\\u003elabel=%{marker.color}\\u003cextra\\u003e\\u003c\\u002fextra\\u003e\",\"legendgroup\":\"\",\"marker\":{\"color\":[2,2,0,0,3,0,2,3,2,3,0,2,0,0,0,0,2,3,3,3,1,5,5,0,2,1,3,1,1,1,4,3,4,3,1,4,1,1,1,1,3,4,1,4,4,1,2,0,3,3,4,2,0,4,0,2,0,3,3,0,3,0,2,2,3,2,1,3,2,1,0,0,3,0,2,5,3,2,1,1,1,4,1,3,0,0,4,4,4,1,4,1,1,4,1,3,1,3,1,1,2,0,0,5,4,4,1,3,3,3,3,1,0,0,3,3,1,2,0,0,2,0,2,0,2,5,5,2,0,3,0,4,2,3,3,0,0,0,0,3,0,0,0,1,1,3,0,3,1,0,1,1,2,0,3,1,2,1,5,3,1,3,1,4,4,4,3,3,0,0,1,3,1,0,4,4,0,3,1,1,2,0,2,0,2,5,4,1,4,4,3,4,1,0,4,4,1,4,4,1,1,4,1,4,2,5,2,3,0,0,2,4,0,0,2,3,0,1,1,1,3,0,1,0,1,1,0,2,1,1,2,3,0,0,1,4,2,2,1,4,2,4,2,4,1,3,1,3,0,3,1,0,1,1,3,1,0,3,0,0,4,0,0,1,4,0,1,1,1,3,3,3,4,0,0,0,3,1,3,0,3,0,3,1,5,0,3,2,1,0,4,1,0,1,0,3,3,2,3,2,3,2,0,2,2,3,3,0,0,3,0,0,0,0,5,5,3,1,4,4,1,3,4,4,1,0,3,1,0,4,0,4,0,1,2,0,3,2,1,0,1,0,0,5,5,5,5,2,5,5,0,2,2,5,2,2,0,2,5,0,2,0,0,2,5,2,2,3,3,2,2,0,1,0,3,1,0,3,3,3,1,2,3,2,3,1,5,1,3,2,5,2,1,3,0,2,2,0,3,3,3,0,3,0,2,5,3,3,0,2,2,2,2,2,0,0,3,3,4,0,0,3,0,0,3,0,3,5,5,0,3,0,0,3,0,2,3,3,0,2,5,2,0,0,3,2,0,1,3,3,0,2,0,3,3,0,1,0,3,3,2,2,3,1,1,1,1,1,1,0,2,1,0,4,3,3,0,0,0,1,3,3,2,0,0,2,2,3,0,3,3,0,0,0,3,5,2,4,2,3,3,2,2,2,2,5,2,2,5,2,2,5,5,5,5,5,5,5,5,2,2,5,5,0,5,3,5,3,2,3,1,1,3,3,0,0,3,0,2,0,3,2,2,0,2,3,3,1,2,5,1,3,3,1,2,3,1,1,1,1,1,3,1,4,1,1,1,3,1,0,2,3,0,5,5,0,1,3,3,1,2,3,3,0,1,0,1,1,0,1,0,1,1,4,0,1,3,3,4,3,0,0,0,2,0,5,5,0,0,5,2,0,5,2,2,0,0,5,2,2,0,0,2,0,3,0,3,0,3,0,1,3,0,1,1,3,0,3,3,1,0,0,1,0,0,5,0,5,0,3,5,1,3,0,1,1,1,1,3,0,1,3,1,4,1,1,3,4,0,3,0,1,1,1,1,2,2,2,1,3,0,5,2,5,5,5,2,2,5,5,5,2,5,5,2,5,0,2,4,5,2,2,0,0,1,1,3,1,1,1,0,1,0,2,0,3,1,3,3,0,5,1,3,5,0,0,3,0,0,0,3,3,3,3,2,3,0,0,1,1,3,0,2,3,4,2,0,0,0,3,2,5,3,5,2,2,2,2,2,2,2,0,2,2,5,5,5,5,5,5,2,5,2,2,1,2,2,5,5,2,5,2,2,0,2,5,0,3,5,2,2,0,2,2,2,0,3,2,0,2,5,2,0,5,2,2,5,5,2,2,5,2,5,5,5,5,5,5,2,5,5,5,2,3,5,5,5,1,2,2,0,3,1,4,0,1,0,2,0,1,4,3,1,0,3,4,0,0,1,5,3,3,2,5,5,3,0,3,3,0,0,1,0,3,0,3,0,1,3,2,3,3,0,3,2,5,5,1,3,1,1,2,2,2,3,0,0,3,0,2,0,3,2,0,3,2,3,3,3,0,0,2,3,0,3,3,5,5,5,5,0,5,5,0,5,2,5,5,5,2,5,2,5,2,5,5,5,5,2,2,0,5,2,2,5,0,5,0,0,0,0,0,2,0,2,3,5,2,0,2,5,2,5,5,2,2,5,0,5,2,0,2,3,2,5,2,3,2,2,2,0,3,0,0,0,3,2,2,2,3,2,5,3,3,5,3,2,5,2,0,3,1,0,1,0,0,1,2,3,0,0,3,1,2,0,2,5,1,3,0,5,3,3,3,4,4,0,0,4,3,3,0,0,4,3,3,1,3,0,1,4,0,3,1,0,1,1,1,0,3,0,1,0,1,2,0,1,4,3,3,0,0,2,3,1,2,1,5,1,1,0,4,4,1,0,3,5,3,2,2,3,2,0,0,3,5,3,3,3,0,2,0,2,0,2,0,2,0,2,1,5,5,0,2,5,2,2,0,2,2,0,2,5,0,2,2,0,2,0,2,5,2,2,3,3,0,0,2,0,3,2,2,2,2,3,0,2,2,0,2,0,0,2,4,2,2,0,4,0,5,0,2,3,3,0,3,0,0,3,0,3,1,1,4,0,1,0,1,0,3,1,0,0,0,1,1,3,3,0,3,3,1,3,3,1,1,1,0,3,0,3,1,0,0,5,0,3,2,4,3,2,5,2,0,5,2,5,0,2,2,5,5,2,5,2,2,2,2,5,5,5,2,3,3,5,3,2,0,0,0,0,3,3,2,2,0,3,0,3,1,5,0,0,0,3,0,2,5,3,1,1,3,2,0,0,3,0,3,3,3,1,4,1,1,0,3,1,0,0,3,3,3,2,1,3,1,1,5,2,2,0,0,5,0,2,2,0,0,0,0,2,0,0,1,2,2,0,5,1,0,2,0,5,5,5,2,0,3,0,0,2,0,5,2,0,3,0,0,3,3,2,0,5,3,5,0,3,1,3,1,3,3,2,0,1,3,3,2,3,3,2,3,2,2,1,1,1,0,5,3,3,3,5,2,2,5,5,5,2,5,5,5,2,5,2,5,2,2,5,5,2,1,5,1,3,2,4,2,5,3,0,3,3,3,3,3,0,3,3,1,0,2,3,3,4,3,4,1,1,0,5,0,1,2,5,2,5,2,2,5,0,2,2,5,2,5,5,5,5,0,5,0,3,3,2,2,5,5,2,2,0,2,5,0,5,5,0,2,2,5,2,2,5,5,5,0,5,0,5,0,5,5,5,5,5,5,2,2,5,5,2,5,2,5,2,2,2,5,1,2,2,2,5,5,5,2,2,0,0,0,3,1,3,2,3,2,2,2,2,3,2,0,3,2,1,2,2,3,0,3,3,0,5,2,5,2,5,5,5,2,2,2,5,5,5,5,2,5,2,5,5,5,5,0,2,2,2,3,0,0,1,2,0,2,2,0,2,2,0,0,2,0,5,5,3,5,3,0,0,5,5,5,5,5,5,5,5,5,5,5,5,5,5,5,5,2,0,5,4,5,2,4,5,5,0,2,0,0,5,2,5,0,5,5,2,0,2,2,2,2,2,2,2,0,3,0,2,0,3,2,1,3,1,0,3,0,1,0,3,3,1,3,1,3,2,3,2,0,0,3,2,5,0,2,3,0,2,5,5,2,5,5,5,5,5,2,5,5,5,2,2,5,5,0,2,2,5,5,5,0,5,0,2,0,3,3,3,2,0,1,1,0,3,0,3,3,2,3,0,3,0,3,1,3,0,2,4,3,2,2,5,5,2,2,2,0,5,2,2,2,2,0,2,2,5,2,0,0,2,2,5,2,2,0,2,5,2,5,2,0,3,0,0,3,0,0,2,3,2,2,0,2,0,5,1,0,5,5,5,5,5,5,5,5,5,5,5,5,5,5,5,5,5,5,5,0,5,5,2,3,1,5,5,5,0,2,2,5,5,5,2,5,0,0,2,5,5,2,2,5,5,2,2,1,5,2,2,5,5,5,1,2,3,2,2,2,2,0,2,3,2,3,3,1,3,3,5,2,0,5,1,3,5,5,5,5,5,5,5,5,5,5,5,5,5,5,5,5,5,5,5,5,5,5,3,1,3,2,5,0,2,0,3,2,5,0,2,0,5,0,0,2,5,2,0,0,2,2,0,4,2,5,0,2,1,5,0,2,5,5,0,2,0,2,0,2,0,2,2,0,2,0,5,0,0,0,5,0,5,5,5,2,0,5,5,2,2,2,5,2,5,2,5,5,5,2,5,2,2,2,2,5,2,2,5,5,5,2,5,5,5,5,5,2,2,5,0,5,2,5,5,0,5,2,2,0,2,2,2,2,5,0,3,0,0,2,1,3,3,0,3,2,3,1,3,2,0,5,5,2,5,0,0,2,0,0,0,5,2,2,5,2,5,5,0,5,0,0,2,5,5,2,5,2,5,2,0,0,2,0,3,3,1,2,3,0,0,1,1,1,3,3,3,2,0,3,1,3,0,0,3,3,2,5,1,4,4,0,5,0,5,0,5,2,2,5,2,5,2,2,0,5,2,0,2,2,3,5,0,2,2,2,0,5,5,5,5,5,5,5,5,5,5,5,5,5,5,5,5,5,0,2,5,0,5,5,2,3,5,0,2,2,2,1,0,2,3,3,1,2,3,0,3,0,3,3,0,2,5,5,3,0,2,2,0,0,5,0,2,3,2,0,0,0,0,0,3,5,3,0,3,1,3,5,1,0,3,2,5,2,0,2,0,2,5,0,2,5,5,5,5,0,2,2,0,0,5,4,0,0,0,0,2,2,5,5,5,2,5,2,5,0,2,0,0,0,0,2,3,0,3,0,2,3,3,2,0,0,0,2,2,2,2,3,0,0,2,2,0,0,2,2,2,0,2,5,3,1,3,0,2,2,0,5,2,2,0,0,3,0,2,0,0,2,5,0,2,5,3,2,1,0,1,1,0,3,3,5,5,5,5,5,5,5,5,5,5,5,5,5,5,5,5,5,5,0,0,5,2,0,5,5,5,5,2,5,2,2,0,2,5,5,5,5,5,5,5,5,2,2,5,4,2,5,1,5,5,2,5,5,0,5,2,0,5,2,5,2,5,2,5,2,5,2,2,2,2,2,3,2,3,3,2,5,5,5,0,5,5,5,2,2,2,0,2,2,2,2,2,5,5,2,2,2,5,4,2,0,3,0,1,5,2,2,2,2,5,2,2,5,2,2,0,5,0,2,2,5,5,2,5,0,0,0,5,3,5,0,2,2,0,2,0,2,0,0,0,0,2,0,3,2,3,0,2,3,2,3,0,3,2,3,5,2,5,5,5,2,5,5,5,5,5,5,5,5,5,2,5,5,5,0,2,0,0,5,5,5,0,2,1,3,0,3,0,3,3,2,0,0,2,2,0,3,3,3,0,3,0,2,3,2,2,3,0,5,5,5,0,2,5,2,2,5,2,5,2,2,0,2,2,5,2,2,1,2,1,5,5,2,4,0,2,0,0,2,2,0,5,2,0,0,5,0,0,5,2,0,2,0,0,3,0,3,3,0,2,2,5,5,2,2,0,5,5,5,2,5,2,2,2,5,0,5,2,2,2,2,0,3,5,2,2,0,0,5,0,3,2,0,5,2,2,2,0,2,5,3,2,2,2,2,3,5,2,4,0,5,2,5,2,0,0,2,2,2,2,3,0,2,2,0,2,0,2,0,5,0,2,2,3,1,2,0,0,2,5,2,2,2,0,2,2,2,2,0,0,2,5,0,0,0,0,0,2,5,2,2,0,0,2,0,2,3,2,2,0,5,3,2,0,0,0,2,3,3,2,0,2,0,3,3,2,0,0,5,1,2,5,2,0,2,2,0,2,2,0,0,2,2,2,2,2,2,2,0,0,5,0,2,2,3,5,2,3,3,3,0,2,0,0,5,2,0,2,3,3,0,0,2,0,0,2,0,4,2,0,3,5,0,0,0,0,2,2,3,0,2,0,2,1,3,1,3,0,0,1,0,0,0,0,5,1,2,5,3,0,0,2,0,3,0,2,5,2,2,2,0,5,5,5,0,2,0,0,3,3,2,5,1,2,0,0,0,2,3,2,0,0,2,3,0,3,0,2,0,5,0,2,2,0,2,2,0,0,3,2,2,0,2,0,2,2,2,5,0,2,2,2,0,0,2,0,3,0,0,0,2,2,0,2,0,2,2,5,2,2,0,0,0,2,2,0,2,2,2,2,2,0,2,2,0,2,5,0,2,0,0,5,2,2,5,5,5,5,5,2,5,5,2,5,5,5,5,2,5,5,5,0,2,2,2,5,3,5,5,2,5,2,2,5,2,5,5,5,2,2,2,5,5,5,5,5,5,2,2,0,0,2,0,3,2,2],\"coloraxis\":\"coloraxis\",\"symbol\":\"circle\"},\"mode\":\"markers\",\"name\":\"\",\"scene\":\"scene\",\"showlegend\":false,\"x\":[2871.0,2765.9,3884.34,3746.7,5205.27,3479.76,2497.77,5512.32,2168.54,4708.44,3965.66,2333.12,3188.64,3676.76,4177.35,4099.68,2597.39,4394.38,4358.04,4396.14,7737.93,1451.0,733.11,3207.12,2434.56,7516.08,5404.62,7209.11,7329.06,7374.1,10993.5,4860.24,8014.82,5372.57,7290.36,9064.89,6075.3,6463.23,6120.34,7680.64,4905.39,8014.82,7136.19,10172.7,11623.7,6000.4,3003.0,3944.7,5691.84,4514.92,8254.8,2416.56,4140.23,12001.0,3896.49,2793.86,3307.77,5192.95,5016.83,3660.93,4695.6,3660.92,3025.92,3009.09,5422.39,2852.08,5756.52,4472.0,2904.44,6484.59,3757.26,4043.96,5566.5,3176.0,2756.8,1329.9,5288.01,2225.5,5833.8,5887.35,6065.55,9264.86,7023.98,5176.38,4132.7,4183.0,8892.9,8714.7,8065.89,6123.4,9774.03,7023.9,7078.23,8336.94,6901.92,5438.07,6683.34,4570.4,7667.14,5868.2,2990.13,3664.1,3834.38,1822.17,11886.6,9218.16,7208.0,5004.8,4398.24,5597.76,4526.08,5924.16,3492.48,3854.24,5324.4,5197.92,5997.6,2910.4,3378.24,3508.8,2992.0,3427.2,2692.8,4128.96,3051.71,1201.25,1962.22,2624.64,4046.25,4846.7,3370.56,9661.44,2764.88,5398.26,4305.28,3347.74,3188.12,3191.2,3536.82,5362.83,3433.36,4263.74,4076.19,7020.48,6426.5,4591.72,4033.38,4302.08,7020.64,3855.9,6680.78,6678.0,2851.54,3188.12,4428.0,5780.92,2297.05,6231.54,1735.3,4427.73,5894.94,5265.15,7599.9,8008.56,9245.76,8296.35,5019.9,5411.07,3840.9,3930.4,7498.9,4517.91,5774.72,3922.56,9160.36,9631.0,3432.24,5521.89,6934.62,6876.11,2930.27,3584.25,2817.87,3420.0,2575.04,1961.28,8690.36,6034.38,11279.2,8023.29,4904.0,8594.52,7474.5,3883.74,8887.7,8602.92,7181.44,8378.58,10606.2,5818.4,7071.27,8411.56,6570.76,7975.44,2688.0,1888.26,2513.28,4764.48,3560.64,3823.64,2280.96,8677.8,3394.98,3415.44,2439.57,4829.8,4100.1,6563.06,6817.22,6163.94,4933.92,4056.36,5759.42,3451.0,5920.4,6668.24,4094.72,2938.5,6387.8,6396.0,2669.1,4784.13,3273.93,3586.43,5960.36,8470.14,2952.0,2464.8,6232.0,7969.36,3036.6,8284.0,2711.2,8339.8,6238.84,4639.25,6747.6,4512.48,4029.0,4771.8,6087.94,4193.28,7552.28,6434.4,5181.5,6863.92,4157.04,4660.24,4111.8,3542.64,8118.55,3877.06,3867.08,5951.44,8648.64,3447.78,5958.5,5911.64,7366.44,4985.64,5393.64,4880.02,8378.69,4038.21,3807.12,3142.36,4713.6,7016.31,4381.25,4283.01,4364.82,4242.24,4982.7,6393.54,1466.91,4059.33,4801.52,2711.66,5862.0,4071.85,8236.75,6130.35,3693.34,6031.68,3494.94,5294.14,5464.69,2860.76,5590.0,2254.8,4946.76,2495.5,3167.38,2402.84,2454.54,5464.69,4756.5,3984.6,3100.32,4850.3,3846.98,4220.92,3288.82,3987.2,1809.5,1092.2,4566.05,5938.14,8138.76,9470.94,7036.89,5559.03,7872.5,7886.2,7232.16,3114.4,5045.22,6952.12,4157.73,7962.24,3778.8,8253.0,3633.4,6913.8,2583.6,3105.62,4408.56,3042.41,5941.5,3241.9,6109.29,3387.78,3485.82,2042.88,1800.24,1340.64,1762.08,2298.24,1628.0,1939.2,3651.56,2591.96,2864.17,1484.2,2254.25,2681.35,3184.02,2846.63,1685.42,3988.6,2789.96,3607.56,3368.16,2775.08,1627.92,2529.36,3065.78,4615.78,5723.78,2559.6,2140.11,3327.6,6825.6,3543.28,4516.22,6445.46,3384.36,4891.68,4521.96,5069.66,6541.2,3012.27,5247.18,2214.87,4773.18,6185.7,1517.88,6372.6,5232.96,2694.72,1749.79,2130.56,5951.34,4692.6,3731.04,2142.0,2838.81,3230.37,5182.0,4391.1,4477.32,3544.56,5195.85,4180.44,2684.43,1958.88,4910.57,4468.4,3127.88,2675.13,2807.61,2504.75,2984.88,2524.86,4136.0,4068.7,5182.0,5243.79,9048.16,3832.64,3920.0,4916.66,3857.0,4181.44,4641.0,3570.12,4480.32,2033.64,1960.14,3966.78,5152.0,3360.0,3451.0,5453.0,4164.12,2800.08,4687.94,4508.0,4181.44,2251.04,1167.25,2083.2,3822.0,3911.49,4704.0,2467.9,3213.0,7182.0,4379.18,5004.8,3644.75,2702.04,3764.88,4508.0,5418.16,3300.66,6182.4,4186.73,4529.28,5628.89,3054.48,2526.51,4667.86,6499.32,5917.78,6231.91,5803.14,6434.02,6454.4,4196.8,2611.8,5895.05,3375.72,8374.69,4464.24,4808.31,3288.78,3254.72,3184.94,5907.5,4389.12,5036.16,2183.25,3106.88,3735.72,2413.26,2953.75,4684.8,3248.7,5239.5,4567.98,3535.35,3843.34,3710.9,4375.98,1516.62,2509.0,9240.44,2515.32,5548.9,4873.05,2055.74,2354.88,2309.58,2113.37,1746.6,2304.45,2122.08,1742.4,2455.02,3053.28,1423.29,1504.12,1164.4,1500.75,1557.36,1345.68,1795.24,1105.25,2364.88,2427.03,1237.95,1593.02,3156.16,1320.75,4998.0,1293.75,5433.08,3073.72,4380.2,5848.68,6153.73,4965.24,5435.64,4258.36,4032.0,4492.36,4161.38,2508.66,3374.88,5196.6,2604.52,2936.8,3424.64,2923.2,4489.76,4849.24,5848.92,2758.7,1449.76,7048.14,5202.94,5279.4,6916.12,2781.66,5248.0,6531.44,5763.72,6490.68,6004.8,7483.98,5719.5,6954.08,8160.3,6567.96,6724.0,5747.85,5676.84,7379.97,3704.13,2804.75,5624.79,3881.28,1611.4,1364.25,4215.09,6433.82,4352.16,5151.0,6069.0,2856.0,5375.4,5176.5,3508.8,7554.8,3141.6,5890.5,5967.0,3712.8,7597.3,3668.6,5875.2,7310.0,8078.4,3257.76,7650.0,4703.81,5399.55,14082.8,5283.6,3130.82,3112.34,3806.88,2142.14,3364.9,1262.8,1626.24,4088.7,3846.15,1339.8,3039.96,3400.32,1930.39,2464.77,2634.94,3625.16,3788.4,1832.6,2905.98,2954.81,3599.75,3686.54,2100.56,3881.78,4509.12,3273.27,4432.7,4100.99,5274.72,4232.0,6145.44,4680.2,3286.08,7421.3,6432.64,4840.87,3892.08,5526.32,4459.62,6203.4,3754.05,3516.48,7488.04,3448.08,3734.0,974.1,3160.74,1746.63,4207.84,4352.76,1463.7,7169.28,4594.76,3457.92,7381.16,7146.9,5938.53,7110.91,5032.95,3667.6,7381.16,5128.11,7060.24,8448.64,7300.51,6549.2,5697.9,9169.0,3238.63,4554.94,3934.44,5776.26,7207.45,7460.74,6719.54,2428.0,2602.25,2200.0,6712.93,5318.04,3390.0,1608.0,2262.96,1496.64,1879.74,1495.26,2323.7,2491.86,1643.12,1322.16,1423.8,2397.45,1574.0,1729.0,2255.84,1834.5,3201.5,2276.4,8884.8,1331.1,3051.3,2288.52,3772.61,4164.42,6295.95,6287.66,5412.54,5984.14,5891.04,5984.14,3608.15,5752.54,3765.32,2159.96,3379.94,5093.5,5773.44,4528.86,4816.08,3416.78,1236.84,5814.86,5223.48,728.4,3949.0,3843.99,5498.08,3777.58,3782.0,3859.68,4431.84,4950.33,4299.7,4492.83,2212.0,4642.88,3206.32,3604.23,7017.76,6154.18,4750.8,3822.92,2440.8,4729.36,12536.5,2264.15,3928.2,3630.22,4196.07,4931.6,3068.69,785.64,4977.0,1189.98,3090.15,2795.86,2851.54,2701.92,2204.1,2840.48,2647.04,3172.05,2585.93,2148.3,1667.4,1859.7,1476.6,1732.0,1674.17,1500.98,2192.68,1797.58,2142.35,2086.92,6834.5,2541.59,2130.92,1701.7,1694.0,2913.53,935.18,3073.26,2082.49,3394.23,2559.6,1490.16,3844.0,4724.91,1824.72,2668.68,2843.61,3163.65,2226.11,2069.75,2235.33,3116.43,4781.7,2810.7,3515.67,2909.34,1570.17,2613.92,3193.26,1482.6,2055.23,2674.9,1853.4,1490.1,2162.16,2814.28,1605.0,2093.44,1944.3,1986.8,1695.96,1281.56,1774.22,1997.5,2353.2,981.2,1550.72,1771.06,2213.4,5266.04,1864.8,1142.41,1172.6,6981.0,3064.6,2202.48,3773.38,5074.39,6483.46,7956.46,4230.62,7209.12,3452.68,3047.73,3675.32,7492.4,9534.5,5579.02,5950.34,3726.0,4455.0,8272.34,3577.6,3881.25,5797.44,1264.08,4815.3,4462.2,3033.28,990.78,2030.86,5433.75,3157.44,5161.2,4346.76,3528.36,3187.8,6023.16,3884.76,4965.84,4169.88,4910.4,3231.36,6853.44,5177.04,2824.8,4324.32,5052.96,3223.44,5278.68,2851.2,1687.4,1308.0,6144.6,5127.2,6386.16,7695.6,2242.89,2539.89,2795.27,5545.76,4285.46,3329.09,5592.22,3298.55,2609.88,3336.29,5510.05,2504.4,3525.6,4407.0,2983.44,5126.24,5713.79,4613.8,3711.1,3524.73,2795.27,4814.4,3572.33,4581.36,4319.76,1448.0,881.4,2011.1,1801.24,3390.2,1424.0,1499.1,3358.08,1504.16,2655.12,1244.16,1888.88,1820.01,2866.95,1394.16,2632.28,2018.56,2954.53,1871.83,1559.04,1880.2,1224.67,2979.08,2208.64,3458.42,1237.88,2723.2,2218.52,1665.32,3421.04,1878.66,3853.6,3442.64,3482.16,3363.52,3350.52,2862.72,4036.04,2817.92,4636.38,1553.58,2697.6,3334.04,2059.26,2023.14,2586.64,1987.02,1146.5,2312.24,2793.71,1908.28,3441.37,2023.28,2245.2,3255.12,2539.5,4818.15,2921.7,1801.2,2804.36,4900.8,2759.31,2488.2,2769.89,3581.4,5285.14,3181.53,3340.51,3138.34,4775.08,3006.43,2866.26,2232.62,4457.02,2257.92,1592.0,4948.2,5160.76,1978.62,4288.2,2520.68,1781.22,3065.04,3551.34,5544.02,6034.33,3641.57,6930.74,3675.63,3442.04,6893.81,2622.48,4417.38,3606.02,3802.56,5026.4,6695.53,2819.28,3759.04,2731.8,1658.88,5778.24,5191.12,3862.88,1476.48,5273.73,4872.03,4556.99,8257.0,8209.44,3598.5,3837.24,8331.61,4836.5,5418.88,3734.01,3996.4,8754.69,5481.45,4419.89,6324.75,4409.72,3918.46,7620.5,8291.04,3937.25,5554.4,6407.86,4172.52,7083.37,7132.68,6773.6,3657.69,4812.55,3928.6,6401.22,4191.25,5852.52,2844.87,4011.66,7455.87,8940.96,4572.25,5700.09,3155.49,4170.69,2878.8,5029.5,7396.8,2991.68,6275.72,1534.95,7264.53,6869.05,3353.02,8289.05,11887.8,5926.9,3793.16,4330.1,2011.8,4837.18,2151.82,2573.46,5344.5,3070.52,3952.83,3564.75,5614.56,1855.41,4598.4,5082.42,5450.59,4174.92,2418.24,3670.4,2481.7,3807.68,2230.41,3814.64,2117.75,3340.48,2154.0,5808.48,1777.1,1536.57,3510.0,3097.44,1705.41,2264.32,2484.6,3415.68,2839.32,2730.0,3540.53,2999.97,1527.8,3907.8,2658.48,3042.68,3861.2,2171.07,3403.08,2245.8,1668.5,2773.8,2464.0,5491.6,4791.82,4178.85,3128.92,3095.4,3958.5,4991.44,2761.96,2848.23,2539.84,2444.4,4555.92,3666.96,3035.88,2321.54,3474.46,2501.98,3958.46,3535.95,3011.91,11336.7,2656.94,2604.25,3288.6,8935.5,4035.96,1875.09,4049.56,2469.39,5432.7,4405.22,3638.0,4444.92,3395.48,3414.58,5127.04,3745.28,4564.08,6554.24,6749.83,8427.02,3924.6,6761.6,3786.49,6266.12,3491.0,4405.22,6548.3,3177.91,4142.64,4149.07,7397.0,6241.6,5331.88,5124.3,3639.44,5544.0,5493.12,5785.26,5340.6,5735.8,6357.6,7343.9,5959.22,4029.38,5035.14,4116.8,4310.55,6446.7,3616.64,4232.76,1765.66,3734.72,4808.38,2266.56,10468.9,5589.14,2914.11,1740.9,2266.2,3155.58,1357.86,2598.82,1057.56,3127.82,2488.14,2220.72,1357.72,1638.04,2626.08,1661.88,2173.6,2182.05,2819.88,2598.64,2019.27,1454.7,1657.57,2851.84,4609.64,5079.96,1879.92,4774.86,2687.04,3423.75,3455.76,3622.97,3599.58,5386.56,4918.78,2538.8,2498.6,3858.75,5600.5,4103.46,4287.5,5795.54,1863.4,4166.88,4080.07,3815.48,5526.45,3374.6,3024.5,1266.1,4811.85,7307.42,6209.25,5348.5,2780.58,3447.0,3791.52,4524.1,3337.6,5532.12,5096.91,4537.08,6146.8,8258.0,7238.28,6756.0,3734.0,4674.8,7140.76,3600.65,4206.74,5379.71,5679.36,4394.84,2528.25,7031.52,5340.9,6376.58,6896.75,1903.22,2499.56,3081.24,3598.22,3912.09,1584.66,3942.72,2341.2,2482.11,3602.02,3566.94,3787.98,3704.05,2834.65,3392.26,3358.31,7310.0,2203.11,2696.96,3376.64,541.14,6134.7,3382.5,2240.66,3962.88,1685.28,1834.36,1916.98,2611.0,3630.28,5090.5,3949.65,3491.67,2059.19,3170.16,1790.6,2345.97,3580.88,4946.06,3525.6,3602.16,4300.5,4498.19,3023.1,3562.49,1640.24,4739.4,1207.68,4228.2,4815.45,7083.0,4601.2,6467.02,5012.55,5121.59,2441.04,4262.08,6658.02,4509.08,4716.23,2390.22,4666.62,5383.08,2482.25,5288.64,2184.38,2881.76,6203.06,6763.47,5884.65,3559.64,1668.37,4890.6,5235.72,4325.16,1938.89,2490.5,2314.69,1254.83,1282.8,1345.75,2194.22,1972.0,1835.98,1119.93,2082.88,1569.75,2694.15,1257.27,2567.84,2634.28,1502.78,1676.2,2217.15,6832.02,1916.64,7110.8,5302.8,2730.0,7827.3,2095.45,1556.62,5565.12,3583.16,4705.18,4444.54,4618.88,4910.4,5565.12,4237.76,5673.58,5260.15,6350.96,3559.4,2410.6,5713.92,4300.32,7947.31,5356.8,7901.1,6101.0,6276.46,4203.5,1629.04,3289.86,6862.94,2574.18,1327.79,2356.25,2013.5,2807.22,3072.96,1906.5,3431.7,2084.75,2136.01,2009.7,2719.8,1575.08,1688.43,1672.1,1674.75,3472.98,1649.18,3751.0,4536.0,4421.34,2078.28,3069.0,1713.8,1506.5,2692.12,2422.08,3488.34,2583.34,1249.4,3374.71,1265.46,1681.46,3204.0,2398.72,2381.04,1944.54,2273.7,2116.5,1307.32,1726.37,1267.77,3441.82,1987.18,3880.2,1942.15,3259.92,1213.8,1086.6,1632.75,1734.0,1857.06,1863.41,2924.68,2294.18,1457.82,1955.88,2314.4,1310.96,2913.3,1357.78,2150.0,2783.25,2339.92,1729.0,5972.4,2275.2,2673.44,2431.75,2018.72,1558.99,1104.6,2575.1,2845.75,3431.75,3273.9,4119.4,5355.68,5747.5,5355.36,2535.75,4351.23,2254.0,2921.28,2299.0,2637.18,4307.52,2153.76,3716.88,5455.76,2650.62,6437.28,2633.4,2278.53,4846.0,4197.1,4597.65,5287.7,3550.05,1721.73,2993.5,1295.06,2671.95,1226.59,1453.84,1830.22,2530.01,2241.45,2399.85,1557.72,845.25,1352.4,1584.8,2616.0,1129.04,2218.5,2028.48,1759.2,977.67,1463.0,3970.56,2576.0,2233.69,2481.64,4651.53,3858.1,3501.6,6433.7,2658.96,3608.76,2214.67,2747.53,3310.92,2380.0,2310.88,4061.76,3493.7,2872.25,4114.38,1063.65,2008.44,4328.6,1376.43,5552.16,3659.02,4165.61,1404.0,710.2,1702.8,1194.84,1007.14,977.43,1436.76,759.46,1189.44,683.8,1226.82,974.82,577.6,1106.93,694.6,1152.06,2624.0,3685.95,703.6,9720.0,834.67,2257.92,8344.71,1801.94,1209.6,3155.14,2848.86,3570.29,3902.41,1474.66,2186.89,1919.4,3656.0,1847.0,1851.0,2633.78,3153.6,2803.2,2311.02,2399.4,2733.12,2096.32,2971.34,2257.58,3493.91,4398.9,3595.62,2443.29,3988.6,5168.4,2803.2,6341.21,5189.78,6027.75,3366.0,5456.4,3812.16,6083.0,3170.7,4534.6,4301.15,6804.63,5652.94,6960.48,4512.6,2784.76,5316.36,2941.89,3207.4,4215.05,4333.29,2087.13,1711.22,3910.53,2255.12,5720.75,3335.23,2472.96,1729.65,995.5,2414.72,1560.47,1112.94,1138.94,1012.4,913.92,2349.06,1161.12,1764.75,1690.9,2137.05,2177.1,1734.48,865.49,3500.1,2223.52,2311.68,828.36,856.52,1845.45,4042.08,1828.0,3680.28,2925.09,3415.77,5105.14,5098.8,4661.76,2969.96,3496.32,5760.93,6819.04,3148.88,5704.32,3520.6,5285.62,5605.05,2779.5,5398.08,3189.6,5581.8,3820.44,5528.04,5981.42,5684.65,3449.4,2654.4,8498.0,5510.54,2060.45,2460.16,1787.56,1645.65,2169.18,2816.18,2521.05,3199.98,1338.12,2972.58,2070.9,3092.6,2408.7,3472.54,2263.28,2194.17,1346.4,2533.63,3403.26,3307.2,2896.65,2632.89,2046.0,2279.55,2150.55,3360.45,2326.4,1545.6,2144.6,1639.22,2649.6,3845.6,4527.04,3966.3,4142.58,4441.5,3315.12,3918.53,2830.45,5298.86,2620.8,2181.0,3382.08,2876.75,4107.2,1350.0,7182.0,3933.93,1742.4,721.44,1489.41,891.03,1209.3,859.14,1151.44,1336.44,905.28,1247.4,846.51,1085.04,1767.43,1030.44,1585.36,813.2,1172.34,1510.56,1448.07,3338.1,1225.29,1336.68,2985.84,5545.8,6089.6,1789.4,1082.1,1030.44,3659.32,2443.6,2349.9,1646.19,1670.26,1467.48,2748.56,1522.4,3255.36,3535.03,2608.96,1356.4,1611.36,2603.2,2219.7,1496.25,1884.0,2166.14,2828.16,6214.45,1867.0,2676.72,2182.44,1611.4,1479.84,1424.22,5942.28,2348.75,4392.12,2759.75,2728.03,2395.8,3052.33,4242.0,2790.45,4340.49,2762.2,4645.72,5580.96,6539.04,5548.95,4595.41,1859.44,2093.76,4223.13,1596.76,5820.35,5296.5,930.9,1207.44,717.4,1066.75,1554.0,1277.64,1578.79,917.7,777.0,1476.28,1538.46,891.2,1706.8,1373.6,1205.59,1427.4,1649.28,1383.03,1229.51,1140.48,1575.6,1386.72,5018.4,5856.85,4894.73,2094.32,640.05,3193.52,3066.7,3883.11,4814.25,2826.27,1593.2,3266.1,2453.55,3910.4,1788.0,3328.07,3788.4,3053.7,2005.74,2796.12,3159.96,3908.62,2606.48,2081.76,3519.85,10758.0,3021.0,1891.56,4208.41,2246.4,6107.4,1987.74,4068.96,2282.22,1541.0,1951.92,3107.61,2328.64,3184.8,2149.74,3184.8,2114.58,4256.56,2344.98,2328.66,3575.04,2076.0,3305.25,1538.55,3325.92,3662.52,3478.64,1057.29,3385.9,1892.1,1707.14,1785.51,2057.4,3490.0,1707.14,1506.96,2880.48,2206.6,2351.04,1205.04,2935.15,1263.84,2935.15,1224.6,1359.4,1822.18,2163.72,1591.98,3078.5,2997.6,2747.8,2447.76,1910.84,2430.64,2896.3,1630.6,1459.6,1716.22,2560.47,1900.26,2019.84,1988.28,1449.84,1935.09,2793.24,3025.05,1742.5,3236.1,1735.92,2795.13,1671.52,1576.74,3615.71,1459.6,2891.01,2598.44,3871.92,3036.0,2231.6,2436.78,2173.6,1254.6,3724.42,5203.0,3469.5,3148.2,2167.22,6244.07,5566.0,4368.96,4039.26,4420.32,2341.71,5110.98,6168.0,4873.26,2120.14,4236.14,1888.95,1152.58,2492.88,1991.6,3953.18,3729.39,2617.16,3983.5,3169.95,3899.5,1851.73,2513.41,2431.94,1514.52,3079.44,1900.36,1974.06,3703.46,1755.13,4273.29,3984.96,2407.68,1697.3,2011.02,2306.25,1845.0,2493.12,1508.5,2394.3,3164.98,3351.09,3064.32,3891.81,5448.8,5494.97,6336.07,2906.97,4767.7,3819.56,3861.75,6319.35,6996.42,6949.67,4550.0,4479.63,5148.0,2932.08,3159.75,4297.32,7723.5,5497.65,4052.88,3135.93,5013.54,5302.72,2931.98,1757.91,6763.05,11739.7,9240.0,3241.5,1968.12,4094.5,1853.32,3392.84,1971.54,2169.9,2846.17,2018.4,2718.72,1981.65,3002.4,2948.16,3357.49,1175.16,2292.8,3286.49,2333.7,2675.05,4361.4,2018.58,3710.98,2847.0,3006.12,2797.84,3843.2,1351.08,1689.03,1654.56,1528.58,1013.48,1442.26,1163.05,971.98,902.66,1295.97,1534.72,1185.3,1698.78,1381.05,1340.46,965.04,1093.99,3166.84,2143.68,1717.64,4086.29,553.95,652.35,2921.62,5568.64,1939.8,3784.8,2802.09,2384.64,2915.66,5795.72,3699.88,2980.6,5032.74,4737.15,6311.2,3070.54,4797.39,3832.38,4641.48,4000.26,5325.76,4618.69,3182.97,2603.04,1408.96,1972.11,5207.75,4253.2,2873.0,2253.68,3576.12,3276.13,1811.4,3845.1,2571.14,5035.11,2279.0,3213.87,3532.23,3406.59,3467.2,3628.94,4674.72,1656.69,5171.4,3342.57,4884.88,6267.69,4424.16,1962.09,6847.0,3476.8,4592.61,2208.92,1657.76,2479.21,3565.92,2797.41,3756.0,2840.0,1716.26,3245.6,2760.94,1808.4,1682.37,1491.0,1666.35,3666.08,2916.2,2616.98,3390.8,3146.5,1561.5,10039.6,3167.0,3521.25,4219.28,3581.76,2130.01,2063.06,2008.13,2004.77,1543.3,2269.92,1991.92,2916.76,2027.52,3235.18,2062.94,3317.78,3913.69,3608.64,3524.8,2586.88,4753.49,3684.67,5715.4,3098.7,2670.92,5154.41,4894.17,2472.6,3224.31,3667.52,4141.33,2829.58,3068.55,2634.96,2436.72,4607.36,3598.99,3964.1,2244.9,2793.0,4133.64,3900.6,2743.04,2402.07,2178.54,3155.04,2366.28,1963.6,4746.28,6386.94,4428.0,4044.04,2708.42,2904.72,3553.88,1858.0,2461.36,2642.01,3098.7,3244.36,4351.16,3675.86,2475.27,4177.49,3282.28,2477.21,1883.93,3658.93,2856.88,1917.84,5305.36,2875.95,6482.85,3733.82,6576.5,6353.27,4175.6,4992.61,4764.6,1173.15,1384.46,1327.59,1109.8,1239.0,1035.58,1545.64,1517.54,1731.84,1695.49,1045.98,1738.08,651.8,988.47,1518.11,1013.76,1549.8,1108.38,4102.56,3713.16,1513.54,2317.44,3298.4,1826.96,1206.9,1666.7,1560.44,2337.75,1103.76,2617.85,2207.52,3165.5,2071.41,1385.28,1621.62,1931.65,1244.53,1704.5,1753.2,1666.7,1710.89,2326.5,2316.0,1727.1,8844.12,2424.0,1535.49,6358.68,1329.4,1701.76,2259.72,925.3,482.13,3227.63,1711.26,2054.36,3131.94,1681.35,2351.36,1408.0,2445.6,1804.44,2544.75,1056.4,2801.4,1988.4,2908.35,2147.4,2099.63,2315.18,2327.15,5377.4,2626.01,4406.4,4301.22,2986.5,1587.08,1808.4,1193.04,3403.35,1575.96,1630.2,1701.28,2850.82,2692.06,2174.42,3167.36,2142.66,2117.52,2419.95,2191.2,3043.04,1228.2,1330.35,2792.52,2296.0,2629.44,1912.16,8209.44,2431.77,3139.99,5669.64,3160.25,6799.68,1867.32,2702.04,2406.36,2094.67,2797.9,1637.2,2281.91,2307.24,1320.8,2642.82,3061.0,3164.4,1791.16,4093.0,2234.4,3037.84,1419.84,1948.08,2307.24,1780.4,3544.17,3619.44,3918.95,1483.02,4819.26,1591.72,3669.78,2168.5,2694.0,3251.34,2347.15,3920.88,2514.6,3600.24,4040.03,3336.9,3113.64,2832.0,3330.98,4304.64,2600.26,4382.16,4235.0,2626.8,5026.56,2201.62,4326.8,3425.18,4701.88,2204.1,5189.4,1565.85,2480.38,1355.13,1246.44,820.4,2492.64,1113.6,1763.86,1896.66,1449.35,1869.48,1860.53,1724.82,1713.69,1259.44,2051.08,1617.38,1765.62,2024.8,3288.4,2725.47,3224.2,3211.38,1796.34,1979.6,1921.41,3705.24,2843.91,6176.42,5500.44,3220.1,4556.16,3114.89,4948.2,5161.17,2657.76,3983.05,3974.94,2928.42,3054.57,3345.26,4310.72,4983.14,4618.32,3403.12,5190.42,3141.57,2213.4,4896.7,2714.4,3087.05,5692.96,3460.86,1895.94,1705.92,1033.41,3179.52,2091.18,1779.71,2537.64,2448.72,972.4,2856.14,1968.3,2056.2,2242.02,3128.65,2443.26,2470.86,1927.45,2051.56,2337.38,5932.96,2296.77,6490.88,1623.25,1405.92,2282.28,8977.05,3256.35,2821.66,3293.4,4224.0,3091.68,2219.6,3866.4,1964.76,2668.8,3222.0,3864.5,1366.8,3475.68,4206.5,1486.38,3077.88,3544.2,2483.04,3478.05,3657.8,4682.36,3937.7,4984.32,5406.66,3491.18,2118.54,2897.47,1916.75,1860.0,2624.0,2780.81,3239.62,1824.0,1134.0,1487.41,2837.46,1942.77,2544.12,2568.24,2108.0,1372.14,3540.15,1958.84,2700.0,2542.0,2340.0,2816.44,3526.82,4627.92,1933.5,2600.13,2639.58,3312.97,3863.87,1863.36,3945.96,4954.08,2762.2,3989.76,1649.55,2534.75,2580.25,2831.54,3361.2,2864.32,1994.88,4296.6,2224.95,2795.14,2762.1,2658.0,5043.87,1210.8,3029.19,10066.6,4121.43,1135.31,2100.82,2034.35,3027.84,3104.0,3612.43,2711.88,3013.97,2738.54,2832.0,4720.0,3222.0,2231.0,2296.84,4157.2,2146.2,3724.23,2084.81,3488.78,1753.06,3469.2,2530.8,2924.32,4496.8,6397.44,2577.6,3533.62,3177.3,2730.06,1891.78,2612.48,2925.76,2940.02,3293.24,2389.68,2172.48,2927.43,2659.54,3838.0,4142.16,2172.48,1882.8,3477.86,3323.84,4195.8,4156.58,3918.75,2352.67,1089.36,2701.12,2487.04,3910.32,4038.8,3070.4,3763.46,2584.8,4427.6,2152.02,2353.4,3431.39,1930.5,4774.56,2592.72,3246.75,3372.5,3909.15,2994.75,4472.52,4576.95,2441.04,3106.25,2706.41,4021.53,4826.25,4935.28,2754.7,3856.71,3102.08,1908.72,7543.75,2457.18,2038.87,2499.26,3838.05,2643.99,2315.88,3225.06,2451.84,2254.98,3939.5,3424.7,2914.2,2389.6,2428.48,3021.48,2610.72,3091.19,2576.2,3232.31,3573.6,2022.51,3717.5,2185.15,2883.53,5017.57,1463.0,2352.59,4460.82,4758.18,4597.2,4114.8,2104.0,3195.27,3611.16,2000.77,2314.26,3871.89,2728.0,5614.0,4628.8,3641.4,4048.0,2321.46,3256.96,4208.0,2973.9,4248.3,9558.8,2650.56,3761.37,4301.34,1864.56,3576.8,3722.32,3986.56,3417.12,2691.09,2752.6,4527.72,3957.05,2818.0,3199.86,2402.75,6055.72,5465.16,6378.72,5392.8,3986.5,4009.23,7119.0,4072.2,4094.51,3302.4,3186.48,1668.25,7154.5,2810.83,2018.31,5642.83,3273.6,3268.0,2688.0,3715.2,4608.0,3131.2,2678.4,1747.2,2944.0,2956.8,2052.0,3164.8,1740.0,1777.6,1831.2,3609.6,2112.0,3644.12,3523.85,5001.92,5208.72,3018.88,1902.4,7084.0,2620.8,3164.46,4219.2,3828.3,2334.99,4407.5,2812.8,4055.04,3891.66,2488.32,4447.4,4187.22,4615.68,3245.4,2203.75,3446.0,1939.3,3473.78,2884.8,2670.65,3440.0,2770.78,2397.54,3275.56,4143.6,5192.64,3029.04,2556.18,3753.9,2562.3,3245.58,2204.6,3003.0,2526.48,1747.9,3267.25,2818.53,2955.54,2885.05,3162.95,4071.5,2969.46,3396.44,4692.6,3515.7,3380.69,3204.57,2588.04,2854.75,4025.6,2864.4,3789.72,2439.99,2949.12,1539.72,2213.38,2919.58,3778.28,3233.49,3431.25,2546.8,2953.86,3183.29,2466.7,2363.22,2487.45,2249.05,2061.12,4071.14,2656.29,2736.36,3348.93,2893.0,1661.22,4277.35,2502.9,3801.6,3144.96,2031.4,2674.17,2526.72,1348.76,875.91,1874.05,1671.44,1668.4,2301.75,1459.92,1209.59,2145.12,1416.39,1843.52,1199.31,1875.2,2477.23,948.99,1823.42,1485.8,3789.72,2060.37,2579.36,2189.6,1624.25,4357.5,1367.48,1122.4,2419.62,1419.5,2184.0,2079.04,1724.97,3003.0,1846.42,2009.2,1804.04,2109.66,2682.96,2280.24,1192.56,1506.96,1472.62,1696.82,1693.56,1921.92,2082.85,2227.6,3209.38,4080.72,2244.4,3978.51,5417.57,2116.16,3079.44],\"y\":[30.0,34.0,41.0,45.0,49.0,36.0,29.0,48.0,22.0,41.0,37.0,23.0,28.0,34.0,45.0,36.0,23.0,41.0,46.0,42.0,41.0,20.0,21.0,42.0,24.0,66.0,26.0,29.0,38.0,37.0,45.0,21.0,34.0,23.0,42.0,47.0,35.0,29.0,34.0,32.0,21.0,34.0,37.0,47.0,48.0,40.0,26.0,30.0,32.0,41.0,36.0,24.0,23.0,50.0,39.0,29.0,27.0,37.0,37.0,27.0,42.0,38.0,24.0,23.0,47.0,22.0,44.0,40.0,22.0,47.0,39.0,34.0,45.0,20.0,40.0,26.0,39.0,50.0,45.0,45.0,27.0,46.0,31.0,33.0,22.0,20.0,41.0,45.0,49.0,34.0,49.0,39.0,43.0,41.0,36.0,27.0,29.0,20.0,37.0,26.0,39.0,22.0,22.0,21.0,66.0,56.0,50.0,46.0,33.0,49.0,32.0,44.0,24.0,26.0,45.0,39.0,49.0,20.0,27.0,30.0,25.0,24.0,22.0,33.0,47.0,25.0,26.0,48.0,39.0,34.0,32.0,64.0,19.0,42.0,31.0,22.0,26.0,20.0,21.0,33.0,28.0,26.0,31.0,48.0,50.0,28.0,26.0,32.0,44.0,30.0,38.0,40.0,46.0,26.0,27.0,43.0,35.0,37.0,37.0,27.0,38.0,33.0,42.0,42.0,48.0,41.0,30.0,27.0,21.0,20.0,41.0,27.0,28.0,24.0,44.0,50.0,21.0,33.0,33.0,31.0,41.0,45.0,33.0,45.0,26.0,12.0,41.0,33.0,46.0,33.0,20.0,44.0,33.0,21.0,47.0,46.0,32.0,42.0,44.0,35.0,41.0,46.0,31.0,38.0,42.0,33.0,48.0,42.0,32.0,34.0,33.0,36.0,27.0,21.0,21.0,38.0,30.0,49.0,43.0,41.0,38.0,28.0,43.0,25.0,38.0,41.0,28.0,25.0,41.0,39.0,21.0,27.0,33.0,29.0,49.0,49.0,20.0,39.0,40.0,49.0,21.0,50.0,20.0,49.0,38.0,35.0,40.0,28.0,25.0,36.0,43.0,32.0,46.0,48.0,43.0,49.0,24.0,26.0,30.0,24.0,55.0,22.0,49.0,44.0,66.0,21.0,34.0,43.0,46.0,33.0,42.0,34.0,47.0,33.0,24.0,26.0,30.0,43.0,25.0,27.0,27.0,24.0,34.0,46.0,27.0,33.0,47.0,49.0,40.0,37.0,47.0,45.0,37.0,48.0,31.0,46.0,47.0,28.0,40.0,20.0,39.0,25.0,29.0,22.0,22.0,47.0,45.0,29.0,24.0,35.0,46.0,44.0,34.0,35.0,25.0,10.0,29.0,39.0,42.0,46.0,49.0,27.0,50.0,43.0,38.0,20.0,27.0,49.0,27.0,39.0,24.0,45.0,20.0,36.0,24.0,49.0,26.0,49.0,34.0,34.0,33.0,22.0,39.0,32.0,24.0,21.0,24.0,36.0,20.0,30.0,44.0,28.0,37.0,20.0,25.0,35.0,38.0,41.0,22.0,49.0,38.0,33.0,36.0,34.0,24.0,36.0,34.0,41.0,46.0,24.0,21.0,24.0,48.0,26.0,37.0,49.0,34.0,48.0,36.0,46.0,46.0,31.0,41.0,21.0,38.0,45.0,26.0,38.0,48.0,42.0,49.0,32.0,54.0,33.0,36.0,20.0,29.0,33.0,50.0,41.0,36.0,27.0,47.0,33.0,21.0,21.0,41.0,40.0,28.0,23.0,23.0,25.0,24.0,39.0,55.0,46.0,50.0,47.0,97.0,32.0,35.0,49.0,38.0,32.0,34.0,36.0,48.0,21.0,21.0,34.0,46.0,32.0,29.0,41.0,43.0,24.0,41.0,46.0,32.0,22.0,29.0,42.0,39.0,27.0,48.0,29.0,27.0,54.0,26.0,34.0,25.0,23.0,28.0,35.0,44.0,22.0,42.0,29.0,32.0,41.0,26.0,21.0,34.0,41.0,37.0,37.0,41.0,46.0,40.0,43.0,30.0,35.0,36.0,61.0,38.0,39.0,33.0,32.0,31.0,50.0,48.0,43.0,25.0,28.0,36.0,27.0,25.0,40.0,34.0,50.0,38.0,37.0,43.0,43.0,46.0,42.0,50.0,44.0,27.0,35.0,51.0,41.0,48.0,42.0,49.0,30.0,45.0,48.0,32.0,46.0,48.0,33.0,31.0,20.0,29.0,27.0,24.0,37.0,25.0,41.0,27.0,21.0,22.0,32.0,25.0,42.0,25.0,37.0,26.0,44.0,47.0,43.0,42.0,42.0,29.0,40.0,38.0,38.0,21.0,24.0,36.0,23.0,20.0,32.0,29.0,44.0,44.0,36.0,49.0,34.0,59.0,37.0,36.0,43.0,21.0,32.0,38.0,43.0,42.0,32.0,42.0,31.0,49.0,45.0,49.0,41.0,45.0,36.0,39.0,27.0,25.0,41.0,39.0,28.0,25.0,33.0,34.0,24.0,30.0,42.0,21.0,34.0,29.0,24.0,44.0,21.0,33.0,30.0,26.0,41.0,26.0,32.0,43.0,48.0,44.0,45.0,37.0,39.0,76.0,37.0,38.0,43.0,48.0,26.0,38.0,20.0,22.0,45.0,45.0,20.0,47.0,46.0,23.0,33.0,29.0,44.0,41.0,20.0,37.0,29.0,55.0,22.0,31.0,49.0,61.0,39.0,38.0,31.0,36.0,25.0,48.0,35.0,21.0,47.0,38.0,41.0,24.0,37.0,33.0,49.0,29.0,24.0,47.0,24.0,25.0,30.0,22.0,27.0,34.0,36.0,34.0,48.0,34.0,24.0,46.0,45.0,39.0,43.0,29.0,20.0,46.0,27.0,44.0,43.0,49.0,40.0,30.0,50.0,23.0,26.0,27.0,42.0,47.0,49.0,38.0,20.0,25.0,25.0,41.0,28.0,50.0,32.0,42.0,24.0,27.0,26.0,38.0,42.0,23.0,21.0,28.0,33.0,25.0,28.0,46.0,30.0,38.0,40.0,45.0,27.0,42.0,36.0,29.0,39.0,45.0,47.0,49.0,46.0,48.0,46.0,35.0,43.0,26.0,22.0,34.0,50.0,48.0,41.0,36.0,29.0,33.0,46.0,38.0,20.0,22.0,27.0,56.0,38.0,25.0,33.0,42.0,33.0,38.0,31.0,20.0,44.0,26.0,27.0,46.0,47.0,37.0,31.0,24.0,31.0,50.0,35.0,30.0,29.0,27.0,40.0,31.0,6.0,45.0,22.0,45.0,43.0,46.0,39.0,31.0,41.0,44.0,45.0,37.0,35.0,28.0,30.0,30.0,25.0,29.0,26.0,41.0,34.0,35.0,34.0,50.0,41.0,22.0,35.0,44.0,47.0,19.0,34.0,29.0,49.0,30.0,21.0,50.0,47.0,24.0,27.0,33.0,35.0,31.0,25.0,27.0,31.0,45.0,27.0,27.0,42.0,21.0,34.0,42.0,15.0,29.0,46.0,30.0,30.0,42.0,46.0,25.0,32.0,30.0,40.0,28.0,23.0,29.0,34.0,37.0,20.0,32.0,34.0,42.0,38.0,30.0,23.0,22.0,39.0,55.0,36.0,26.0,31.0,34.0,41.0,23.0,48.0,22.0,21.0,22.0,40.0,50.0,29.0,43.0,24.0,22.0,43.0,20.0,25.0,36.0,24.0,21.0,30.0,32.0,21.0,26.0,35.0,26.0,46.0,37.0,27.0,23.0,39.0,27.0,38.0,27.0,40.0,24.0,44.0,37.0,20.0,39.0,44.0,22.0,43.0,27.0,26.0,25.0,49.0,29.0,41.0,55.0,27.0,23.0,31.0,46.0,47.0,31.0,46.0,37.0,28.0,37.0,49.0,24.0,30.0,50.0,31.0,46.0,47.0,46.0,37.0,33.0,31.0,48.0,41.0,42.0,41.0,32.0,10.0,35.0,28.0,46.0,20.0,30.0,48.0,28.0,39.0,24.0,28.0,31.0,45.0,24.0,49.0,32.0,43.0,37.0,24.0,35.0,41.0,26.0,34.0,49.0,28.0,40.0,37.0,31.0,41.0,21.0,40.0,46.0,44.0,46.0,41.0,32.0,46.0,28.0,49.0,21.0,32.0,34.0,21.0,21.0,31.0,21.0,25.0,28.0,43.0,22.0,37.0,28.0,30.0,44.0,25.0,43.0,30.0,20.0,26.0,40.0,31.0,22.0,23.0,30.0,49.0,31.0,29.0,37.0,38.0,29.0,23.0,26.0,38.0,48.0,40.0,45.0,44.0,21.0,35.0,29.0,21.0,22.0,26.0,41.0,47.0,31.0,43.0,23.0,28.0,49.0,24.0,33.0,22.0,32.0,40.0,43.0,24.0,32.0,20.0,24.0,48.0,44.0,28.0,24.0,33.0,41.0,23.0,46.0,48.0,25.0,22.0,41.0,34.0,32.0,21.0,20.0,47.0,39.0,29.0,45.0,28.0,26.0,50.0,48.0,25.0,40.0,43.0,22.0,47.0,36.0,40.0,27.0,29.0,20.0,42.0,25.0,36.0,21.0,23.0,37.0,48.0,25.0,33.0,27.0,27.0,20.0,30.0,48.0,32.0,34.0,27.0,39.0,47.0,22.0,55.0,60.0,35.0,28.0,38.0,21.0,41.0,22.0,29.0,50.0,29.0,49.0,35.0,48.0,23.0,48.0,42.0,47.0,36.0,22.0,40.0,23.0,32.0,21.0,41.0,25.0,26.0,24.0,48.0,26.0,21.0,45.0,36.0,21.0,32.0,30.0,36.0,33.0,35.0,37.0,41.0,20.0,45.0,38.0,43.0,49.0,27.0,46.0,38.0,25.0,46.0,22.0,40.0,46.0,39.0,38.0,30.0,42.0,43.0,29.0,33.0,32.0,28.0,41.0,33.0,36.0,26.0,34.0,26.0,38.0,33.0,33.0,46.0,26.0,25.0,45.0,50.0,36.0,21.0,29.0,21.0,42.0,37.0,25.0,36.0,22.0,23.0,32.0,28.0,27.0,49.0,41.0,49.0,30.0,40.0,23.0,49.0,25.0,37.0,55.0,23.0,24.0,43.0,50.0,47.0,34.0,31.0,28.0,36.0,48.0,39.0,45.0,35.0,45.0,46.0,37.0,31.0,33.0,31.0,27.0,39.0,32.0,28.0,26.0,44.0,46.0,32.0,65.0,43.0,43.0,35.0,45.0,47.0,21.0,38.0,21.0,43.0,46.0,38.0,26.0,31.0,48.0,33.0,38.0,39.0,42.0,44.0,29.0,26.0,31.0,32.0,28.0,36.0,36.0,41.0,27.0,33.0,34.0,29.0,34.0,48.0,46.0,22.0,20.0,45.0,46.0,34.0,50.0,46.0,22.0,48.0,47.0,34.0,45.0,20.0,50.0,22.0,45.0,58.0,51.0,38.0,22.0,25.0,24.0,35.0,28.0,36.0,39.0,27.0,40.0,50.0,42.0,48.0,25.0,31.0,44.0,23.0,29.0,49.0,36.0,34.0,25.0,48.0,38.0,37.0,49.0,22.0,28.0,36.0,34.0,39.0,21.0,36.0,24.0,29.0,38.0,34.0,42.0,35.0,35.0,38.0,41.0,50.0,21.0,43.0,32.0,6.0,66.0,41.0,23.0,43.0,24.0,22.0,26.0,35.0,47.0,50.0,45.0,39.0,23.0,42.0,20.0,33.0,34.0,49.0,39.0,36.0,50.0,29.0,30.0,41.0,28.0,45.0,16.0,36.0,41.0,50.0,40.0,49.0,45.0,47.0,21.0,32.0,47.0,38.0,41.0,21.0,41.0,38.0,25.0,48.0,22.0,28.0,47.0,49.0,45.0,28.0,29.0,39.0,46.0,38.0,41.0,50.0,43.0,29.0,30.0,25.0,49.0,40.0,41.0,21.0,46.0,39.0,45.0,21.0,44.0,44.0,29.0,34.0,39.0,38.0,24.0,29.0,30.0,20.0,39.0,35.0,26.0,44.0,28.0,31.0,29.0,32.0,33.0,44.0,32.0,41.0,35.0,44.0,26.0,20.0,48.0,34.0,49.0,40.0,45.0,50.0,38.0,25.0,28.0,49.0,49.0,42.0,23.0,29.0,25.0,39.0,44.0,25.0,45.0,25.0,37.0,30.0,36.0,26.0,23.0,23.0,25.0,21.0,26.0,44.0,24.0,66.0,36.0,36.0,22.0,25.0,37.0,32.0,47.0,37.0,20.0,41.0,21.0,22.0,40.0,32.0,36.0,27.0,26.0,30.0,23.0,29.0,21.0,34.0,26.0,60.0,35.0,47.0,20.0,20.0,25.0,25.0,27.0,31.0,44.0,49.0,26.0,36.0,44.0,28.0,45.0,29.0,40.0,45.0,44.0,25.0,45.0,48.0,44.0,25.0,22.0,31.0,21.0,55.0,25.0,35.0,35.0,43.0,44.0,50.0,48.0,25.0,39.0,25.0,32.0,20.0,26.0,42.0,21.0,34.0,47.0,21.0,48.0,30.0,27.0,50.0,38.0,45.0,46.0,35.0,29.0,50.0,26.0,47.0,23.0,34.0,34.0,47.0,45.0,45.0,36.0,21.0,28.0,35.0,50.0,22.0,45.0,48.0,20.0,27.0,38.0,32.0,64.0,37.0,28.0,39.0,41.0,40.0,49.0,27.0,34.0,23.0,31.0,34.0,25.0,22.0,32.0,31.0,25.0,47.0,21.0,28.0,46.0,33.0,43.0,38.0,47.0,45.0,20.0,45.0,36.0,37.0,31.0,39.0,26.0,32.0,20.0,42.0,33.0,20.0,29.0,23.0,39.0,20.0,45.0,20.0,48.0,23.0,32.0,33.0,61.0,45.0,38.0,34.0,43.0,47.0,22.0,29.0,28.0,40.0,25.0,30.0,38.0,36.0,32.0,37.0,30.0,39.0,32.0,47.0,26.0,37.0,55.0,21.0,23.0,49.0,59.0,32.0,43.0,41.0,45.0,33.0,40.0,33.0,50.0,30.0,41.0,35.0,49.0,46.0,48.0,36.0,22.0,42.0,21.0,29.0,35.0,41.0,29.0,34.0,37.0,28.0,49.0,23.0,46.0,39.0,22.0,49.0,43.0,27.0,31.0,20.0,24.0,49.0,24.0,39.0,37.0,45.0,45.0,44.0,23.0,30.0,26.0,43.0,26.0,28.0,27.0,24.0,40.0,36.0,21.0,27.0,47.0,42.0,32.0,28.0,24.0,49.0,46.0,28.0,48.0,29.0,47.0,43.0,25.0,48.0,24.0,42.0,31.0,42.0,37.0,41.0,20.0,20.0,70.0,49.0,35.0,32.0,29.0,27.0,27.0,38.0,35.0,42.0,21.0,37.0,26.0,47.0,37.0,46.0,38.0,33.0,24.0,31.0,42.0,32.0,41.0,43.0,20.0,35.0,27.0,43.0,32.0,21.0,20.0,22.0,36.0,46.0,47.0,45.0,47.0,47.0,38.0,49.0,35.0,49.0,28.0,30.0,39.0,25.0,40.0,36.0,76.0,39.0,44.0,24.0,39.0,21.0,30.0,27.0,37.0,42.0,32.0,42.0,21.0,33.0,49.0,31.0,38.0,20.0,39.0,48.0,39.0,30.0,33.0,36.0,36.0,45.0,40.0,46.0,30.0,31.0,49.0,41.0,35.0,27.0,23.0,21.0,34.0,22.0,48.0,43.0,32.0,20.0,24.0,40.0,30.0,21.0,25.0,34.0,48.0,55.0,25.0,38.0,39.0,28.0,24.0,21.0,46.0,25.0,34.0,25.0,23.0,20.0,23.0,42.0,27.0,33.0,28.0,43.0,48.0,48.0,45.0,43.0,44.0,24.0,31.0,44.0,59.0,55.0,29.0,39.0,20.0,25.0,42.0,36.0,37.0,30.0,21.0,34.0,42.0,20.0,40.0,34.0,31.0,36.0,48.0,33.0,37.0,27.0,39.0,36.0,36.0,41.0,37.0,47.0,15.0,44.0,35.0,41.0,49.0,31.0,20.0,45.0,33.0,47.0,20.0,47.0,40.0,30.0,22.0,27.0,34.0,46.0,31.0,24.0,41.0,55.0,30.0,33.0,43.0,27.0,60.0,27.0,49.0,31.0,20.0,24.0,33.0,32.0,40.0,27.0,40.0,26.0,44.0,33.0,34.0,48.0,25.0,39.0,45.0,24.0,46.0,44.0,13.0,35.0,30.0,34.0,27.0,30.0,50.0,34.0,23.0,48.0,34.0,48.0,24.0,47.0,24.0,47.0,20.0,20.0,31.0,38.0,26.0,25.0,48.0,44.0,21.0,46.0,46.0,55.0,31.0,20.0,29.0,33.0,34.0,32.0,27.0,21.0,27.0,36.0,43.0,25.0,46.0,24.0,39.0,31.0,22.0,47.0,20.0,29.0,38.0,34.0,46.0,35.0,34.0,38.0,18.0,37.0,43.0,27.0,30.0,22.0,49.0,46.0,48.0,46.0,48.0,27.0,43.0,48.0,41.0,22.0,46.0,21.0,31.0,26.0,20.0,34.0,43.0,26.0,50.0,35.0,50.0,23.0,37.0,29.0,21.0,36.0,22.0,22.0,46.0,23.0,49.0,48.0,33.0,22.0,22.0,25.0,20.0,42.0,25.0,23.0,37.0,37.0,42.0,51.0,40.0,43.0,47.0,23.0,35.0,34.0,25.0,45.0,47.0,49.0,40.0,29.0,39.0,24.0,25.0,36.0,50.0,45.0,26.0,21.0,42.0,32.0,31.0,33.0,45.0,76.0,70.0,50.0,28.0,50.0,28.0,44.0,27.0,30.0,43.0,29.0,48.0,33.0,40.0,48.0,41.0,21.0,32.0,43.0,30.0,35.0,45.0,34.0,26.0,39.0,41.0,41.0,64.0,18.0,49.0,48.0,46.0,26.0,37.0,35.0,23.0,22.0,39.0,44.0,27.0,46.0,33.0,33.0,24.0,31.0,41.0,22.0,46.0,43.0,15.0,15.0,26.0,44.0,20.0,40.0,23.0,24.0,29.0,49.0,34.0,28.0,37.0,45.0,46.0,22.0,39.0,27.0,36.0,38.0,44.0,31.0,23.0,22.0,28.0,21.0,37.0,31.0,25.0,26.0,34.0,29.0,20.0,42.0,22.0,47.0,20.0,33.0,39.0,33.0,40.0,46.0,48.0,21.0,45.0,33.0,44.0,33.0,39.0,39.0,41.0,40.0,33.0,28.0,26.0,29.0,46.0,33.0,48.0,40.0,23.0,40.0,37.0,24.0,27.0,21.0,23.0,44.0,35.0,43.0,40.0,35.0,25.0,43.0,50.0,45.0,52.0,48.0,31.0,29.0,23.0,31.0,23.0,24.0,28.0,44.0,22.0,46.0,22.0,38.0,47.0,48.0,40.0,32.0,49.0,43.0,41.0,30.0,28.0,43.0,41.0,30.0,31.0,32.0,43.0,26.0,27.0,24.0,22.0,46.0,37.0,49.0,21.0,25.0,37.0,45.0,32.0,29.0,26.0,28.0,27.0,20.0,44.0,42.0,41.0,26.0,26.0,26.0,41.0,20.0,22.0,23.0,33.0,28.0,44.0,46.0,21.0,41.0,31.0,31.0,23.0,37.0,26.0,24.0,47.0,45.0,55.0,46.0,50.0,37.0,44.0,49.0,45.0,27.0,31.0,33.0,31.0,35.0,26.0,34.0,46.0,41.0,43.0,26.0,36.0,20.0,27.0,37.0,24.0,36.0,29.0,28.0,29.0,38.0,48.0,40.0,41.0,30.0,35.0,28.0,45.0,24.0,41.0,48.0,50.0,33.0,32.0,27.0,35.0,23.0,35.0,40.0,35.0,31.0,50.0,40.0,38.0,38.0,40.0,33.0,36.0,20.0,32.0,36.0,19.0,11.0,49.0,27.0,29.0,42.0,33.0,44.0,22.0,48.0,33.0,45.0,20.0,46.0,40.0,45.0,36.0,31.0,46.0,35.0,28.0,31.0,27.0,22.0,30.0,44.0,30.0,24.0,45.0,23.0,26.0,28.0,49.0,49.0,29.0,49.0,39.0,36.0,39.0,30.0,44.0,20.0,21.0,36.0,32.0,36.0,34.0,48.0,33.0,31.0,36.0,25.0,48.0,27.0,44.0,33.0,29.0,49.0,20.0,31.0,39.0,20.0,34.0,50.0,40.0,28.0,50.0,28.0,46.0,24.0,24.0,39.0,40.0,49.0,44.0,35.0,22.0,62.0,26.0,31.0,25.0,30.0,27.0,23.0,34.0,22.0,42.0,37.0,30.0,27.0,25.0,34.0,38.0,26.0,38.0,50.0,22.0,32.0,31.0,40.0,22.0,41.0,45.0,45.0,39.0,49.0,27.0,34.0,20.0,48.0,29.0,43.0,41.0,41.0,36.0,49.0,38.0,33.0,26.0,47.0,34.0,34.0,40.0,40.0,33.0,49.0,27.0,49.0,56.0,37.0,33.0,27.0,46.0,44.0,26.0,48.0,23.0,45.0,49.0,28.0,37.0,34.0,22.0,29.0,34.0,38.0,41.0,42.0,28.0,38.0,23.0,31.0,46.0,48.0,29.0,46.0,26.0,18.0,32.0,21.0,46.0,42.0,31.0,38.0,38.0,20.0,46.0,30.0,30.0,43.0,49.0,43.0,37.0,35.0,34.0,38.0,44.0,21.0,44.0,25.0,24.0,38.0,45.0,51.0,34.0,44.0,44.0,38.0,31.0,48.0,21.0,40.0,40.0,50.0,20.0,48.0,47.0,21.0,39.0,44.0,28.0,45.0,20.0,38.0,26.0,44.0,49.0,22.0,31.0,41.0,25.0,31.0,41.0,43.0,43.0,24.0,21.0,23.0,38.0,31.0,36.0,36.0,34.0,21.0,45.0,26.0,50.0,41.0,39.0,22.0,46.0,44.0,25.0,39.0,37.0,31.0,47.0,24.0,36.0,48.0,28.0,48.0,21.0,25.0,25.0,31.0,40.0,32.0,24.0,42.0,21.0,34.0,27.0,30.0,39.0,20.0,37.0,46.0,47.0,11.0,23.0,29.0,38.0,32.0,43.0,31.0,29.0,31.0,30.0,50.0,40.0,23.0,26.0,40.0,21.0,43.0,29.0,38.0,23.0,20.0,36.0,28.0,44.0,49.0,32.0,34.0,30.0,29.0,22.0,26.0,32.0,29.0,34.0,24.0,24.0,33.0,26.0,40.0,44.0,24.0,20.0,34.0,34.0,45.0,41.0,55.0,23.0,24.0,32.0,29.0,36.0,46.0,32.0,34.0,24.0,40.0,26.0,20.0,31.0,22.0,42.0,26.0,37.0,38.0,35.0,33.0,39.0,45.0,24.0,35.0,23.0,37.0,55.0,49.0,26.0,33.0,37.0,22.0,85.0,22.0,31.0,38.0,45.0,31.0,36.0,46.0,32.0,39.0,50.0,46.0,36.0,29.0,32.0,44.0,42.0,47.0,44.0,43.0,48.0,21.0,50.0,29.0,41.0,37.0,22.0,31.0,42.0,42.0,45.0,36.0,20.0,39.0,42.0,23.0,26.0,33.0,31.0,50.0,44.0,45.0,46.0,27.0,28.0,40.0,30.0,34.0,46.0,32.0,27.0,34.0,34.0,34.0,46.0,32.0,24.0,27.0,20.0,36.0,29.0,25.0,29.0,25.0,44.0,47.0,48.0,45.0,35.0,31.0,50.0,33.0,29.0,48.0,44.0,25.0,50.0,23.0,21.0,41.0,44.0,43.0,28.0,43.0,48.0,38.0,31.0,26.0,32.0,44.0,27.0,43.0,25.0,22.0,21.0,48.0,33.0,34.0,43.0,44.0,44.0,32.0,29.0,77.0,39.0,39.0,36.0,42.0,21.0,50.0,24.0,44.0,37.0,27.0,37.0,38.0,48.0,30.0,25.0,40.0,22.0,34.0,32.0,31.0,43.0,31.0,31.0,34.0,45.0,48.0,28.0,22.0,45.0,30.0,38.0,20.0,28.0,24.0,22.0,35.0,33.0,31.0,35.0,35.0,50.0,26.0,38.0,45.0,30.0,37.0,37.0,36.0,25.0,37.0,30.0,36.0,27.0,48.0,26.0,26.0,34.0,44.0,39.0,45.0,40.0,42.0,43.0,34.0,38.0,35.0,31.0,32.0,47.0,39.0,44.0,39.0,50.0,22.0,35.0,45.0,44.0,36.0,28.0,43.0,48.0,28.0,21.0,37.0,34.0,40.0,45.0,28.0,29.0,48.0,31.0,32.0,21.0,32.0,43.0,21.0,34.0,34.0,44.0,27.0,49.0,23.0,25.0,50.0,34.0,20.0,42.0,25.0,50.0,32.0,39.0,50.0,38.0,40.0,28.0,42.0,42.0,36.0,24.0,23.0,29.0,37.0,33.0,32.0,35.0,40.0,37.0,42.0,20.0,29.0,43.0,34.0,47.0],\"z\":[95.7,81.35,94.74,83.26,100.0,96.66,86.13,100.0,98.57,100.0,100.0,100.0,100.0,100.0,92.83,100.0,100.0,100.0,94.74,100.0,100.0,72.55,34.91,76.36,100.0,100.0,100.0,100.0,100.0,100.0,100.0,100.0,100.0,100.0,100.0,100.0,100.0,100.0,100.0,100.0,100.0,100.0,100.0,100.0,100.0,100.0,100.0,100.0,100.0,100.0,100.0,100.0,100.0,100.0,99.91,96.34,100.0,100.0,100.0,100.0,100.0,96.34,100.0,100.0,100.0,100.0,100.0,100.0,100.0,100.0,96.34,100.0,100.0,100.0,68.92,51.15,100.0,44.51,100.0,100.0,100.0,100.0,100.0,100.0,100.0,100.0,100.0,100.0,100.0,100.0,100.0,100.0,100.0,100.0,100.0,100.0,100.0,100.0,100.0,100.0,76.67,100.0,100.0,86.77,100.0,100.0,100.0,100.0,100.0,100.0,100.0,100.0,100.0,100.0,100.0,100.0,100.0,100.0,100.0,100.0,100.0,100.0,100.0,100.0,64.93,48.05,75.47,54.68,100.0,100.0,100.0,100.0,100.0,100.0,100.0,100.0,100.0,100.0,100.0,100.0,100.0,100.0,100.0,100.0,100.0,100.0,100.0,100.0,100.0,100.0,100.0,100.0,61.99,100.0,100.0,100.0,65.63,100.0,46.9,100.0,100.0,100.0,100.0,100.0,100.0,100.0,100.0,100.0,100.0,100.0,100.0,100.0,100.0,100.0,100.0,100.0,100.0,100.0,100.0,100.0,71.47,79.65,85.39,76.0,99.04,100.0,100.0,100.0,100.0,100.0,100.0,100.0,100.0,100.0,100.0,100.0,100.0,100.0,100.0,100.0,100.0,100.0,100.0,100.0,64.0,57.22,52.36,100.0,100.0,100.0,69.12,100.0,100.0,100.0,100.0,100.0,100.0,100.0,100.0,100.0,100.0,100.0,100.0,100.0,100.0,100.0,100.0,100.0,100.0,100.0,100.0,100.0,99.21,100.0,100.0,100.0,100.0,63.2,100.0,100.0,100.0,100.0,100.0,100.0,100.0,100.0,100.0,100.0,100.0,100.0,100.0,100.0,100.0,100.0,100.0,100.0,100.0,100.0,100.0,100.0,100.0,100.0,78.92,100.0,100.0,100.0,100.0,100.0,100.0,100.0,100.0,100.0,100.0,100.0,100.0,100.0,100.0,100.0,100.0,100.0,100.0,100.0,100.0,100.0,54.33,100.0,100.0,55.34,100.0,100.0,100.0,100.0,99.82,100.0,100.0,100.0,100.0,100.0,100.0,100.0,100.0,99.82,100.0,100.0,100.0,100.0,100.0,100.0,100.0,100.0,83.63,95.93,96.73,100.0,72.38,100.0,100.0,100.0,100.0,100.0,100.0,100.0,100.0,100.0,100.0,100.0,100.0,100.0,100.0,100.0,100.0,100.0,100.0,100.0,100.0,63.38,100.0,62.09,100.0,95.35,100.0,100.0,89.38,63.84,75.01,63.84,73.42,63.84,81.4,64.64,82.99,92.57,77.41,74.21,90.17,76.61,83.79,69.43,76.61,81.4,73.42,100.0,93.56,81.62,67.83,70.26,90.17,100.0,100.0,100.0,100.0,100.0,100.0,100.0,100.0,100.0,99.54,100.0,100.0,100.0,100.0,97.17,100.0,100.0,100.0,100.0,58.38,100.0,100.0,64.16,35.71,66.58,100.0,100.0,100.0,100.0,97.89,97.89,100.0,100.0,100.0,100.0,100.0,100.0,100.0,93.28,100.0,100.0,100.0,100.0,100.0,100.0,100.0,64.74,75.2,88.45,100.0,100.0,93.28,100.0,100.0,100.0,100.0,100.0,100.0,99.17,93.34,96.84,93.34,100.0,100.0,100.0,100.0,100.0,96.84,100.0,100.0,98.0,100.0,100.0,40.25,49.6,98.0,100.0,98.0,85.1,100.0,100.0,100.0,100.0,100.0,100.0,100.0,100.0,100.0,100.0,100.0,100.0,100.0,100.0,100.0,100.0,100.0,100.0,100.0,100.0,100.0,100.0,100.0,97.6,87.06,100.0,93.77,100.0,100.0,100.0,99.66,100.0,100.0,100.0,91.44,100.0,87.33,100.0,100.0,89.38,100.0,100.0,95.55,100.0,100.0,95.55,89.38,86.3,95.13,36.11,50.18,100.0,93.16,100.0,95.55,50.14,49.06,54.99,43.13,58.22,51.21,44.21,54.45,53.37,63.61,43.13,48.52,58.22,51.75,57.68,56.07,48.52,44.21,57.68,89.89,58.95,72.41,98.63,52.83,100.0,51.75,100.0,100.0,99.55,100.0,100.0,100.0,100.0,100.0,100.0,100.0,100.0,100.0,100.0,100.0,100.0,100.0,100.0,100.0,100.0,100.0,100.0,56.3,42.64,100.0,100.0,100.0,100.0,100.0,100.0,100.0,100.0,100.0,100.0,100.0,100.0,100.0,100.0,100.0,100.0,100.0,100.0,100.0,100.0,100.0,100.0,99.52,57.55,54.57,100.0,100.0,100.0,100.0,100.0,100.0,100.0,100.0,100.0,100.0,100.0,100.0,100.0,100.0,100.0,100.0,100.0,100.0,100.0,74.04,100.0,100.0,100.0,100.0,100.0,82.39,72.38,79.31,82.39,88.55,63.14,73.92,90.86,85.47,66.99,64.68,73.92,83.93,74.69,90.86,82.39,92.4,91.63,78.54,100.0,65.45,100.0,67.76,79.22,73.92,83.93,100.0,100.0,100.0,100.0,100.0,100.0,100.0,100.0,100.0,100.0,100.0,100.0,100.0,100.0,100.0,100.0,100.0,100.0,100.0,32.47,100.0,64.69,100.0,100.0,43.05,100.0,100.0,100.0,100.0,100.0,100.0,100.0,100.0,100.0,100.0,100.0,100.0,100.0,100.0,100.0,100.0,100.0,100.0,100.0,100.0,100.0,100.0,100.0,100.0,100.0,100.0,88.0,100.0,100.0,67.8,50.25,53.88,62.36,69.62,57.51,61.15,59.33,71.44,62.96,50.85,72.65,62.96,61.75,49.04,61.15,84.25,56.91,100.0,49.3,72.65,63.57,100.0,100.0,100.0,100.0,100.0,100.0,100.0,100.0,100.0,100.0,100.0,98.18,99.41,100.0,100.0,100.0,100.0,100.0,37.48,100.0,100.0,36.42,100.0,100.0,98.18,99.41,100.0,100.0,100.0,100.0,100.0,100.0,100.0,100.0,100.0,100.0,100.0,100.0,100.0,100.0,100.0,100.0,100.0,64.69,100.0,100.0,100.0,100.0,98.99,100.0,100.0,54.09,68.67,65.02,61.99,69.28,71.1,69.28,60.16,70.49,69.89,61.38,59.55,61.99,49.22,69.28,57.73,57.73,53.48,52.87,61.21,61.38,100.0,61.99,96.86,48.62,38.5,61.99,49.22,90.39,71.81,69.27,85.32,70.96,76.88,100.0,76.03,98.84,86.17,90.39,71.81,82.79,82.79,100.0,100.0,100.0,100.0,69.27,74.77,76.88,76.03,98.84,70.87,58.15,61.78,49.67,51.48,61.18,64.2,65.42,64.81,49.67,60.57,55.72,61.18,58.75,63.6,49.06,48.46,52.09,52.7,100.0,62.16,49.67,53.3,100.0,55.72,61.18,100.0,100.0,100.0,100.0,100.0,100.0,100.0,100.0,100.0,100.0,100.0,100.0,100.0,100.0,100.0,100.0,100.0,100.0,100.0,52.67,100.0,100.0,94.79,47.18,78.11,100.0,100.0,100.0,100.0,100.0,100.0,100.0,100.0,100.0,100.0,100.0,100.0,100.0,100.0,100.0,100.0,100.0,100.0,100.0,100.0,64.9,52.32,100.0,100.0,100.0,100.0,83.07,100.0,90.17,100.0,91.18,100.0,100.0,89.15,93.21,90.17,100.0,100.0,100.0,88.14,96.24,100.0,100.0,100.0,100.0,100.0,90.17,100.0,87.13,100.0,100.0,45.25,88.14,57.46,64.33,73.7,71.2,49.97,69.96,53.72,68.08,51.84,67.46,58.71,63.71,58.09,53.72,63.08,68.71,50.59,64.96,53.72,29.87,100.0,64.96,70.58,44.21,68.08,59.96,53.72,83.44,89.46,96.34,74.84,79.14,73.12,81.72,89.46,87.74,100.0,94.62,73.98,84.3,98.06,98.06,96.34,83.44,94.62,45.86,82.58,64.97,86.74,93.01,72.26,74.84,73.98,100.0,100.0,97.39,90.06,100.0,100.0,89.01,100.0,100.0,100.0,100.0,100.0,100.0,84.82,100.0,100.0,100.0,85.87,100.0,47.04,39.8,100.0,100.0,94.22,100.0,86.92,84.82,100.0,100.0,100.0,100.0,100.0,100.0,100.0,100.0,100.0,100.0,100.0,100.0,100.0,100.0,100.0,100.0,100.0,100.0,69.12,100.0,100.0,100.0,61.52,100.0,100.0,100.0,100.0,100.0,100.0,100.0,100.0,100.0,100.0,100.0,100.0,100.0,100.0,100.0,100.0,100.0,100.0,100.0,100.0,100.0,100.0,100.0,100.0,100.0,100.0,100.0,100.0,100.0,100.0,100.0,100.0,100.0,100.0,100.0,100.0,100.0,100.0,100.0,100.0,100.0,100.0,100.0,100.0,93.49,100.0,56.85,100.0,100.0,100.0,100.0,100.0,100.0,100.0,100.0,95.8,100.0,97.81,88.74,100.0,100.0,80.67,100.0,100.0,80.67,95.8,100.0,100.0,100.0,100.0,91.76,100.0,100.0,100.0,93.04,84.71,100.0,89.75,100.0,68.35,73.17,78.0,86.04,81.21,70.76,82.82,94.88,86.04,78.0,95.69,73.17,76.39,86.84,69.96,70.76,78.8,80.41,73.98,59.1,66.74,60.3,100.0,100.0,100.0,100.0,82.34,100.0,94.25,100.0,95.24,86.31,79.37,87.3,100.0,100.0,84.33,89.29,100.0,96.23,100.0,100.0,91.27,100.0,100.0,100.0,73.08,100.0,100.0,89.29,100.0,100.0,100.0,100.0,100.0,100.0,100.0,100.0,100.0,100.0,100.0,100.0,100.0,100.0,100.0,100.0,100.0,100.0,100.0,100.0,100.0,100.0,100.0,96.49,100.0,100.0,100.0,100.0,100.0,100.0,100.0,100.0,100.0,100.0,100.0,100.0,100.0,100.0,100.0,100.0,100.0,100.0,100.0,100.0,67.91,84.88,100.0,70.83,100.0,100.0,67.77,49.74,50.36,67.14,64.66,68.39,50.36,72.74,54.09,58.44,52.22,52.84,54.71,50.36,57.2,55.95,67.14,59.06,69.63,55.95,53.47,89.12,100.0,100.0,52.22,100.0,99.52,100.0,100.0,100.0,100.0,100.0,100.0,100.0,100.0,85.75,100.0,100.0,85.75,100.0,84.7,86.81,86.81,100.0,100.0,100.0,60.49,57.55,100.0,100.0,100.0,100.0,100.0,100.0,100.0,100.0,100.0,100.0,100.0,100.0,100.0,100.0,100.0,100.0,100.0,100.0,100.0,100.0,100.0,100.0,100.0,100.0,100.0,100.0,100.0,100.0,100.0,86.51,89.27,85.59,100.0,100.0,75.46,100.0,97.55,85.59,94.79,100.0,90.19,100.0,80.99,89.27,81.91,100.0,100.0,62.72,100.0,90.19,92.95,82.5,97.42,92.16,70.22,83.38,73.73,74.6,77.24,100.0,87.77,89.53,89.53,75.48,89.53,71.09,100.0,100.0,90.4,100.0,86.01,100.0,100.0,86.89,58.58,100.0,75.48,100.0,100.0,100.0,100.0,100.0,100.0,100.0,100.0,100.0,100.0,100.0,100.0,100.0,100.0,100.0,99.29,100.0,99.29,100.0,100.0,100.0,100.0,100.0,57.53,100.0,100.0,100.0,47.29,49.81,53.83,43.27,42.76,53.83,44.78,49.3,44.78,53.33,45.28,40.25,59.87,59.87,58.36,59.87,51.82,49.3,56.85,100.0,79.86,100.0,100.0,100.0,100.0,59.87,59.87,100.0,100.0,100.0,100.0,100.0,100.0,100.0,100.0,100.0,100.0,100.0,100.0,100.0,100.0,100.0,100.0,100.0,100.0,100.0,100.0,100.0,58.18,67.14,100.0,61.29,57.73,81.25,80.54,71.98,69.84,76.26,76.26,83.39,57.73,66.99,75.55,60.58,73.41,72.7,66.99,100.0,63.43,85.25,100.0,66.99,57.73,85.25,77.9,60.26,72.76,75.69,74.22,69.82,62.47,82.31,60.26,76.43,80.1,74.96,66.14,72.02,87.45,70.55,56.84,59.53,60.37,100.0,76.43,64.67,55.49,69.36,60.69,54.33,65.31,69.36,68.78,60.11,66.47,46.82,56.07,54.33,52.6,46.82,64.74,46.82,53.75,61.85,53.18,69.16,100.0,47.4,60.76,97.27,91.76,50.29,52.6,46.82,100.0,98.05,93.54,95.8,100.0,100.0,100.0,100.0,100.0,90.16,91.29,100.0,100.0,100.0,100.0,100.0,100.0,100.0,100.0,87.78,84.39,96.92,100.0,100.0,100.0,100.0,59.37,59.87,49.81,56.85,53.33,42.76,53.83,53.83,49.81,53.33,43.27,40.25,48.3,45.28,52.32,51.32,49.3,42.26,87.96,36.21,38.5,100.0,40.25,60.37,88.63,100.0,94.1,87.54,100.0,98.48,100.0,96.29,88.63,97.38,95.2,100.0,100.0,100.0,100.0,87.54,50.65,71.73,94.1,41.71,100.0,96.29,88.63,31.2,35.51,37.84,33.19,27.22,31.53,36.84,29.21,37.17,34.19,29.21,29.54,28.88,38.17,30.2,29.54,100.0,81.91,35.18,100.0,36.29,70.56,100.0,29.54,26.88,83.03,83.79,83.03,83.03,67.03,75.41,68.55,91.4,73.88,61.7,69.31,87.6,87.6,62.46,79.98,70.08,65.51,63.22,86.83,94.43,79.98,100.0,100.0,81.4,87.6,87.6,100.0,100.0,100.0,100.0,100.0,100.0,100.0,100.0,100.0,100.0,100.0,100.0,100.0,100.0,100.0,100.0,100.0,100.0,100.0,100.0,71.97,50.33,100.0,80.54,100.0,100.0,53.76,44.35,45.25,49.28,36.29,41.22,36.74,50.62,38.08,47.94,48.38,45.25,45.7,47.49,48.38,39.42,37.63,100.0,85.52,53.76,31.86,30.59,68.35,100.0,45.7,100.0,100.0,100.0,100.0,100.0,100.0,100.0,100.0,100.0,100.0,100.0,100.0,100.0,100.0,100.0,100.0,100.0,100.0,100.0,100.0,100.0,100.0,100.0,100.0,100.0,100.0,100.0,58.87,76.88,61.64,60.95,80.34,74.11,72.03,76.19,63.72,80.34,79.65,65.8,65.1,75.49,59.56,66.49,56.1,81.73,81.03,100.0,70.65,61.23,100.0,65.13,79.65,78.15,72.7,73.6,100.0,74.51,73.6,83.6,96.32,88.14,88.14,94.5,87.24,79.97,80.87,100.0,93.6,72.7,86.72,100.0,100.0,37.5,94.5,100.0,39.6,30.06,38.19,42.43,40.31,31.82,31.12,31.82,28.29,29.7,40.31,32.88,36.07,33.24,41.72,40.66,30.06,31.47,37.13,100.0,37.13,37.13,82.94,100.0,100.0,38.9,36.07,33.24,74.68,59.6,67.14,60.97,72.62,69.88,80.84,69.2,67.82,82.21,81.53,67.82,67.14,65.08,73.99,71.25,75.36,63.71,58.92,100.0,74.68,70.44,55.96,57.55,61.66,67.82,100.0,93.95,100.0,100.0,100.0,100.0,100.0,100.0,100.0,100.0,98.65,100.0,100.0,100.0,100.0,100.0,42.26,87.24,100.0,36.29,98.65,96.3,32.1,30.96,35.87,42.67,37.0,35.49,42.67,30.59,37.0,43.42,36.63,44.56,42.67,40.4,38.89,39.65,34.36,41.91,33.23,42.24,40.4,38.52,100.0,100.0,100.0,44.56,42.67,72.58,87.62,94.71,98.25,91.17,79.66,72.58,74.35,83.2,89.4,70.81,94.71,100.0,91.17,100.0,92.94,84.97,84.08,86.74,85.85,100.0,100.0,57.32,97.87,83.2,100.0,73.62,83.04,73.62,77.05,81.33,94.17,72.77,79.62,79.62,79.62,81.33,96.74,71.06,68.49,74.48,83.04,84.75,34.19,100.0,79.62,79.06,81.33,96.74,63.07,50.21,66.13,68.58,69.8,50.21,65.52,60.01,64.9,48.98,50.21,62.45,52.66,62.45,61.23,67.97,58.78,56.94,61.23,100.0,62.45,62.45,100.0,41.54,52.84,52.66,52.6,72.98,59.18,77.59,55.89,63.12,73.64,69.04,71.67,77.59,70.35,69.7,70.35,72.33,71.67,53.92,71.67,76.93,72.98,99.69,68.38,100.0,66.0,63.76,71.67,57.2,69.7,100.0,100.0,100.0,100.0,98.51,100.0,100.0,91.02,87.81,92.09,86.73,100.0,100.0,100.0,96.37,92.09,89.95,37.18,95.88,99.58,100.0,86.73,100.0,79.67,90.57,77.99,80.51,67.93,83.86,72.12,85.54,86.38,89.73,80.51,76.31,87.21,83.02,72.96,77.15,91.41,92.25,92.25,59.36,60.34,100.0,85.54,90.57,72.96,76.31,100.0,100.0,100.0,100.0,100.0,100.0,100.0,100.0,100.0,100.0,100.0,100.0,100.0,100.0,100.0,100.0,100.0,100.0,100.0,100.0,100.0,100.0,94.58,53.27,100.0,100.0,100.0,64.83,70.29,81.89,66.19,77.11,73.02,72.33,66.19,69.6,56.64,60.05,75.06,61.42,81.89,55.96,71.65,76.43,77.79,76.43,96.92,59.37,100.0,73.0,73.32,68.24,60.05,75.06,34.47,34.47,33.23,38.98,38.98,33.23,42.26,41.03,33.23,34.88,43.9,36.93,41.85,40.62,40.21,35.29,77.24,97.44,37.34,95.03,36.93,43.49,100.0,100.0,96.99,94.62,100.0,99.36,100.0,100.0,100.0,100.0,100.0,100.0,100.0,100.0,100.0,100.0,100.0,100.0,100.0,100.0,100.0,100.0,50.32,93.91,100.0,100.0,100.0,86.68,100.0,100.0,90.57,91.55,100.0,100.0,100.0,97.39,90.57,100.0,86.68,78.89,97.39,78.89,100.0,100.0,100.0,100.0,100.0,50.31,100.0,86.92,100.0,78.89,63.76,85.49,77.52,84.77,78.25,71.0,74.62,81.14,74.62,75.35,62.31,71.0,72.45,83.32,83.32,60.86,84.77,89.9,62.46,100.0,63.34,78.25,81.14,74.62,68.71,71.14,87.31,64.67,67.1,94.58,71.14,66.29,92.16,70.33,93.77,87.31,83.27,75.18,88.12,80.84,97.01,85.69,100.0,100.0,95.39,100.0,100.0,82.42,100.0,100.0,96.31,100.0,100.0,100.0,100.0,100.0,97.27,80.9,100.0,100.0,100.0,86.68,85.72,82.83,83.79,100.0,87.64,98.18,100.0,100.0,100.0,100.0,100.0,100.0,86.68,92.9,100.0,100.0,93.9,100.0,98.89,79.91,100.0,100.0,100.0,79.91,81.91,98.89,100.0,79.91,100.0,63.91,100.0,81.17,100.0,100.0,94.9,100.0,100.0,43.45,44.66,40.23,35.8,35.4,39.83,45.46,32.99,42.24,39.43,40.23,48.28,32.59,36.61,41.03,42.24,43.05,38.22,100.0,100.0,39.83,48.28,82.46,44.56,40.23,47.62,55.73,51.95,45.99,63.85,45.99,63.31,62.77,43.29,60.06,55.19,54.11,48.7,43.83,47.62,55.19,46.53,57.9,45.45,100.0,60.6,46.53,100.0,66.47,53.18,62.77,48.7,43.83,65.87,63.38,70.84,74.57,50.95,53.44,64.0,50.95,54.68,56.55,52.82,60.9,49.71,64.63,59.65,67.73,50.33,66.49,100.0,84.71,100.0,100.0,99.55,36.07,60.28,49.71,75.63,68.52,62.7,60.76,58.18,54.94,74.98,64.64,54.94,58.82,62.05,73.04,69.16,61.41,63.35,77.57,71.75,73.04,56.24,100.0,73.69,100.0,100.0,100.0,100.0,69.16,61.41,72.92,72.23,57.1,81.86,73.61,59.16,66.04,77.73,61.22,79.11,63.97,81.86,79.8,66.04,59.16,81.17,59.16,44.51,72.33,82.26,100.0,67.41,77.73,61.22,100.0,86.74,89.8,100.0,100.0,100.0,100.0,85.72,100.0,100.0,100.0,100.0,97.97,100.0,100.0,100.0,84.7,100.0,100.0,71.02,100.0,100.0,100.0,48.98,100.0,40.15,50.62,50.19,36.66,41.02,51.93,38.4,41.02,46.26,35.35,51.93,37.97,45.39,51.93,48.44,43.64,47.57,51.93,50.62,82.21,82.59,65.8,100.0,36.66,35.35,51.93,100.0,100.0,100.0,100.0,100.0,94.92,100.0,100.0,100.0,94.92,100.0,100.0,100.0,100.0,98.39,100.0,100.0,100.0,100.0,100.0,100.0,71.4,100.0,56.55,100.0,100.0,100.0,100.0,53.31,49.21,69.12,49.79,57.41,66.78,64.44,48.62,62.09,65.61,68.54,52.14,63.85,56.82,66.78,55.07,60.34,61.51,100.0,100.0,100.0,64.93,58.58,60.06,100.0,63.85,82.99,74.85,96.0,81.36,71.6,80.55,93.56,66.72,80.55,77.29,68.34,72.41,89.5,70.78,78.92,80.55,88.68,77.29,100.0,100.0,100.0,100.0,100.0,100.0,68.34,70.67,76.67,60.0,64.0,64.67,75.34,76.0,54.0,64.67,74.67,62.67,70.67,71.34,62.0,65.34,78.67,75.34,54.0,62.0,60.0,100.0,76.67,100.0,77.34,66.67,71.34,100.0,82.21,77.64,100.0,100.0,98.65,83.12,78.55,100.0,100.0,91.34,84.03,89.51,83.12,100.0,100.0,82.21,100.0,88.6,100.0,60.54,81.87,100.0,87.69,100.0,91.34,70.15,79.68,97.0,84.01,87.48,100.0,88.34,94.4,94.4,80.55,97.0,88.34,100.0,100.0,86.61,71.89,91.81,76.22,100.0,70.3,100.0,100.0,100.0,80.55,100.0,100.0,94.14,85.99,100.0,91.43,100.0,96.86,99.57,90.52,88.71,100.0,95.95,94.14,90.52,94.14,100.0,97.76,93.24,100.0,71.25,100.0,45.39,84.41,85.76,100.0,87.8,95.95,100.0,100.0,100.0,82.77,100.0,100.0,87.75,100.0,99.72,87.75,88.75,100.0,90.75,100.0,100.0,100.0,88.75,100.0,100.0,87.75,100.0,100.0,100.0,83.84,86.76,88.75,100.0,65.77,65.77,85.29,85.29,64.33,70.11,76.62,57.82,78.79,74.45,80.95,82.4,75.89,68.67,62.16,65.77,58.55,75.17,74.45,96.31,74.35,75.35,70.33,100.0,66.5,75.89,100.0,100.0,100.0,100.0,100.0,81.93,85.98,86.99,89.01,100.0,88.0,100.0,100.0,80.92,88.0,85.98,100.0,100.0,99.13,100.0,100.0,82.83,100.0,100.0,54.84,100.0,80.92,100.0,100.0,99.67,100.0,100.0,100.0,100.0,100.0,96.11,100.0,100.0,100.0,100.0,100.0,100.0,100.0,100.0,100.0,68.8,72.42,66.73,100.0,100.0,96.11,100.0,74.4,76.0,96.0,86.4,96.0,82.4,86.4,67.2,92.0,67.2,76.0,73.6,69.6,80.8,87.2,75.2,64.0,100.0,81.95,100.0,100.0,94.34,65.6,92.0,67.2,81.14,100.0,91.15,100.0,88.15,100.0,92.16,100.0,92.16,100.0,100.0,96.16,100.0,88.15,86.15,88.15,100.0,90.15,86.15,80.0,89.38,77.34,96.34,92.08,100.0,100.0,100.0,83.42,85.41,85.41,100.0,100.0,100.0,79.45,93.35,85.41,95.34,82.43,90.37,81.43,100.0,89.38,100.0,100.0,91.37,86.61,71.89,100.0,100.0,95.48,100.0,90.37,61.44,59.22,85.13,85.87,85.87,82.91,76.25,63.67,70.33,74.03,72.55,62.19,71.07,72.55,64.41,86.62,68.11,62.19,85.87,57.86,75.51,100.0,55.62,86.4,87.36,72.55,62.19,52.64,48.17,41.71,50.65,49.16,41.71,51.15,52.14,41.71,44.69,45.69,57.61,57.11,58.6,57.61,45.19,53.63,43.7,86.13,76.31,52.64,95.2,64.97,87.15,40.22,56.12,57.61,56.78,43.68,64.97,44.23,60.06,48.59,50.23,64.43,50.23,63.88,63.34,49.69,65.52,50.78,45.86,51.32,60.06,59.51,55.69,86.74,97.16,100.0,100.0,100.0,62.24,65.52],\"type\":\"scatter3d\"}],                        {\"template\":{\"data\":{\"histogram2dcontour\":[{\"type\":\"histogram2dcontour\",\"colorbar\":{\"outlinewidth\":0,\"ticks\":\"\"},\"colorscale\":[[0.0,\"#0d0887\"],[0.1111111111111111,\"#46039f\"],[0.2222222222222222,\"#7201a8\"],[0.3333333333333333,\"#9c179e\"],[0.4444444444444444,\"#bd3786\"],[0.5555555555555556,\"#d8576b\"],[0.6666666666666666,\"#ed7953\"],[0.7777777777777778,\"#fb9f3a\"],[0.8888888888888888,\"#fdca26\"],[1.0,\"#f0f921\"]]}],\"choropleth\":[{\"type\":\"choropleth\",\"colorbar\":{\"outlinewidth\":0,\"ticks\":\"\"}}],\"histogram2d\":[{\"type\":\"histogram2d\",\"colorbar\":{\"outlinewidth\":0,\"ticks\":\"\"},\"colorscale\":[[0.0,\"#0d0887\"],[0.1111111111111111,\"#46039f\"],[0.2222222222222222,\"#7201a8\"],[0.3333333333333333,\"#9c179e\"],[0.4444444444444444,\"#bd3786\"],[0.5555555555555556,\"#d8576b\"],[0.6666666666666666,\"#ed7953\"],[0.7777777777777778,\"#fb9f3a\"],[0.8888888888888888,\"#fdca26\"],[1.0,\"#f0f921\"]]}],\"heatmap\":[{\"type\":\"heatmap\",\"colorbar\":{\"outlinewidth\":0,\"ticks\":\"\"},\"colorscale\":[[0.0,\"#0d0887\"],[0.1111111111111111,\"#46039f\"],[0.2222222222222222,\"#7201a8\"],[0.3333333333333333,\"#9c179e\"],[0.4444444444444444,\"#bd3786\"],[0.5555555555555556,\"#d8576b\"],[0.6666666666666666,\"#ed7953\"],[0.7777777777777778,\"#fb9f3a\"],[0.8888888888888888,\"#fdca26\"],[1.0,\"#f0f921\"]]}],\"heatmapgl\":[{\"type\":\"heatmapgl\",\"colorbar\":{\"outlinewidth\":0,\"ticks\":\"\"},\"colorscale\":[[0.0,\"#0d0887\"],[0.1111111111111111,\"#46039f\"],[0.2222222222222222,\"#7201a8\"],[0.3333333333333333,\"#9c179e\"],[0.4444444444444444,\"#bd3786\"],[0.5555555555555556,\"#d8576b\"],[0.6666666666666666,\"#ed7953\"],[0.7777777777777778,\"#fb9f3a\"],[0.8888888888888888,\"#fdca26\"],[1.0,\"#f0f921\"]]}],\"contourcarpet\":[{\"type\":\"contourcarpet\",\"colorbar\":{\"outlinewidth\":0,\"ticks\":\"\"}}],\"contour\":[{\"type\":\"contour\",\"colorbar\":{\"outlinewidth\":0,\"ticks\":\"\"},\"colorscale\":[[0.0,\"#0d0887\"],[0.1111111111111111,\"#46039f\"],[0.2222222222222222,\"#7201a8\"],[0.3333333333333333,\"#9c179e\"],[0.4444444444444444,\"#bd3786\"],[0.5555555555555556,\"#d8576b\"],[0.6666666666666666,\"#ed7953\"],[0.7777777777777778,\"#fb9f3a\"],[0.8888888888888888,\"#fdca26\"],[1.0,\"#f0f921\"]]}],\"surface\":[{\"type\":\"surface\",\"colorbar\":{\"outlinewidth\":0,\"ticks\":\"\"},\"colorscale\":[[0.0,\"#0d0887\"],[0.1111111111111111,\"#46039f\"],[0.2222222222222222,\"#7201a8\"],[0.3333333333333333,\"#9c179e\"],[0.4444444444444444,\"#bd3786\"],[0.5555555555555556,\"#d8576b\"],[0.6666666666666666,\"#ed7953\"],[0.7777777777777778,\"#fb9f3a\"],[0.8888888888888888,\"#fdca26\"],[1.0,\"#f0f921\"]]}],\"mesh3d\":[{\"type\":\"mesh3d\",\"colorbar\":{\"outlinewidth\":0,\"ticks\":\"\"}}],\"scatter\":[{\"fillpattern\":{\"fillmode\":\"overlay\",\"size\":10,\"solidity\":0.2},\"type\":\"scatter\"}],\"parcoords\":[{\"type\":\"parcoords\",\"line\":{\"colorbar\":{\"outlinewidth\":0,\"ticks\":\"\"}}}],\"scatterpolargl\":[{\"type\":\"scatterpolargl\",\"marker\":{\"colorbar\":{\"outlinewidth\":0,\"ticks\":\"\"}}}],\"bar\":[{\"error_x\":{\"color\":\"#2a3f5f\"},\"error_y\":{\"color\":\"#2a3f5f\"},\"marker\":{\"line\":{\"color\":\"#E5ECF6\",\"width\":0.5},\"pattern\":{\"fillmode\":\"overlay\",\"size\":10,\"solidity\":0.2}},\"type\":\"bar\"}],\"scattergeo\":[{\"type\":\"scattergeo\",\"marker\":{\"colorbar\":{\"outlinewidth\":0,\"ticks\":\"\"}}}],\"scatterpolar\":[{\"type\":\"scatterpolar\",\"marker\":{\"colorbar\":{\"outlinewidth\":0,\"ticks\":\"\"}}}],\"histogram\":[{\"marker\":{\"pattern\":{\"fillmode\":\"overlay\",\"size\":10,\"solidity\":0.2}},\"type\":\"histogram\"}],\"scattergl\":[{\"type\":\"scattergl\",\"marker\":{\"colorbar\":{\"outlinewidth\":0,\"ticks\":\"\"}}}],\"scatter3d\":[{\"type\":\"scatter3d\",\"line\":{\"colorbar\":{\"outlinewidth\":0,\"ticks\":\"\"}},\"marker\":{\"colorbar\":{\"outlinewidth\":0,\"ticks\":\"\"}}}],\"scattermapbox\":[{\"type\":\"scattermapbox\",\"marker\":{\"colorbar\":{\"outlinewidth\":0,\"ticks\":\"\"}}}],\"scatterternary\":[{\"type\":\"scatterternary\",\"marker\":{\"colorbar\":{\"outlinewidth\":0,\"ticks\":\"\"}}}],\"scattercarpet\":[{\"type\":\"scattercarpet\",\"marker\":{\"colorbar\":{\"outlinewidth\":0,\"ticks\":\"\"}}}],\"carpet\":[{\"aaxis\":{\"endlinecolor\":\"#2a3f5f\",\"gridcolor\":\"white\",\"linecolor\":\"white\",\"minorgridcolor\":\"white\",\"startlinecolor\":\"#2a3f5f\"},\"baxis\":{\"endlinecolor\":\"#2a3f5f\",\"gridcolor\":\"white\",\"linecolor\":\"white\",\"minorgridcolor\":\"white\",\"startlinecolor\":\"#2a3f5f\"},\"type\":\"carpet\"}],\"table\":[{\"cells\":{\"fill\":{\"color\":\"#EBF0F8\"},\"line\":{\"color\":\"white\"}},\"header\":{\"fill\":{\"color\":\"#C8D4E3\"},\"line\":{\"color\":\"white\"}},\"type\":\"table\"}],\"barpolar\":[{\"marker\":{\"line\":{\"color\":\"#E5ECF6\",\"width\":0.5},\"pattern\":{\"fillmode\":\"overlay\",\"size\":10,\"solidity\":0.2}},\"type\":\"barpolar\"}],\"pie\":[{\"automargin\":true,\"type\":\"pie\"}]},\"layout\":{\"autotypenumbers\":\"strict\",\"colorway\":[\"#636efa\",\"#EF553B\",\"#00cc96\",\"#ab63fa\",\"#FFA15A\",\"#19d3f3\",\"#FF6692\",\"#B6E880\",\"#FF97FF\",\"#FECB52\"],\"font\":{\"color\":\"#2a3f5f\"},\"hovermode\":\"closest\",\"hoverlabel\":{\"align\":\"left\"},\"paper_bgcolor\":\"white\",\"plot_bgcolor\":\"#E5ECF6\",\"polar\":{\"bgcolor\":\"#E5ECF6\",\"angularaxis\":{\"gridcolor\":\"white\",\"linecolor\":\"white\",\"ticks\":\"\"},\"radialaxis\":{\"gridcolor\":\"white\",\"linecolor\":\"white\",\"ticks\":\"\"}},\"ternary\":{\"bgcolor\":\"#E5ECF6\",\"aaxis\":{\"gridcolor\":\"white\",\"linecolor\":\"white\",\"ticks\":\"\"},\"baxis\":{\"gridcolor\":\"white\",\"linecolor\":\"white\",\"ticks\":\"\"},\"caxis\":{\"gridcolor\":\"white\",\"linecolor\":\"white\",\"ticks\":\"\"}},\"coloraxis\":{\"colorbar\":{\"outlinewidth\":0,\"ticks\":\"\"}},\"colorscale\":{\"sequential\":[[0.0,\"#0d0887\"],[0.1111111111111111,\"#46039f\"],[0.2222222222222222,\"#7201a8\"],[0.3333333333333333,\"#9c179e\"],[0.4444444444444444,\"#bd3786\"],[0.5555555555555556,\"#d8576b\"],[0.6666666666666666,\"#ed7953\"],[0.7777777777777778,\"#fb9f3a\"],[0.8888888888888888,\"#fdca26\"],[1.0,\"#f0f921\"]],\"sequentialminus\":[[0.0,\"#0d0887\"],[0.1111111111111111,\"#46039f\"],[0.2222222222222222,\"#7201a8\"],[0.3333333333333333,\"#9c179e\"],[0.4444444444444444,\"#bd3786\"],[0.5555555555555556,\"#d8576b\"],[0.6666666666666666,\"#ed7953\"],[0.7777777777777778,\"#fb9f3a\"],[0.8888888888888888,\"#fdca26\"],[1.0,\"#f0f921\"]],\"diverging\":[[0,\"#8e0152\"],[0.1,\"#c51b7d\"],[0.2,\"#de77ae\"],[0.3,\"#f1b6da\"],[0.4,\"#fde0ef\"],[0.5,\"#f7f7f7\"],[0.6,\"#e6f5d0\"],[0.7,\"#b8e186\"],[0.8,\"#7fbc41\"],[0.9,\"#4d9221\"],[1,\"#276419\"]]},\"xaxis\":{\"gridcolor\":\"white\",\"linecolor\":\"white\",\"ticks\":\"\",\"title\":{\"standoff\":15},\"zerolinecolor\":\"white\",\"automargin\":true,\"zerolinewidth\":2},\"yaxis\":{\"gridcolor\":\"white\",\"linecolor\":\"white\",\"ticks\":\"\",\"title\":{\"standoff\":15},\"zerolinecolor\":\"white\",\"automargin\":true,\"zerolinewidth\":2},\"scene\":{\"xaxis\":{\"backgroundcolor\":\"#E5ECF6\",\"gridcolor\":\"white\",\"linecolor\":\"white\",\"showbackground\":true,\"ticks\":\"\",\"zerolinecolor\":\"white\",\"gridwidth\":2},\"yaxis\":{\"backgroundcolor\":\"#E5ECF6\",\"gridcolor\":\"white\",\"linecolor\":\"white\",\"showbackground\":true,\"ticks\":\"\",\"zerolinecolor\":\"white\",\"gridwidth\":2},\"zaxis\":{\"backgroundcolor\":\"#E5ECF6\",\"gridcolor\":\"white\",\"linecolor\":\"white\",\"showbackground\":true,\"ticks\":\"\",\"zerolinecolor\":\"white\",\"gridwidth\":2}},\"shapedefaults\":{\"line\":{\"color\":\"#2a3f5f\"}},\"annotationdefaults\":{\"arrowcolor\":\"#2a3f5f\",\"arrowhead\":0,\"arrowwidth\":1},\"geo\":{\"bgcolor\":\"white\",\"landcolor\":\"#E5ECF6\",\"subunitcolor\":\"white\",\"showland\":true,\"showlakes\":true,\"lakecolor\":\"white\"},\"title\":{\"x\":0.05},\"mapbox\":{\"style\":\"light\"}}},\"scene\":{\"domain\":{\"x\":[0.0,1.0],\"y\":[0.0,1.0]},\"xaxis\":{\"title\":{\"text\":\"col1\"}},\"yaxis\":{\"title\":{\"text\":\"col2\"}},\"zaxis\":{\"title\":{\"text\":\"col3\"}}},\"coloraxis\":{\"colorbar\":{\"title\":{\"text\":\"label\"}},\"colorscale\":[[0.0,\"#0d0887\"],[0.1111111111111111,\"#46039f\"],[0.2222222222222222,\"#7201a8\"],[0.3333333333333333,\"#9c179e\"],[0.4444444444444444,\"#bd3786\"],[0.5555555555555556,\"#d8576b\"],[0.6666666666666666,\"#ed7953\"],[0.7777777777777778,\"#fb9f3a\"],[0.8888888888888888,\"#fdca26\"],[1.0,\"#f0f921\"]]},\"legend\":{\"tracegroupgap\":0},\"margin\":{\"t\":60}},                        {\"responsive\": true}                    ).then(function(){\n",
              "                            \n",
              "var gd = document.getElementById('62bf7423-33f4-4d15-b7ba-651ecb42ed85');\n",
              "var x = new MutationObserver(function (mutations, observer) {{\n",
              "        var display = window.getComputedStyle(gd).display;\n",
              "        if (!display || display === 'none') {{\n",
              "            console.log([gd, 'removed!']);\n",
              "            Plotly.purge(gd);\n",
              "            observer.disconnect();\n",
              "        }}\n",
              "}});\n",
              "\n",
              "// Listen for the removal of the full notebook cells\n",
              "var notebookContainer = gd.closest('#notebook-container');\n",
              "if (notebookContainer) {{\n",
              "    x.observe(notebookContainer, {childList: true});\n",
              "}}\n",
              "\n",
              "// Listen for the clearing of the current output cell\n",
              "var outputEl = gd.closest('.output');\n",
              "if (outputEl) {{\n",
              "    x.observe(outputEl, {childList: true});\n",
              "}}\n",
              "\n",
              "                        })                };                            </script>        </div>\n",
              "</body>\n",
              "</html>"
            ]
          },
          "metadata": {}
        }
      ]
    },
    {
      "cell_type": "code",
      "source": [],
      "metadata": {
        "id": "ZFDNxC0egIdM"
      },
      "execution_count": null,
      "outputs": []
    }
  ]
}